{
  "cells": [
    {
      "cell_type": "code",
      "execution_count": null,
      "metadata": {
        "colab": {
          "base_uri": "https://localhost:8080/"
        },
        "id": "CzLu1Mo00Ko-",
        "outputId": "bcdf865c-782e-47c1-9761-6e0869dd9d43"
      },
      "outputs": [],
      "source": [
        "# prompt: mount with drive and access a folder for dataset importing\n",
        "\n",
        "from google.colab import drive\n",
        "drive.mount('/content/drive')\n",
        "\n",
        "\n",
        "# Replace 'path/to/your/dataset' with the actual path to your dataset in Google Drive\n",
        "# data = pd.read_csv('/content/drive/My Drive/path/to/your/dataset/your_file.csv')\n",
        "# print(data.head())\n"
      ]
    },
    {
      "cell_type": "code",
      "execution_count": 2,
      "metadata": {
        "id": "x869AcxX1omt"
      },
      "outputs": [],
      "source": [
        "import json\n",
        "import csv\n",
        "import pandas as pd\n",
        "import numpy as np\n",
        "from collections import defaultdict\n",
        "\n",
        "# folder_path='/content/drive/My Drive/DataExtractor/'\n",
        "folder_path=''\n",
        "# Load JSON data\n",
        "with open(folder_path+\"23_batch_data.json\", \"r\") as json_file:\n",
        "    data = json.load(json_file)\n",
        "    \n",
        "folder = folder_path+\"23_batch_data/\""
      ]
    },
    {
      "cell_type": "code",
      "execution_count": 3,
      "metadata": {
        "colab": {
          "base_uri": "https://localhost:8080/"
        },
        "id": "74VY2BqVzAJN",
        "outputId": "9abeda4f-f68f-40c1-8a71-1265a1922d85"
      },
      "outputs": [
        {
          "name": "stdout",
          "output_type": "stream",
          "text": [
            "CSV files created successfully!\n"
          ]
        }
      ],
      "source": [
        "\n",
        "entries = []\n",
        "scan_lists = []\n",
        "\n",
        "entry_id = 1\n",
        "scan_id = 1\n",
        "for room_no, room_data in data.items():\n",
        "    for entry in room_data.values():\n",
        "        # Calculate number of scans and average data per scan\n",
        "        scan_list = entry.get(\"ScanList\", [])\n",
        "        num_scans = len(scan_list)\n",
        "\n",
        "        if num_scans == 0:\n",
        "            continue  # Skip entries with 0 scans\n",
        "\n",
        "        avg_data_per_scan = (\n",
        "            sum(len(scan_group) for scan_group in scan_list) / num_scans if num_scans > 0 else 0\n",
        "        )\n",
        "\n",
        "        # Extract metadata for entries.csv\n",
        "        entries.append([\n",
        "            entry_id,\n",
        "            room_no,\n",
        "            entry.get(\"StudentID\"),\n",
        "            entry.get(\"DeviceModel\"),\n",
        "            entry.get(\"BatteryLifeBefore\"),\n",
        "            entry.get(\"BatteryLifeAfter\"),\n",
        "            entry.get(\"DateTime\"),\n",
        "            num_scans,\n",
        "            round(avg_data_per_scan, 2)  # Rounded to 2 decimal places\n",
        "        ])\n",
        "\n",
        "        # Extract scan list for scan_lists.csv\n",
        "        for group_index, scan_group in enumerate(scan_list):\n",
        "            for scan in scan_group:\n",
        "                scan_lists.append([\n",
        "                    scan_id,\n",
        "                    entry_id,\n",
        "                    group_index,\n",
        "                    scan.get(\"Frequency\"),\n",
        "                    scan.get(\"MacAddress\"),\n",
        "                    scan.get(\"SSID\"),\n",
        "                    scan.get(\"Strength\")\n",
        "                ])\n",
        "                scan_id += 1\n",
        "\n",
        "        entry_id += 1\n",
        "\n",
        "\n",
        "# Write entries.csv\n",
        "with open(folder + \"entries.csv\", \"w\", newline=\"\") as entries_file:\n",
        "    writer = csv.writer(entries_file)\n",
        "    writer.writerow([\"entryId\", \"roomNo\", \"StudentID\", \"DeviceModel\", \"BatteryLifeBefore\", \"BatteryLifeAfter\", \"DateTime\", \"NumScans\", \"AvgDataPerScan\"])\n",
        "    writer.writerows(entries)\n",
        "\n",
        "# Write scan_lists.csv\n",
        "with open(folder + \"scan_lists.csv\", \"w\", newline=\"\") as scan_lists_file:\n",
        "    writer = csv.writer(scan_lists_file)\n",
        "    writer.writerow([\"scanId\", \"entryId\", \"scanGroupIndex\", \"Frequency\", \"MacAddress\", \"SSID\", \"Strength\"])\n",
        "    writer.writerows(scan_lists)\n",
        "\n",
        "print(\"CSV files created successfully!\")\n"
      ]
    },
    {
      "cell_type": "code",
      "execution_count": 4,
      "metadata": {
        "colab": {
          "base_uri": "https://localhost:8080/"
        },
        "collapsed": true,
        "id": "l56hz1_s8G_C",
        "outputId": "2ad24d35-f6fc-47ba-ce2c-b46ee9b60f48"
      },
      "outputs": [
        {
          "name": "stdout",
          "output_type": "stream",
          "text": [
            "SSID statistics:\n",
            "SSID: Abrar Zahin's Galaxy A33 5G, Total Count: 457\n",
            "  MAC Addresses and their counts:\n",
            "    MAC: 3e:92:f7:29:0d:11, Count: 457\n",
            "\n",
            "SSID: Pixel, Total Count: 840\n",
            "  MAC Addresses and their counts:\n",
            "    MAC: 62:d5:76:41:44:83, Count: 840\n",
            "\n",
            "SSID: Horion_e9, Total Count: 1405\n",
            "  MAC Addresses and their counts:\n",
            "    MAC: 2c:fe:e2:59:d0:c2, Count: 1405\n",
            "\n",
            "SSID: , Total Count: 4398\n",
            "  MAC Addresses and their counts:\n",
            "    MAC: 5c:e9:31:22:bb:0b, Count: 69\n",
            "    MAC: ee:ec:4e:98:5f:81, Count: 287\n",
            "    MAC: 34:60:f9:a1:88:63, Count: 547\n",
            "    MAC: bc:22:28:21:09:21, Count: 641\n",
            "    MAC: 34:60:f9:a1:88:57, Count: 244\n",
            "    MAC: bc:22:28:21:09:22, Count: 560\n",
            "    MAC: 34:60:f9:a1:88:62, Count: 299\n",
            "    MAC: 02:a8:9b:f6:4d:ca, Count: 11\n",
            "    MAC: 1c:61:b4:9c:7a:1a, Count: 215\n",
            "    MAC: 24:2f:d0:88:39:a2, Count: 156\n",
            "    MAC: 1c:61:b4:9c:79:f2, Count: 193\n",
            "    MAC: 36:4b:45:95:4b:ce, Count: 9\n",
            "    MAC: 34:60:f9:a1:8b:8e, Count: 38\n",
            "    MAC: 5c:e9:31:22:bb:0a, Count: 129\n",
            "    MAC: 34:60:f9:a1:88:56, Count: 295\n",
            "    MAC: 82:af:ca:23:cc:9a, Count: 14\n",
            "    MAC: 36:de:4b:67:e3:9a, Count: 6\n",
            "    MAC: 82:af:ca:2c:d6:78, Count: 6\n",
            "    MAC: 3e:64:cf:26:e1:2b, Count: 24\n",
            "    MAC: 4a:22:54:a6:24:d6, Count: 20\n",
            "    MAC: 92:90:2d:74:c1:82, Count: 2\n",
            "    MAC: b2:a7:b9:68:3c:89, Count: 4\n",
            "    MAC: 9e:25:4a:a0:d7:de, Count: 10\n",
            "    MAC: a2:52:b1:d0:08:4c, Count: 2\n",
            "    MAC: 24:2f:d0:88:4c:62, Count: 64\n",
            "    MAC: 24:2f:d0:88:39:a3, Count: 31\n",
            "    MAC: ce:ad:71:f7:d6:3f, Count: 68\n",
            "    MAC: 1c:61:b4:9c:79:f3, Count: 11\n",
            "    MAC: 5c:e9:31:22:bf:97, Count: 1\n",
            "    MAC: 5c:e9:31:22:bf:96, Count: 41\n",
            "    MAC: 98:25:4a:0e:36:5e, Count: 9\n",
            "    MAC: 5c:e9:31:22:be:d6, Count: 55\n",
            "    MAC: 5c:e9:31:22:c8:de, Count: 41\n",
            "    MAC: 82:af:ca:21:95:ea, Count: 2\n",
            "    MAC: 1c:61:b4:9c:7a:1b, Count: 2\n",
            "    MAC: 2e:87:ba:35:8b:ea, Count: 11\n",
            "    MAC: 98:25:4a:0e:32:36, Count: 1\n",
            "    MAC: a2:53:22:81:ff:f2, Count: 1\n",
            "    MAC: 0e:d7:e8:9f:43:24, Count: 1\n",
            "    MAC: 3e:52:a1:24:db:4a, Count: 4\n",
            "    MAC: 52:91:e3:a5:b4:bd, Count: 6\n",
            "    MAC: 34:60:f9:a1:8b:8f, Count: 10\n",
            "    MAC: 66:83:e7:4e:54:6a, Count: 6\n",
            "    MAC: 7a:da:88:f6:5d:8c, Count: 130\n",
            "    MAC: bc:22:28:21:09:b8, Count: 79\n",
            "    MAC: 20:23:51:9c:f5:ae, Count: 4\n",
            "    MAC: 9a:62:f6:0b:eb:84, Count: 1\n",
            "    MAC: bc:22:28:21:55:6c, Count: 36\n",
            "    MAC: bc:22:28:21:70:60, Count: 2\n",
            "\n",
            "SSID: Omi, Total Count: 128\n",
            "  MAC Addresses and their counts:\n",
            "    MAC: 02:59:d2:85:5e:aa, Count: 128\n",
            "\n",
            "SSID: Oggy, Total Count: 599\n",
            "  MAC Addresses and their counts:\n",
            "    MAC: ba:61:33:5d:51:8b, Count: 599\n",
            "\n",
            "SSID: CSE-LAB, Total Count: 454\n",
            "  MAC Addresses and their counts:\n",
            "    MAC: 5e:ea:31:22:bb:0b, Count: 59\n",
            "    MAC: 5e:a9:31:22:bb:0a, Count: 206\n",
            "    MAC: 5e:a9:31:22:be:d6, Count: 85\n",
            "    MAC: 5e:a9:31:22:bf:96, Count: 42\n",
            "    MAC: 5e:a9:31:22:c8:de, Count: 62\n",
            "\n",
            "SSID: DataLab@BUET, Total Count: 468\n",
            "  MAC Addresses and their counts:\n",
            "    MAC: 30:b5:c2:ea:5b:44, Count: 468\n",
            "\n",
            "SSID: AndroidAP, Total Count: 107\n",
            "  MAC Addresses and their counts:\n",
            "    MAC: 5a:d6:bc:29:37:4c, Count: 107\n",
            "\n",
            "SSID: Abhishek's A55, Total Count: 728\n",
            "  MAC Addresses and their counts:\n",
            "    MAC: 7a:ec:99:a0:87:01, Count: 728\n",
            "\n",
            "SSID: DoYouKnow , Total Count: 523\n",
            "  MAC Addresses and their counts:\n",
            "    MAC: 1a:50:a7:f3:20:79, Count: 523\n",
            "\n",
            "SSID: CSE-204, Total Count: 889\n",
            "  MAC Addresses and their counts:\n",
            "    MAC: 00:22:b0:05:f3:bc, Count: 889\n",
            "\n",
            "SSID: CSE OFFICE, Total Count: 2763\n",
            "  MAC Addresses and their counts:\n",
            "    MAC: 36:20:f9:a1:88:62, Count: 524\n",
            "    MAC: 36:62:f9:a1:88:57, Count: 637\n",
            "    MAC: 36:62:f9:a1:88:63, Count: 848\n",
            "    MAC: 36:20:f9:a1:88:56, Count: 600\n",
            "    MAC: 36:20:f9:a1:8b:8e, Count: 141\n",
            "    MAC: 36:62:f9:a1:8b:8f, Count: 13\n",
            "\n",
            "SSID: CSE-303, Total Count: 978\n",
            "  MAC Addresses and their counts:\n",
            "    MAC: 60:63:4c:31:37:40, Count: 978\n",
            "\n",
            "SSID: CSE-304, Total Count: 620\n",
            "  MAC Addresses and their counts:\n",
            "    MAC: 18:0f:76:c3:06:8d, Count: 620\n",
            "\n",
            "SSID: OPPO F21 Pro, Total Count: 340\n",
            "  MAC Addresses and their counts:\n",
            "    MAC: 12:38:f1:f0:25:6e, Count: 340\n",
            "\n",
            "SSID: Mahdi, Total Count: 954\n",
            "  MAC Addresses and their counts:\n",
            "    MAC: 4e:e8:ef:1a:c1:95, Count: 954\n",
            "\n",
            "SSID: getIP().hackDevice(), Total Count: 1344\n",
            "  MAC Addresses and their counts:\n",
            "    MAC: c2:3b:04:a2:01:1f, Count: 1102\n",
            "    MAC: c2:c4:fb:a2:01:1f, Count: 242\n",
            "\n",
            "SSID: dlink, Total Count: 598\n",
            "  MAC Addresses and their counts:\n",
            "    MAC: 60:63:4c:31:37:48, Count: 544\n",
            "    MAC: 60:63:4c:31:37:68, Count: 54\n",
            "\n",
            "SSID: NK, Total Count: 642\n",
            "  MAC Addresses and their counts:\n",
            "    MAC: 7a:ae:58:61:a1:27, Count: 642\n",
            "\n",
            "SSID: moto edge 50 neo_3238, Total Count: 493\n",
            "  MAC Addresses and their counts:\n",
            "    MAC: aa:dc:7e:ea:37:18, Count: 493\n",
            "\n",
            "SSID: Ei j eta amar wifi, Total Count: 531\n",
            "  MAC Addresses and their counts:\n",
            "    MAC: 8e:fa:5f:79:06:05, Count: 531\n",
            "\n",
            "SSID: CSE-306, Total Count: 204\n",
            "  MAC Addresses and their counts:\n",
            "    MAC: 60:63:4c:31:37:60, Count: 204\n",
            "\n",
            "SSID: Redmi Note 13 Pro, Total Count: 586\n",
            "  MAC Addresses and their counts:\n",
            "    MAC: 76:75:55:f3:a7:bd, Count: 535\n",
            "    MAC: 06:f7:98:a7:35:dd, Count: 51\n",
            "\n",
            "SSID: VoSSS, Total Count: 27\n",
            "  MAC Addresses and their counts:\n",
            "    MAC: 3e:4c:aa:f9:d8:98, Count: 27\n",
            "\n",
            "SSID: Anirban, Total Count: 216\n",
            "  MAC Addresses and their counts:\n",
            "    MAC: e2:fd:30:fe:69:73, Count: 216\n",
            "\n",
            "SSID: vivo Y27s, Total Count: 182\n",
            "  MAC Addresses and their counts:\n",
            "    MAC: 8e:94:a9:8d:65:5b, Count: 182\n",
            "\n",
            "SSID: CSE-205, Total Count: 290\n",
            "  MAC Addresses and their counts:\n",
            "    MAC: bc:22:28:21:09:24, Count: 290\n",
            "\n",
            "SSID: Horion_yj, Total Count: 485\n",
            "  MAC Addresses and their counts:\n",
            "    MAC: 56:f1:5f:2e:f3:7a, Count: 485\n",
            "\n",
            "SSID: realme 10, Total Count: 31\n",
            "  MAC Addresses and their counts:\n",
            "    MAC: f6:6b:65:56:e4:88, Count: 30\n",
            "    MAC: e2:3a:1d:9b:69:d1, Count: 1\n",
            "\n",
            "SSID: Tanvir, Total Count: 226\n",
            "  MAC Addresses and their counts:\n",
            "    MAC: 96:21:ee:e2:9f:97, Count: 226\n",
            "\n",
            "SSID: Galaxy S22C48A, Total Count: 189\n",
            "  MAC Addresses and their counts:\n",
            "    MAC: 0a:54:a5:5f:17:37, Count: 189\n",
            "\n",
            "SSID: Redmi Note 10S, Total Count: 242\n",
            "  MAC Addresses and their counts:\n",
            "    MAC: fa:b5:62:5b:af:73, Count: 204\n",
            "    MAC: 0a:a4:66:4c:0e:b0, Count: 37\n",
            "    MAC: f6:f1:eb:90:57:e8, Count: 1\n",
            "\n",
            "SSID: amim, Total Count: 161\n",
            "  MAC Addresses and their counts:\n",
            "    MAC: 8a:c6:f0:bb:61:49, Count: 161\n",
            "\n",
            "SSID: Torr20-tab, Total Count: 97\n",
            "  MAC Addresses and their counts:\n",
            "    MAC: 26:e4:72:86:6b:66, Count: 97\n",
            "\n",
            "SSID: Hall of Fame, Total Count: 310\n",
            "  MAC Addresses and their counts:\n",
            "    MAC: 34:e8:94:10:7d:fa, Count: 310\n",
            "\n",
            "SSID: Room 914, Total Count: 8\n",
            "  MAC Addresses and their counts:\n",
            "    MAC: 10:62:eb:1a:0c:09, Count: 8\n",
            "\n",
            "SSID: realme 9, Total Count: 304\n",
            "  MAC Addresses and their counts:\n",
            "    MAC: 5a:e6:b4:de:a1:ae, Count: 304\n",
            "\n",
            "SSID: Galaxy S23 Ultra 8407, Total Count: 462\n",
            "  MAC Addresses and their counts:\n",
            "    MAC: 46:c4:90:f1:0a:2a, Count: 462\n",
            "\n",
            "SSID: pixel, Total Count: 979\n",
            "  MAC Addresses and their counts:\n",
            "    MAC: c6:10:ef:ee:57:ec, Count: 898\n",
            "    MAC: c6:ef:10:ee:57:ec, Count: 81\n",
            "\n",
            "SSID: narzo 50, Total Count: 30\n",
            "  MAC Addresses and their counts:\n",
            "    MAC: fe:a6:d1:4e:1c:86, Count: 30\n",
            "\n",
            "SSID: CSE-306BL, Total Count: 383\n",
            "  MAC Addresses and their counts:\n",
            "    MAC: 1e:61:b4:ac:7a:1a, Count: 174\n",
            "    MAC: 1e:61:b4:ac:79:f2, Count: 196\n",
            "    MAC: 1e:61:b4:ac:79:f3, Count: 13\n",
            "\n",
            "SSID: Ara, Total Count: 56\n",
            "  MAC Addresses and their counts:\n",
            "    MAC: da:55:41:3a:44:5b, Count: 56\n",
            "\n",
            "SSID: CSE 9, Total Count: 35\n",
            "  MAC Addresses and their counts:\n",
            "    MAC: 02:df:3b:f6:97:11, Count: 35\n",
            "\n",
            "SSID: AlAmin, Total Count: 23\n",
            "  MAC Addresses and their counts:\n",
            "    MAC: 96:26:00:ef:b2:d5, Count: 23\n",
            "\n",
            "SSID: GADA ELECTRONICS, Total Count: 5\n",
            "  MAC Addresses and their counts:\n",
            "    MAC: 7e:5d:23:fc:ca:4a, Count: 5\n",
            "\n",
            "SSID: Juice Pila do. Mosambi Ka! 🥹, Total Count: 137\n",
            "  MAC Addresses and their counts:\n",
            "    MAC: 6a:66:d2:07:a3:61, Count: 137\n",
            "\n",
            "SSID: IAC, Total Count: 245\n",
            "  MAC Addresses and their counts:\n",
            "    MAC: 26:2f:d0:88:39:a2, Count: 147\n",
            "    MAC: 26:2a:d0:88:39:a3, Count: 34\n",
            "    MAC: 26:2f:d0:88:4c:62, Count: 64\n",
            "\n",
            "SSID: Ekta hotspot, Total Count: 175\n",
            "  MAC Addresses and their counts:\n",
            "    MAC: 1a:aa:2b:0a:98:c9, Count: 175\n",
            "\n",
            "SSID: Churoot, Total Count: 95\n",
            "  MAC Addresses and their counts:\n",
            "    MAC: 42:91:83:46:e0:61, Count: 95\n",
            "\n",
            "SSID: Horion_j6, Total Count: 9\n",
            "  MAC Addresses and their counts:\n",
            "    MAC: 56:f1:5f:2e:db:20, Count: 9\n",
            "\n",
            "SSID: Shakshor, Total Count: 342\n",
            "  MAC Addresses and their counts:\n",
            "    MAC: 52:29:6f:70:e8:02, Count: 342\n",
            "\n",
            "SSID: EMC-504, Total Count: 16\n",
            "  MAC Addresses and their counts:\n",
            "    MAC: f4:8c:eb:c5:c7:aa, Count: 16\n",
            "\n",
            "SSID: RBH 204, Total Count: 213\n",
            "  MAC Addresses and their counts:\n",
            "    MAC: bc:62:ce:6a:3a:2a, Count: 213\n",
            "\n",
            "SSID: Norse Network, Total Count: 61\n",
            "  MAC Addresses and their counts:\n",
            "    MAC: e6:03:58:bb:71:13, Count: 61\n",
            "\n",
            "SSID: realme 9 Pro 5G, Total Count: 32\n",
            "  MAC Addresses and their counts:\n",
            "    MAC: 5e:75:bf:7f:f2:e4, Count: 32\n",
            "\n",
            "SSID: Galaxy A324007, Total Count: 48\n",
            "  MAC Addresses and their counts:\n",
            "    MAC: 4e:1d:99:39:cc:3e, Count: 48\n",
            "\n",
            "SSID: Free, Total Count: 147\n",
            "  MAC Addresses and their counts:\n",
            "    MAC: 5c:e8:d3:0a:1e:e0, Count: 146\n",
            "    MAC: , Count: 1\n",
            "\n",
            "SSID: CSE-G04, Total Count: 219\n",
            "  MAC Addresses and their counts:\n",
            "    MAC: 10:62:eb:77:b7:42, Count: 219\n",
            "\n",
            "SSID: CSE-104, Total Count: 484\n",
            "  MAC Addresses and their counts:\n",
            "    MAC: bc:22:28:21:55:6e, Count: 409\n",
            "    MAC: bc:22:28:21:55:6b, Count: 75\n",
            "\n",
            "SSID: Redmi 11 Prime, Total Count: 16\n",
            "  MAC Addresses and their counts:\n",
            "    MAC: 56:77:3d:1c:98:93, Count: 16\n",
            "\n",
            "SSID: Room-912, Total Count: 1\n",
            "  MAC Addresses and their counts:\n",
            "    MAC: 4c:ed:fb:d1:5a:d8, Count: 1\n",
            "\n",
            "SSID: Z60, Total Count: 46\n",
            "  MAC Addresses and their counts:\n",
            "    MAC: c6:99:bb:89:07:d5, Count: 46\n",
            "\n",
            "SSID: Abeer, Total Count: 2\n",
            "  MAC Addresses and their counts:\n",
            "    MAC: b0:a7:b9:68:3c:89, Count: 2\n",
            "\n",
            "SSID: Palash, Total Count: 2\n",
            "  MAC Addresses and their counts:\n",
            "    MAC: f0:09:0d:f1:49:52, Count: 2\n",
            "\n",
            "SSID: GGWP, Total Count: 12\n",
            "  MAC Addresses and their counts:\n",
            "    MAC: 9c:a2:f4:bb:85:07, Count: 12\n",
            "\n",
            "SSID: Rs ONLINE , Total Count: 4\n",
            "  MAC Addresses and their counts:\n",
            "    MAC: 3c:64:cf:66:e1:2b, Count: 4\n",
            "\n",
            "SSID: Aroush Sweet Home, Total Count: 4\n",
            "  MAC Addresses and their counts:\n",
            "    MAC: 5c:62:8b:dd:1d:92, Count: 4\n",
            "\n",
            "SSID: RTS Design, Total Count: 36\n",
            "  MAC Addresses and their counts:\n",
            "    MAC: 00:72:63:dd:75:a6, Count: 36\n",
            "\n",
            "SSID: Papri, Total Count: 4\n",
            "  MAC Addresses and their counts:\n",
            "    MAC: d8:32:14:1b:b6:d0, Count: 4\n",
            "\n",
            "SSID: A.s, Total Count: 12\n",
            "  MAC Addresses and their counts:\n",
            "    MAC: cc:2d:21:23:93:48, Count: 12\n",
            "\n",
            "SSID: Rana @ Power Link, Total Count: 4\n",
            "  MAC Addresses and their counts:\n",
            "    MAC: 28:87:ba:8d:38:8a, Count: 4\n",
            "\n",
            "SSID: Mafuz, Total Count: 30\n",
            "  MAC Addresses and their counts:\n",
            "    MAC: 04:ba:d6:13:d6:70, Count: 30\n",
            "\n",
            "SSID: Saidul, Total Count: 58\n",
            "  MAC Addresses and their counts:\n",
            "    MAC: 60:32:b1:2e:30:67, Count: 26\n",
            "    MAC: 60:32:b1:2e:30:68, Count: 32\n",
            "\n",
            "SSID: lsakmia, Total Count: 6\n",
            "  MAC Addresses and their counts:\n",
            "    MAC: c4:71:54:ba:f1:ec, Count: 6\n",
            "\n",
            "SSID: No Wifi Found 5, Total Count: 36\n",
            "  MAC Addresses and their counts:\n",
            "    MAC: 28:87:ba:5a:ad:9d, Count: 36\n",
            "\n",
            "SSID: No Wifi Found2.4, Total Count: 36\n",
            "  MAC Addresses and their counts:\n",
            "    MAC: 28:87:ba:5a:ad:9e, Count: 36\n",
            "\n",
            "SSID: Cat House, Total Count: 30\n",
            "  MAC Addresses and their counts:\n",
            "    MAC: dc:62:79:e3:08:dd, Count: 30\n",
            "\n",
            "SSID: Adiba, Total Count: 32\n",
            "  MAC Addresses and their counts:\n",
            "    MAC: 0c:80:63:fb:34:c8, Count: 32\n",
            "\n",
            "SSID: Zayan, Total Count: 8\n",
            "  MAC Addresses and their counts:\n",
            "    MAC: 80:af:ca:0c:d6:78, Count: 8\n",
            "\n",
            "SSID: Marufa, Total Count: 2\n",
            "  MAC Addresses and their counts:\n",
            "    MAC: a0:47:d7:3b:39:91, Count: 2\n",
            "\n",
            "SSID: TUSHAR-SB, Total Count: 2\n",
            "  MAC Addresses and their counts:\n",
            "    MAC: 50:0f:f5:36:c6:a1, Count: 2\n",
            "\n",
            "SSID: Abdullah, Total Count: 2\n",
            "  MAC Addresses and their counts:\n",
            "    MAC: 08:40:f3:a0:bd:78, Count: 2\n",
            "\n",
            "SSID: Ayat, Total Count: 14\n",
            "  MAC Addresses and their counts:\n",
            "    MAC: 30:de:4b:67:e3:9a, Count: 14\n",
            "\n",
            "SSID: BIDDUT, Total Count: 26\n",
            "  MAC Addresses and their counts:\n",
            "    MAC: 7c:8b:ca:7e:df:a6, Count: 26\n",
            "\n",
            "SSID: Hadis, Total Count: 2\n",
            "  MAC Addresses and their counts:\n",
            "    MAC: b0:4e:26:2a:0c:46, Count: 2\n",
            "\n",
            "SSID: Rahul, Total Count: 24\n",
            "  MAC Addresses and their counts:\n",
            "    MAC: 3c:84:6a:19:24:66, Count: 24\n",
            "\n",
            "SSID: Feona, Total Count: 22\n",
            "  MAC Addresses and their counts:\n",
            "    MAC: 24:2f:d0:3a:ec:be, Count: 22\n",
            "\n",
            "SSID: Sohan, Total Count: 20\n",
            "  MAC Addresses and their counts:\n",
            "    MAC: d4:6e:0e:ec:18:d0, Count: 20\n",
            "\n",
            "SSID: Mrs overseas , Total Count: 22\n",
            "  MAC Addresses and their counts:\n",
            "    MAC: 9c:a2:f4:99:01:2e, Count: 22\n",
            "\n",
            "SSID: Rubel  WiFi, Total Count: 22\n",
            "  MAC Addresses and their counts:\n",
            "    MAC: e0:1c:fc:44:02:38, Count: 22\n",
            "\n",
            "SSID: TP-Link_Guest_012E, Total Count: 22\n",
            "  MAC Addresses and their counts:\n",
            "    MAC: 9e:a2:f4:99:01:2e, Count: 22\n",
            "\n",
            "SSID: Nantu, Total Count: 20\n",
            "  MAC Addresses and their counts:\n",
            "    MAC: 48:22:54:b6:24:d6, Count: 20\n",
            "\n",
            "SSID: Sagor, Total Count: 20\n",
            "  MAC Addresses and their counts:\n",
            "    MAC: b4:b0:24:44:17:fa, Count: 20\n",
            "\n",
            "SSID: Rakib, Total Count: 8\n",
            "  MAC Addresses and their counts:\n",
            "    MAC: 70:4f:57:54:a4:b6, Count: 8\n",
            "\n",
            "SSID: ҒʀᴇᴇꔪꪝɪҒɪ☣️, Total Count: 10\n",
            "  MAC Addresses and their counts:\n",
            "    MAC: 98:25:4a:a0:d7:de, Count: 10\n",
            "\n",
            "SSID: Tora ar jalais na, Total Count: 10\n",
            "  MAC Addresses and their counts:\n",
            "    MAC: c4:e9:84:31:23:34, Count: 10\n",
            "\n",
            "SSID: Khurshid, Total Count: 10\n",
            "  MAC Addresses and their counts:\n",
            "    MAC: 24:2f:d0:39:2e:85, Count: 10\n",
            "\n",
            "SSID: Liman, Total Count: 10\n",
            "  MAC Addresses and their counts:\n",
            "    MAC: 80:af:ca:33:cc:9a, Count: 10\n",
            "\n",
            "SSID: DIR-615-2AF3, Total Count: 4\n",
            "  MAC Addresses and their counts:\n",
            "    MAC: bc:0f:9a:21:2a:f4, Count: 4\n",
            "\n",
            "SSID: Zia, Total Count: 2\n",
            "  MAC Addresses and their counts:\n",
            "    MAC: 3c:84:6a:88:81:00, Count: 2\n",
            "\n",
            "SSID: Solaiman, Total Count: 4\n",
            "  MAC Addresses and their counts:\n",
            "    MAC: 50:0f:f5:30:23:88, Count: 4\n",
            "\n",
            "SSID: MR Galaxy, Total Count: 2\n",
            "  MAC Addresses and their counts:\n",
            "    MAC: c4:e9:0a:60:4c:e6, Count: 2\n",
            "\n",
            "SSID: Raiyan, Total Count: 4\n",
            "  MAC Addresses and their counts:\n",
            "    MAC: 74:da:88:bf:ce:ac, Count: 4\n",
            "\n",
            "SSID: Tofajjol, Total Count: 8\n",
            "  MAC Addresses and their counts:\n",
            "    MAC: b0:a7:b9:30:d4:c4, Count: 8\n",
            "\n",
            "SSID: Sarwar sgt, Total Count: 2\n",
            "  MAC Addresses and their counts:\n",
            "    MAC: 58:d5:6e:e9:7a:24, Count: 2\n",
            "\n",
            "SSID: 3A, Total Count: 2\n",
            "  MAC Addresses and their counts:\n",
            "    MAC: bc:62:ce:9d:c5:f6, Count: 2\n",
            "\n",
            "SSID: Madhouse, Total Count: 2\n",
            "  MAC Addresses and their counts:\n",
            "    MAC: f0:b4:d2:0d:16:47, Count: 2\n",
            "\n",
            "SSID: Mahmud, Total Count: 6\n",
            "  MAC Addresses and their counts:\n",
            "    MAC: 68:ff:7b:4b:d9:72, Count: 6\n",
            "\n",
            "SSID: Redmi Note 12 Pro, Total Count: 6\n",
            "  MAC Addresses and their counts:\n",
            "    MAC: d6:e6:83:e5:58:d7, Count: 6\n",
            "\n",
            "SSID: ROOM-713, Total Count: 30\n",
            "  MAC Addresses and their counts:\n",
            "    MAC: 34:0a:33:6a:24:5e, Count: 30\n",
            "\n",
            "SSID: Serendipity, Total Count: 2\n",
            "  MAC Addresses and their counts:\n",
            "    MAC: c0:a5:dd:1a:7d:94, Count: 2\n",
            "\n",
            "SSID: POCO F6_5655, Total Count: 6\n",
            "  MAC Addresses and their counts:\n",
            "    MAC: 56:e7:d9:61:73:ec, Count: 6\n",
            "\n",
            "SSID: Thuja, Total Count: 2\n",
            "  MAC Addresses and their counts:\n",
            "    MAC: b6:aa:61:51:66:ce, Count: 2\n",
            "\n",
            "SSID: realme C55, Total Count: 2\n",
            "  MAC Addresses and their counts:\n",
            "    MAC: 06:83:23:26:49:51, Count: 2\n",
            "\n",
            "SSID: Galaxy A30s40BC, Total Count: 7\n",
            "  MAC Addresses and their counts:\n",
            "    MAC: 3e:46:39:33:ac:0b, Count: 7\n",
            "\n",
            "SSID: Room709, Total Count: 4\n",
            "  MAC Addresses and their counts:\n",
            "    MAC: e8:65:d4:52:b3:b0, Count: 4\n",
            "\n",
            "SSID: 00002DhkSknAp1, Total Count: 8\n",
            "  MAC Addresses and their counts:\n",
            "    MAC: 00:04:56:fe:23:e7, Count: 8\n",
            "\n",
            "SSID: BUET-Free-WiFi, Total Count: 310\n",
            "  MAC Addresses and their counts:\n",
            "    MAC: 70:4c:a5:f5:9b:88, Count: 3\n",
            "    MAC: 70:4c:a5:95:b6:00, Count: 5\n",
            "    MAC: 70:4c:a5:95:a4:20, Count: 4\n",
            "    MAC: 70:4c:a5:95:b2:d8, Count: 2\n",
            "    MAC: 70:4c:a5:95:b2:d0, Count: 14\n",
            "    MAC: 70:4c:a5:64:bf:18, Count: 116\n",
            "    MAC: 70:4c:a5:95:a4:18, Count: 6\n",
            "    MAC: 70:4c:a5:95:af:70, Count: 6\n",
            "    MAC: 70:4c:a5:64:bc:60, Count: 132\n",
            "    MAC: 70:4c:a5:d3:60:40, Count: 5\n",
            "    MAC: 70:4c:a5:95:92:f0, Count: 17\n",
            "\n",
            "SSID: CSE-108, Total Count: 209\n",
            "  MAC Addresses and their counts:\n",
            "    MAC: 00:22:b0:05:f3:51, Count: 209\n",
            "\n",
            "SSID: 1006 5G, Total Count: 3\n",
            "  MAC Addresses and their counts:\n",
            "    MAC: 98:25:4a:f1:3a:ed, Count: 3\n",
            "\n",
            "SSID: ROOM-513, Total Count: 5\n",
            "  MAC Addresses and their counts:\n",
            "    MAC: 0c:80:63:b5:d6:d2, Count: 5\n",
            "\n",
            "SSID: Horion_dx, Total Count: 123\n",
            "  MAC Addresses and their counts:\n",
            "    MAC: 56:f1:5f:72:68:1c, Count: 123\n",
            "\n",
            "SSID: narzo 50 Pro 5G, Total Count: 67\n",
            "  MAC Addresses and their counts:\n",
            "    MAC: 56:b0:f4:42:18:c1, Count: 67\n",
            "\n",
            "SSID: Imran_Fast Network_01708529844, Total Count: 20\n",
            "  MAC Addresses and their counts:\n",
            "    MAC: c8:e7:d8:89:f1:a6, Count: 20\n",
            "\n",
            "SSID: Graduate Lobby, Total Count: 8\n",
            "  MAC Addresses and their counts:\n",
            "    MAC: 80:af:ca:11:95:ea, Count: 8\n",
            "\n",
            "SSID: eduroam, Total Count: 339\n",
            "  MAC Addresses and their counts:\n",
            "    MAC: 70:4c:a5:95:b6:01, Count: 16\n",
            "    MAC: 70:4c:a5:95:a4:21, Count: 4\n",
            "    MAC: 70:4c:a5:95:b2:d9, Count: 4\n",
            "    MAC: 70:4c:a5:f5:9b:89, Count: 1\n",
            "    MAC: 70:4c:a5:64:bf:19, Count: 90\n",
            "    MAC: 70:4c:a5:95:b2:d1, Count: 14\n",
            "    MAC: 70:4c:a5:95:a4:19, Count: 7\n",
            "    MAC: 70:4c:a5:95:af:71, Count: 8\n",
            "    MAC: 70:4c:a5:64:bc:61, Count: 172\n",
            "    MAC: 70:4c:a5:95:92:f1, Count: 17\n",
            "    MAC: 70:4c:a5:d3:60:41, Count: 6\n",
            "\n",
            "SSID: 🫶, Total Count: 29\n",
            "  MAC Addresses and their counts:\n",
            "    MAC: da:ee:60:35:62:33, Count: 29\n",
            "\n",
            "SSID: Ifti’s iPhone, Total Count: 24\n",
            "  MAC Addresses and their counts:\n",
            "    MAC: fe:13:2f:1f:9e:48, Count: 24\n",
            "\n",
            "SSID: SHAN, Total Count: 18\n",
            "  MAC Addresses and their counts:\n",
            "    MAC: 50:eb:f6:17:73:b8, Count: 18\n",
            "\n",
            "SSID: POCO X3 Pro, Total Count: 64\n",
            "  MAC Addresses and their counts:\n",
            "    MAC: 8e:f6:fd:8d:6d:a4, Count: 64\n",
            "\n",
            "SSID: Towfique's S23+, Total Count: 15\n",
            "  MAC Addresses and their counts:\n",
            "    MAC: 7a:5e:48:b5:31:55, Count: 15\n",
            "\n",
            "SSID: Room 206, Total Count: 2\n",
            "  MAC Addresses and their counts:\n",
            "    MAC: cc:2d:21:b0:04:60, Count: 2\n",
            "\n",
            "SSID: Galaxy S22 Ultra 172F, Total Count: 17\n",
            "  MAC Addresses and their counts:\n",
            "    MAC: ea:14:d3:c7:80:b4, Count: 17\n",
            "\n",
            "SSID: Arham 2.5G Network, Total Count: 41\n",
            "  MAC Addresses and their counts:\n",
            "    MAC: 78:98:e8:38:3b:04, Count: 41\n",
            "\n",
            "SSID: 803, Total Count: 4\n",
            "  MAC Addresses and their counts:\n",
            "    MAC: 98:25:4a:9a:ef:ee, Count: 4\n",
            "\n",
            "SSID: Say my Name, Total Count: 9\n",
            "  MAC Addresses and their counts:\n",
            "    MAC: 82:c7:12:7a:78:44, Count: 9\n",
            "\n",
            "SSID: CSE-206, Total Count: 440\n",
            "  MAC Addresses and their counts:\n",
            "    MAC: bc:22:28:21:09:ba, Count: 276\n",
            "    MAC: bc:22:28:21:09:b7, Count: 164\n",
            "\n",
            "SSID: MohidN20U, Total Count: 55\n",
            "  MAC Addresses and their counts:\n",
            "    MAC: b6:65:08:c5:cb:9e, Count: 55\n",
            "\n",
            "SSID: CSE-405, Total Count: 24\n",
            "  MAC Addresses and their counts:\n",
            "    MAC: 9c:c9:eb:50:1a:04, Count: 24\n",
            "\n",
            "SSID: Room no.912, Total Count: 14\n",
            "  MAC Addresses and their counts:\n",
            "    MAC: 4c:ed:fb:d1:5a:d8, Count: 14\n",
            "\n",
            "SSID: CSE- G11&G12, Total Count: 7\n",
            "  MAC Addresses and their counts:\n",
            "    MAC: 9a:25:4a:0e:36:5e, Count: 6\n",
            "    MAC: 9a:25:4a:0e:32:36, Count: 1\n",
            "\n",
            "SSID: hawk, Total Count: 86\n",
            "  MAC Addresses and their counts:\n",
            "    MAC: f2:1f:ea:6b:fb:06, Count: 86\n",
            "\n",
            "SSID: Room 813, Total Count: 2\n",
            "  MAC Addresses and their counts:\n",
            "    MAC: 40:ae:30:2b:87:ea, Count: 2\n",
            "\n",
            "SSID: Asma Sultana, Total Count: 7\n",
            "  MAC Addresses and their counts:\n",
            "    MAC: d4:5d:64:1b:40:e4, Count: 7\n",
            "\n",
            "SSID: ROOM-812, Total Count: 1\n",
            "  MAC Addresses and their counts:\n",
            "    MAC: cc:2d:21:01:cb:38, Count: 1\n",
            "\n",
            "SSID: Sidolli 708, Total Count: 7\n",
            "  MAC Addresses and their counts:\n",
            "    MAC: cc:2d:21:4e:ae:60, Count: 7\n",
            "\n",
            "SSID: Room- 808, Total Count: 8\n",
            "  MAC Addresses and their counts:\n",
            "    MAC: c8:e7:d8:86:0c:9e, Count: 8\n",
            "\n",
            "SSID: Emc(203), Total Count: 1\n",
            "  MAC Addresses and their counts:\n",
            "    MAC: 28:3b:82:4d:e6:de, Count: 1\n",
            "\n",
            "SSID: Galaxy M12 834E, Total Count: 46\n",
            "  MAC Addresses and their counts:\n",
            "    MAC: 12:99:b1:da:35:37, Count: 46\n",
            "\n",
            "SSID: Tatakae🥷, Total Count: 85\n",
            "  MAC Addresses and their counts:\n",
            "    MAC: 12:00:4d:03:42:79, Count: 85\n",
            "\n",
            "SSID: CSE-503, Total Count: 4\n",
            "  MAC Addresses and their counts:\n",
            "    MAC: bc:22:28:20:b9:f6, Count: 4\n",
            "\n",
            "SSID: Jannat 409, Total Count: 1\n",
            "  MAC Addresses and their counts:\n",
            "    MAC: e8:65:d4:52:c8:08, Count: 1\n",
            "\n",
            "SSID: Butterfly _414, Total Count: 1\n",
            "  MAC Addresses and their counts:\n",
            "    MAC: b4:0f:3b:60:a1:f0, Count: 1\n",
            "\n",
            "SSID: Paradise , Total Count: 14\n",
            "  MAC Addresses and their counts:\n",
            "    MAC: ac:15:a2:4c:49:9a, Count: 14\n",
            "\n",
            "SSID: ROOM\"513, Total Count: 2\n",
            "  MAC Addresses and their counts:\n",
            "    MAC: 0c:80:63:b5:d6:d2, Count: 2\n",
            "\n",
            "SSID: Tanveer Hossain's S23 Ultra, Total Count: 6\n",
            "  MAC Addresses and their counts:\n",
            "    MAC: 36:eb:28:75:d2:44, Count: 6\n",
            "\n",
            "SSID: Sourov_ Alam, Total Count: 8\n",
            "  MAC Addresses and their counts:\n",
            "    MAC: d6:1a:91:9d:30:dc, Count: 8\n",
            "\n",
            "SSID: Md. Himel Hasan, Total Count: 7\n",
            "  MAC Addresses and their counts:\n",
            "    MAC: c0:25:2f:b1:a3:7a, Count: 7\n",
            "\n",
            "SSID: Shabab's Galaxy A52, Total Count: 152\n",
            "  MAC Addresses and their counts:\n",
            "    MAC: be:ed:be:10:4e:dc, Count: 152\n",
            "\n",
            "SSID: Ashis Birai’s iPhone, Total Count: 2\n",
            "  MAC Addresses and their counts:\n",
            "    MAC: ca:ba:80:ff:83:1d, Count: 2\n",
            "\n",
            "SSID: Wisdom, Total Count: 1\n",
            "  MAC Addresses and their counts:\n",
            "    MAC: dc:62:79:93:9e:2a, Count: 1\n",
            "\n",
            "SSID: CSE -4thT, Total Count: 1\n",
            "  MAC Addresses and their counts:\n",
            "    MAC: 9c:53:22:81:ff:f2, Count: 1\n",
            "\n",
            "SSID: Room 202, Total Count: 5\n",
            "  MAC Addresses and their counts:\n",
            "    MAC: cc:2d:21:3e:5b:b0, Count: 5\n",
            "\n",
            "SSID: 4s, Total Count: 7\n",
            "  MAC Addresses and their counts:\n",
            "    MAC: 28:87:ba:35:8b:ea, Count: 7\n",
            "\n",
            "SSID: Redmi Note 10 Pro, Total Count: 9\n",
            "  MAC Addresses and their counts:\n",
            "    MAC: 36:54:e2:a6:bd:4b, Count: 9\n",
            "\n",
            "SSID: 710, Total Count: 1\n",
            "  MAC Addresses and their counts:\n",
            "    MAC: cc:2d:21:67:fd:20, Count: 1\n",
            "\n",
            "SSID: 801, Total Count: 1\n",
            "  MAC Addresses and their counts:\n",
            "    MAC: 28:3b:82:4d:c2:ee, Count: 1\n",
            "\n",
            "SSID: palashi association, Total Count: 3\n",
            "  MAC Addresses and their counts:\n",
            "    MAC: 3c:52:a1:c4:db:4a, Count: 3\n",
            "\n",
            "SSID: Room 706, Total Count: 4\n",
            "  MAC Addresses and their counts:\n",
            "    MAC: c8:3a:35:41:0e:e0, Count: 4\n",
            "\n",
            "SSID: Slow Wifi, Total Count: 2\n",
            "  MAC Addresses and their counts:\n",
            "    MAC: 0c:80:63:fb:72:74, Count: 2\n",
            "\n",
            "SSID: Room1003, Total Count: 1\n",
            "  MAC Addresses and their counts:\n",
            "    MAC: c8:e7:d8:82:7e:dc, Count: 1\n",
            "\n",
            "SSID: Suptti , Total Count: 1\n",
            "  MAC Addresses and their counts:\n",
            "    MAC: 38:6b:1c:bd:16:2e, Count: 1\n",
            "\n",
            "SSID: CSE-214, Total Count: 18\n",
            "  MAC Addresses and their counts:\n",
            "    MAC: bc:22:28:21:70:62, Count: 12\n",
            "    MAC: bc:22:28:21:70:5f, Count: 6\n",
            "\n",
            "SSID: Lapatta Ladies, Total Count: 7\n",
            "  MAC Addresses and their counts:\n",
            "    MAC: cc:2d:21:3e:9d:18, Count: 7\n",
            "\n",
            "SSID: Haimo, Total Count: 3\n",
            "  MAC Addresses and their counts:\n",
            "    MAC: 50:91:e3:b5:b4:bd, Count: 3\n",
            "\n",
            "SSID: Room no 1103, Total Count: 13\n",
            "  MAC Addresses and their counts:\n",
            "    MAC: 5c:e9:31:97:28:f4, Count: 13\n",
            "\n",
            "SSID: ROOM 406, Total Count: 1\n",
            "  MAC Addresses and their counts:\n",
            "    MAC: c8:e7:d8:82:65:0e, Count: 1\n",
            "\n",
            "SSID: realme 8 5G, Total Count: 1\n",
            "  MAC Addresses and their counts:\n",
            "    MAC: a2:2f:c7:ce:a6:f0, Count: 1\n",
            "\n",
            "SSID: 1108, Total Count: 1\n",
            "  MAC Addresses and their counts:\n",
            "    MAC: 48:22:54:85:15:6a, Count: 1\n",
            "\n",
            "SSID: Shakespeare, Total Count: 1\n",
            "  MAC Addresses and their counts:\n",
            "    MAC: 0c:80:63:6f:74:12, Count: 1\n",
            "\n",
            "SSID: Galaxy M31CA71, Total Count: 17\n",
            "  MAC Addresses and their counts:\n",
            "    MAC: 8e:de:e6:6b:ca:71, Count: 17\n",
            "\n",
            "SSID: mehrab's Galaxy A12, Total Count: 2\n",
            "  MAC Addresses and their counts:\n",
            "    MAC: 5a:e2:a9:07:7f:d2, Count: 2\n",
            "\n",
            "SSID: realme GT NEO 2, Total Count: 1\n",
            "  MAC Addresses and their counts:\n",
            "    MAC: f6:aa:13:bd:ca:80, Count: 1\n",
            "\n",
            "SSID: Sadia-201, Total Count: 3\n",
            "  MAC Addresses and their counts:\n",
            "    MAC: c0:25:e9:e1:86:24, Count: 3\n",
            "\n",
            "SSID: AndroidAP05E5, Total Count: 1\n",
            "  MAC Addresses and their counts:\n",
            "    MAC: 4a:c7:96:b2:45:e5, Count: 1\n",
            "\n",
            "SSID: চিযান বৌয়ান, Total Count: 3\n",
            "  MAC Addresses and their counts:\n",
            "    MAC: d6:47:0a:99:1f:ed, Count: 3\n",
            "\n",
            "SSID: EEE Room231, Total Count: 7\n",
            "  MAC Addresses and their counts:\n",
            "    MAC: 00:22:3f:e4:8d:80, Count: 7\n",
            "\n",
            "SSID: Savage-us, Total Count: 37\n",
            "  MAC Addresses and their counts:\n",
            "    MAC: cc:2d:21:36:d7:90, Count: 37\n",
            "\n",
            "SSID: CSE-314, Total Count: 4\n",
            "  MAC Addresses and their counts:\n",
            "    MAC: 90:6a:94:f9:b6:f5, Count: 4\n",
            "\n",
            "SSID: ROOM-503, Total Count: 19\n",
            "  MAC Addresses and their counts:\n",
            "    MAC: a4:2b:b0:01:15:2c, Count: 19\n",
            "\n",
            "SSID: BTCL_WiFi_15/B, Total Count: 15\n",
            "  MAC Addresses and their counts:\n",
            "    MAC: 60:63:4c:ac:0c:cb, Count: 15\n",
            "\n",
            "SSID: EEE_Teachers_WiFi, Total Count: 10\n",
            "  MAC Addresses and their counts:\n",
            "    MAC: 60:63:4c:ab:f6:6b, Count: 10\n",
            "\n",
            "SSID: 801 roomies, Total Count: 9\n",
            "  MAC Addresses and their counts:\n",
            "    MAC: 28:3b:82:4d:c2:ee, Count: 9\n",
            "\n",
            "SSID: Room no. 1108, Total Count: 5\n",
            "  MAC Addresses and their counts:\n",
            "    MAC: 48:22:54:85:15:6a, Count: 5\n",
            "\n",
            "SSID: BUET_EEE234, Total Count: 3\n",
            "  MAC Addresses and their counts:\n",
            "    MAC: 60:83:e7:4e:54:6a, Count: 3\n",
            "\n",
            "SSID: Mimi, Total Count: 127\n",
            "  MAC Addresses and their counts:\n",
            "    MAC: 74:da:88:f6:5d:8c, Count: 127\n",
            "\n",
            "SSID: Room-906, Total Count: 42\n",
            "  MAC Addresses and their counts:\n",
            "    MAC: 84:d8:1b:92:d7:fa, Count: 42\n",
            "\n",
            "SSID: Princesses _606, Total Count: 9\n",
            "  MAC Addresses and their counts:\n",
            "    MAC: cc:2d:21:f9:ee:e8, Count: 9\n",
            "\n",
            "SSID: CSE_OBE_CELL, Total Count: 13\n",
            "  MAC Addresses and their counts:\n",
            "    MAC: ac:15:a2:84:3d:1a, Count: 13\n",
            "\n",
            "SSID: Room no 710, Total Count: 32\n",
            "  MAC Addresses and their counts:\n",
            "    MAC: cc:2d:21:67:fd:20, Count: 32\n",
            "\n",
            "SSID: Room 705, Total Count: 6\n",
            "  MAC Addresses and their counts:\n",
            "    MAC: cc:2d:21:37:0c:98, Count: 6\n",
            "\n",
            "SSID: Nahiyan, Total Count: 12\n",
            "  MAC Addresses and their counts:\n",
            "    MAC: 34:60:f9:6c:f3:02, Count: 12\n",
            "\n",
            "SSID: EEE-240, Total Count: 2\n",
            "  MAC Addresses and their counts:\n",
            "    MAC: 54:af:97:71:b9:9d, Count: 2\n",
            "\n",
            "SSID: CSE-401, Total Count: 19\n",
            "  MAC Addresses and their counts:\n",
            "    MAC: 00:1e:2a:ba:c8:20, Count: 19\n",
            "\n",
            "SSID: Sharmin , Total Count: 1\n",
            "  MAC Addresses and their counts:\n",
            "    MAC: ac:15:a2:60:2b:fc, Count: 1\n",
            "\n",
            "SSID: Abid, Total Count: 1\n",
            "  MAC Addresses and their counts:\n",
            "    MAC: 30:de:4b:71:f7:09, Count: 1\n",
            "\n",
            "SSID: Second Home 310, Total Count: 4\n",
            "  MAC Addresses and their counts:\n",
            "    MAC: b0:19:21:15:12:3e, Count: 4\n",
            "\n",
            "SSID: ROOM-709, Total Count: 10\n",
            "  MAC Addresses and their counts:\n",
            "    MAC: e8:65:d4:52:b3:b0, Count: 10\n",
            "\n",
            "SSID: Rome, Total Count: 8\n",
            "  MAC Addresses and their counts:\n",
            "    MAC: e0:1c:fc:a8:de:0c, Count: 8\n",
            "\n",
            "SSID: Saiful, Total Count: 4\n",
            "  MAC Addresses and their counts:\n",
            "    MAC: 22:23:51:ac:f5:ae, Count: 4\n",
            "\n",
            "SSID: Zaeen-Zarir-Tultul, Total Count: 4\n",
            "  MAC Addresses and their counts:\n",
            "    MAC: 60:63:4c:7b:06:62, Count: 4\n",
            "\n",
            "SSID: BRINTA-10, Total Count: 9\n",
            "  MAC Addresses and their counts:\n",
            "    MAC: 28:87:ba:8d:5c:e6, Count: 9\n",
            "\n",
            "SSID: DSMC-TP-Link, Total Count: 8\n",
            "  MAC Addresses and their counts:\n",
            "    MAC: b4:b0:24:06:ba:46, Count: 8\n",
            "\n",
            "SSID: Room no 1001, Total Count: 11\n",
            "  MAC Addresses and their counts:\n",
            "    MAC: e8:65:d4:94:60:68, Count: 11\n",
            "\n",
            "SSID: HAMEEM, Total Count: 4\n",
            "  MAC Addresses and their counts:\n",
            "    MAC: 50:d4:f7:9b:ed:46, Count: 4\n",
            "\n",
            "SSID: Sree♥️, Total Count: 6\n",
            "  MAC Addresses and their counts:\n",
            "    MAC: cc:2d:21:14:ab:60, Count: 6\n",
            "\n",
            "SSID: Room 704, Total Count: 9\n",
            "  MAC Addresses and their counts:\n",
            "    MAC: c8:e7:d8:82:59:3c, Count: 9\n",
            "\n",
            "SSID: Fairy & ghost, Total Count: 1\n",
            "  MAC Addresses and their counts:\n",
            "    MAC: c8:e7:d8:82:8d:42, Count: 1\n",
            "\n",
            "SSID: Creative girls, Total Count: 15\n",
            "  MAC Addresses and their counts:\n",
            "    MAC: e8:48:b8:4e:b9:a2, Count: 15\n",
            "\n",
            "SSID: Corona virus, Total Count: 2\n",
            "  MAC Addresses and their counts:\n",
            "    MAC: 50:d4:f7:15:d1:ee, Count: 2\n",
            "\n",
            "SSID: M10, Total Count: 1\n",
            "  MAC Addresses and their counts:\n",
            "    MAC: f2:8b:25:5c:f1:42, Count: 1\n",
            "\n",
            "SSID: Room no. 306, Total Count: 5\n",
            "  MAC Addresses and their counts:\n",
            "    MAC: b8:3a:08:dd:a2:98, Count: 5\n",
            "\n",
            "SSID: Galaxy A50, Total Count: 1\n",
            "  MAC Addresses and their counts:\n",
            "    MAC: e6:cc:23:77:cd:dd, Count: 1\n",
            "\n",
            "SSID: Mohiuddin111, Total Count: 1\n",
            "  MAC Addresses and their counts:\n",
            "    MAC: 1e:52:21:8f:f4:6b, Count: 1\n",
            "\n",
            "SSID: 402, Total Count: 2\n",
            "  MAC Addresses and their counts:\n",
            "    MAC: 18:d6:c7:ab:26:90, Count: 2\n",
            "\n",
            "SSID: Ame505, Total Count: 1\n",
            "  MAC Addresses and their counts:\n",
            "    MAC: d4:6e:0e:87:57:c2, Count: 1\n",
            "\n",
            "SSID: Room514, Total Count: 1\n",
            "  MAC Addresses and their counts:\n",
            "    MAC: 00:e0:4c:94:c8:f8, Count: 1\n",
            "\n",
            "SSID: BTCL, Total Count: 2\n",
            "  MAC Addresses and their counts:\n",
            "    MAC: f4:a4:54:87:35:58, Count: 2\n",
            "\n",
            "SSID: CSE-118, Total Count: 4\n",
            "  MAC Addresses and their counts:\n",
            "    MAC: c8:d3:a3:21:82:88, Count: 4\n",
            "\n",
            "SSID: Roomies 1102, Total Count: 3\n",
            "  MAC Addresses and their counts:\n",
            "    MAC: 0c:80:63:ea:5d:6a, Count: 3\n",
            "\n",
            "SSID: Flowers 106, Total Count: 1\n",
            "  MAC Addresses and their counts:\n",
            "    MAC: ac:15:a2:60:2c:ee, Count: 1\n",
            "\n",
            "SSID: Creativity 406, Total Count: 1\n",
            "  MAC Addresses and their counts:\n",
            "    MAC: cc:2d:21:9c:77:b0, Count: 1\n",
            "\n",
            "SSID: Tilottoma1002, Total Count: 1\n",
            "  MAC Addresses and their counts:\n",
            "    MAC: c8:e7:d8:82:7d:54, Count: 1\n",
            "\n",
            "SSID: Baby, Total Count: 1\n",
            "  MAC Addresses and their counts:\n",
            "    MAC: ae:15:a2:70:2c:ee, Count: 1\n",
            "\n",
            "SSID: শেষের কবিতা , Total Count: 13\n",
            "  MAC Addresses and their counts:\n",
            "    MAC: 0c:80:63:b5:ec:68, Count: 13\n",
            "\n"
          ]
        }
      ],
      "source": [
        "# File paths\n",
        "scan_list_csv = folder+\"scan_lists.csv\"\n",
        "\n",
        "# Data structures to store statistics\n",
        "ssid_counts = defaultdict(int)  # To count occurrences of each SSID\n",
        "mac_to_ssid = defaultdict(set)  # To map each MAC address to the corresponding SSIDs\n",
        "ssid_to_macs = defaultdict(lambda: defaultdict(int))  # To count MAC addresses per SSID\n",
        "\n",
        "# Read the scan_lists.csv file\n",
        "with open(scan_list_csv, \"r\") as file:\n",
        "    reader = csv.DictReader(file)\n",
        "    for row in reader:\n",
        "        ssid = row[\"SSID\"]\n",
        "        mac_address = row[\"MacAddress\"]\n",
        "\n",
        "        # Update SSID count\n",
        "        ssid_counts[ssid] += 1\n",
        "\n",
        "        # Map MAC address to SSIDs\n",
        "        mac_to_ssid[mac_address].add(ssid)\n",
        "\n",
        "        # Count MAC addresses for each SSID\n",
        "        ssid_to_macs[ssid][mac_address] += 1\n",
        "\n",
        "# Check if each MAC corresponds to a unique SSID\n",
        "mac_unique_ssid = {mac: len(ssids) == 1 for mac, ssids in mac_to_ssid.items()}\n",
        "\n",
        "# Display the results\n",
        "print(\"SSID statistics:\")\n",
        "for ssid, count in ssid_counts.items():\n",
        "    print(f\"SSID: {ssid}, Total Count: {count}\")\n",
        "    print(\"  MAC Addresses and their counts:\")\n",
        "    for mac, mac_count in ssid_to_macs[ssid].items():\n",
        "        print(f\"    MAC: {mac}, Count: {mac_count}\")\n",
        "    print()\n"
      ]
    },
    {
      "cell_type": "code",
      "execution_count": 5,
      "metadata": {
        "colab": {
          "base_uri": "https://localhost:8080/"
        },
        "id": "19y6qiOePtIS",
        "outputId": "fd19ede3-463b-45f9-bb23-b9ca09c2d8d3"
      },
      "outputs": [
        {
          "name": "stdout",
          "output_type": "stream",
          "text": [
            "MAC Address Count and Corresponding SSID Counts:\n",
            "MAC: 3e:92:f7:29:0d:11, Total Count: 457\n",
            "  SSID(s) and their counts:\n",
            "    SSID: Abrar Zahin's Galaxy A33 5G, Count: 457\n",
            "\n",
            "MAC: 62:d5:76:41:44:83, Total Count: 840\n",
            "  SSID(s) and their counts:\n",
            "    SSID: Pixel, Count: 840\n",
            "\n",
            "MAC: 2c:fe:e2:59:d0:c2, Total Count: 1405\n",
            "  SSID(s) and their counts:\n",
            "    SSID: Horion_e9, Count: 1405\n",
            "\n",
            "MAC: 5c:e9:31:22:bb:0b, Total Count: 69\n",
            "  SSID(s) and their counts:\n",
            "    SSID: , Count: 69\n",
            "\n",
            "MAC: 02:59:d2:85:5e:aa, Total Count: 128\n",
            "  SSID(s) and their counts:\n",
            "    SSID: Omi, Count: 128\n",
            "\n",
            "MAC: ba:61:33:5d:51:8b, Total Count: 599\n",
            "  SSID(s) and their counts:\n",
            "    SSID: Oggy, Count: 599\n",
            "\n",
            "MAC: 5e:ea:31:22:bb:0b, Total Count: 59\n",
            "  SSID(s) and their counts:\n",
            "    SSID: CSE-LAB, Count: 59\n",
            "\n",
            "MAC: 30:b5:c2:ea:5b:44, Total Count: 468\n",
            "  SSID(s) and their counts:\n",
            "    SSID: DataLab@BUET, Count: 468\n",
            "\n",
            "MAC: 5a:d6:bc:29:37:4c, Total Count: 107\n",
            "  SSID(s) and their counts:\n",
            "    SSID: AndroidAP, Count: 107\n",
            "\n",
            "MAC: 7a:ec:99:a0:87:01, Total Count: 728\n",
            "  SSID(s) and their counts:\n",
            "    SSID: Abhishek's A55, Count: 728\n",
            "\n",
            "MAC: 1a:50:a7:f3:20:79, Total Count: 523\n",
            "  SSID(s) and their counts:\n",
            "    SSID: DoYouKnow , Count: 523\n",
            "\n",
            "MAC: 00:22:b0:05:f3:bc, Total Count: 889\n",
            "  SSID(s) and their counts:\n",
            "    SSID: CSE-204, Count: 889\n",
            "\n",
            "MAC: 36:20:f9:a1:88:62, Total Count: 524\n",
            "  SSID(s) and their counts:\n",
            "    SSID: CSE OFFICE, Count: 524\n",
            "\n",
            "MAC: 60:63:4c:31:37:40, Total Count: 978\n",
            "  SSID(s) and their counts:\n",
            "    SSID: CSE-303, Count: 978\n",
            "\n",
            "MAC: 18:0f:76:c3:06:8d, Total Count: 620\n",
            "  SSID(s) and their counts:\n",
            "    SSID: CSE-304, Count: 620\n",
            "\n",
            "MAC: 12:38:f1:f0:25:6e, Total Count: 340\n",
            "  SSID(s) and their counts:\n",
            "    SSID: OPPO F21 Pro, Count: 340\n",
            "\n",
            "MAC: ee:ec:4e:98:5f:81, Total Count: 287\n",
            "  SSID(s) and their counts:\n",
            "    SSID: , Count: 287\n",
            "\n",
            "MAC: 4e:e8:ef:1a:c1:95, Total Count: 954\n",
            "  SSID(s) and their counts:\n",
            "    SSID: Mahdi, Count: 954\n",
            "\n",
            "MAC: c2:3b:04:a2:01:1f, Total Count: 1102\n",
            "  SSID(s) and their counts:\n",
            "    SSID: getIP().hackDevice(), Count: 1102\n",
            "\n",
            "MAC: 60:63:4c:31:37:48, Total Count: 544\n",
            "  SSID(s) and their counts:\n",
            "    SSID: dlink, Count: 544\n",
            "\n",
            "MAC: 34:60:f9:a1:88:63, Total Count: 547\n",
            "  SSID(s) and their counts:\n",
            "    SSID: , Count: 547\n",
            "\n",
            "MAC: 36:62:f9:a1:88:57, Total Count: 637\n",
            "  SSID(s) and their counts:\n",
            "    SSID: CSE OFFICE, Count: 637\n",
            "\n",
            "MAC: bc:22:28:21:09:21, Total Count: 641\n",
            "  SSID(s) and their counts:\n",
            "    SSID: , Count: 641\n",
            "\n",
            "MAC: 7a:ae:58:61:a1:27, Total Count: 642\n",
            "  SSID(s) and their counts:\n",
            "    SSID: NK, Count: 642\n",
            "\n",
            "MAC: 36:62:f9:a1:88:63, Total Count: 848\n",
            "  SSID(s) and their counts:\n",
            "    SSID: CSE OFFICE, Count: 848\n",
            "\n",
            "MAC: 34:60:f9:a1:88:57, Total Count: 244\n",
            "  SSID(s) and their counts:\n",
            "    SSID: , Count: 244\n",
            "\n",
            "MAC: aa:dc:7e:ea:37:18, Total Count: 493\n",
            "  SSID(s) and their counts:\n",
            "    SSID: moto edge 50 neo_3238, Count: 493\n",
            "\n",
            "MAC: 8e:fa:5f:79:06:05, Total Count: 531\n",
            "  SSID(s) and their counts:\n",
            "    SSID: Ei j eta amar wifi, Count: 531\n",
            "\n",
            "MAC: 60:63:4c:31:37:60, Total Count: 204\n",
            "  SSID(s) and their counts:\n",
            "    SSID: CSE-306, Count: 204\n",
            "\n",
            "MAC: 76:75:55:f3:a7:bd, Total Count: 535\n",
            "  SSID(s) and their counts:\n",
            "    SSID: Redmi Note 13 Pro, Count: 535\n",
            "\n",
            "MAC: bc:22:28:21:09:22, Total Count: 560\n",
            "  SSID(s) and their counts:\n",
            "    SSID: , Count: 560\n",
            "\n",
            "MAC: 3e:4c:aa:f9:d8:98, Total Count: 27\n",
            "  SSID(s) and their counts:\n",
            "    SSID: VoSSS, Count: 27\n",
            "\n",
            "MAC: e2:fd:30:fe:69:73, Total Count: 216\n",
            "  SSID(s) and their counts:\n",
            "    SSID: Anirban, Count: 216\n",
            "\n",
            "MAC: 8e:94:a9:8d:65:5b, Total Count: 182\n",
            "  SSID(s) and their counts:\n",
            "    SSID: vivo Y27s, Count: 182\n",
            "\n",
            "MAC: 34:60:f9:a1:88:62, Total Count: 299\n",
            "  SSID(s) and their counts:\n",
            "    SSID: , Count: 299\n",
            "\n",
            "MAC: bc:22:28:21:09:24, Total Count: 290\n",
            "  SSID(s) and their counts:\n",
            "    SSID: CSE-205, Count: 290\n",
            "\n",
            "MAC: 56:f1:5f:2e:f3:7a, Total Count: 485\n",
            "  SSID(s) and their counts:\n",
            "    SSID: Horion_yj, Count: 485\n",
            "\n",
            "MAC: 02:a8:9b:f6:4d:ca, Total Count: 11\n",
            "  SSID(s) and their counts:\n",
            "    SSID: , Count: 11\n",
            "\n",
            "MAC: f6:6b:65:56:e4:88, Total Count: 30\n",
            "  SSID(s) and their counts:\n",
            "    SSID: realme 10, Count: 30\n",
            "\n",
            "MAC: 96:21:ee:e2:9f:97, Total Count: 226\n",
            "  SSID(s) and their counts:\n",
            "    SSID: Tanvir, Count: 226\n",
            "\n",
            "MAC: 0a:54:a5:5f:17:37, Total Count: 189\n",
            "  SSID(s) and their counts:\n",
            "    SSID: Galaxy S22C48A, Count: 189\n",
            "\n",
            "MAC: fa:b5:62:5b:af:73, Total Count: 204\n",
            "  SSID(s) and their counts:\n",
            "    SSID: Redmi Note 10S, Count: 204\n",
            "\n",
            "MAC: 8a:c6:f0:bb:61:49, Total Count: 161\n",
            "  SSID(s) and their counts:\n",
            "    SSID: amim, Count: 161\n",
            "\n",
            "MAC: 26:e4:72:86:6b:66, Total Count: 97\n",
            "  SSID(s) and their counts:\n",
            "    SSID: Torr20-tab, Count: 97\n",
            "\n",
            "MAC: 34:e8:94:10:7d:fa, Total Count: 310\n",
            "  SSID(s) and their counts:\n",
            "    SSID: Hall of Fame, Count: 310\n",
            "\n",
            "MAC: 10:62:eb:1a:0c:09, Total Count: 8\n",
            "  SSID(s) and their counts:\n",
            "    SSID: Room 914, Count: 8\n",
            "\n",
            "MAC: 5a:e6:b4:de:a1:ae, Total Count: 304\n",
            "  SSID(s) and their counts:\n",
            "    SSID: realme 9, Count: 304\n",
            "\n",
            "MAC: 46:c4:90:f1:0a:2a, Total Count: 462\n",
            "  SSID(s) and their counts:\n",
            "    SSID: Galaxy S23 Ultra 8407, Count: 462\n",
            "\n",
            "MAC: c6:10:ef:ee:57:ec, Total Count: 898\n",
            "  SSID(s) and their counts:\n",
            "    SSID: pixel, Count: 898\n",
            "\n",
            "MAC: 36:20:f9:a1:88:56, Total Count: 600\n",
            "  SSID(s) and their counts:\n",
            "    SSID: CSE OFFICE, Count: 600\n",
            "\n",
            "MAC: 36:20:f9:a1:8b:8e, Total Count: 141\n",
            "  SSID(s) and their counts:\n",
            "    SSID: CSE OFFICE, Count: 141\n",
            "\n",
            "MAC: fe:a6:d1:4e:1c:86, Total Count: 30\n",
            "  SSID(s) and their counts:\n",
            "    SSID: narzo 50, Count: 30\n",
            "\n",
            "MAC: 1c:61:b4:9c:7a:1a, Total Count: 215\n",
            "  SSID(s) and their counts:\n",
            "    SSID: , Count: 215\n",
            "\n",
            "MAC: 1e:61:b4:ac:7a:1a, Total Count: 174\n",
            "  SSID(s) and their counts:\n",
            "    SSID: CSE-306BL, Count: 174\n",
            "\n",
            "MAC: 24:2f:d0:88:39:a2, Total Count: 156\n",
            "  SSID(s) and their counts:\n",
            "    SSID: , Count: 156\n",
            "\n",
            "MAC: 1c:61:b4:9c:79:f2, Total Count: 193\n",
            "  SSID(s) and their counts:\n",
            "    SSID: , Count: 193\n",
            "\n",
            "MAC: c2:c4:fb:a2:01:1f, Total Count: 242\n",
            "  SSID(s) and their counts:\n",
            "    SSID: getIP().hackDevice(), Count: 242\n",
            "\n",
            "MAC: 36:4b:45:95:4b:ce, Total Count: 9\n",
            "  SSID(s) and their counts:\n",
            "    SSID: , Count: 9\n",
            "\n",
            "MAC: da:55:41:3a:44:5b, Total Count: 56\n",
            "  SSID(s) and their counts:\n",
            "    SSID: Ara, Count: 56\n",
            "\n",
            "MAC: 02:df:3b:f6:97:11, Total Count: 35\n",
            "  SSID(s) and their counts:\n",
            "    SSID: CSE 9, Count: 35\n",
            "\n",
            "MAC: 96:26:00:ef:b2:d5, Total Count: 23\n",
            "  SSID(s) and their counts:\n",
            "    SSID: AlAmin, Count: 23\n",
            "\n",
            "MAC: 7e:5d:23:fc:ca:4a, Total Count: 5\n",
            "  SSID(s) and their counts:\n",
            "    SSID: GADA ELECTRONICS, Count: 5\n",
            "\n",
            "MAC: 6a:66:d2:07:a3:61, Total Count: 137\n",
            "  SSID(s) and their counts:\n",
            "    SSID: Juice Pila do. Mosambi Ka! 🥹, Count: 137\n",
            "\n",
            "MAC: 34:60:f9:a1:8b:8e, Total Count: 38\n",
            "  SSID(s) and their counts:\n",
            "    SSID: , Count: 38\n",
            "\n",
            "MAC: 5c:e9:31:22:bb:0a, Total Count: 129\n",
            "  SSID(s) and their counts:\n",
            "    SSID: , Count: 129\n",
            "\n",
            "MAC: 26:2f:d0:88:39:a2, Total Count: 147\n",
            "  SSID(s) and their counts:\n",
            "    SSID: IAC, Count: 147\n",
            "\n",
            "MAC: 5e:a9:31:22:bb:0a, Total Count: 206\n",
            "  SSID(s) and their counts:\n",
            "    SSID: CSE-LAB, Count: 206\n",
            "\n",
            "MAC: 5e:a9:31:22:be:d6, Total Count: 85\n",
            "  SSID(s) and their counts:\n",
            "    SSID: CSE-LAB, Count: 85\n",
            "\n",
            "MAC: 34:60:f9:a1:88:56, Total Count: 295\n",
            "  SSID(s) and their counts:\n",
            "    SSID: , Count: 295\n",
            "\n",
            "MAC: c6:ef:10:ee:57:ec, Total Count: 81\n",
            "  SSID(s) and their counts:\n",
            "    SSID: pixel, Count: 81\n",
            "\n",
            "MAC: 1a:aa:2b:0a:98:c9, Total Count: 175\n",
            "  SSID(s) and their counts:\n",
            "    SSID: Ekta hotspot, Count: 175\n",
            "\n",
            "MAC: 42:91:83:46:e0:61, Total Count: 95\n",
            "  SSID(s) and their counts:\n",
            "    SSID: Churoot, Count: 95\n",
            "\n",
            "MAC: 56:f1:5f:2e:db:20, Total Count: 9\n",
            "  SSID(s) and their counts:\n",
            "    SSID: Horion_j6, Count: 9\n",
            "\n",
            "MAC: 52:29:6f:70:e8:02, Total Count: 342\n",
            "  SSID(s) and their counts:\n",
            "    SSID: Shakshor, Count: 342\n",
            "\n",
            "MAC: f4:8c:eb:c5:c7:aa, Total Count: 16\n",
            "  SSID(s) and their counts:\n",
            "    SSID: EMC-504, Count: 16\n",
            "\n",
            "MAC: bc:62:ce:6a:3a:2a, Total Count: 213\n",
            "  SSID(s) and their counts:\n",
            "    SSID: RBH 204, Count: 213\n",
            "\n",
            "MAC: e6:03:58:bb:71:13, Total Count: 61\n",
            "  SSID(s) and their counts:\n",
            "    SSID: Norse Network, Count: 61\n",
            "\n",
            "MAC: 5e:75:bf:7f:f2:e4, Total Count: 32\n",
            "  SSID(s) and their counts:\n",
            "    SSID: realme 9 Pro 5G, Count: 32\n",
            "\n",
            "MAC: 4e:1d:99:39:cc:3e, Total Count: 48\n",
            "  SSID(s) and their counts:\n",
            "    SSID: Galaxy A324007, Count: 48\n",
            "\n",
            "MAC: 5c:e8:d3:0a:1e:e0, Total Count: 146\n",
            "  SSID(s) and their counts:\n",
            "    SSID: Free, Count: 146\n",
            "\n",
            "MAC: 10:62:eb:77:b7:42, Total Count: 219\n",
            "  SSID(s) and their counts:\n",
            "    SSID: CSE-G04, Count: 219\n",
            "\n",
            "MAC: bc:22:28:21:55:6e, Total Count: 409\n",
            "  SSID(s) and their counts:\n",
            "    SSID: CSE-104, Count: 409\n",
            "\n",
            "MAC: 1e:61:b4:ac:79:f2, Total Count: 196\n",
            "  SSID(s) and their counts:\n",
            "    SSID: CSE-306BL, Count: 196\n",
            "\n",
            "MAC: 56:77:3d:1c:98:93, Total Count: 16\n",
            "  SSID(s) and their counts:\n",
            "    SSID: Redmi 11 Prime, Count: 16\n",
            "\n",
            "MAC: 4c:ed:fb:d1:5a:d8, Total Count: 15\n",
            "  SSID(s) and their counts:\n",
            "    SSID: Room-912, Count: 1\n",
            "    SSID: Room no.912, Count: 14\n",
            "\n",
            "MAC: c6:99:bb:89:07:d5, Total Count: 46\n",
            "  SSID(s) and their counts:\n",
            "    SSID: Z60, Count: 46\n",
            "\n",
            "MAC: b0:a7:b9:68:3c:89, Total Count: 2\n",
            "  SSID(s) and their counts:\n",
            "    SSID: Abeer, Count: 2\n",
            "\n",
            "MAC: 82:af:ca:23:cc:9a, Total Count: 14\n",
            "  SSID(s) and their counts:\n",
            "    SSID: , Count: 14\n",
            "\n",
            "MAC: f0:09:0d:f1:49:52, Total Count: 2\n",
            "  SSID(s) and their counts:\n",
            "    SSID: Palash, Count: 2\n",
            "\n",
            "MAC: 9c:a2:f4:bb:85:07, Total Count: 12\n",
            "  SSID(s) and their counts:\n",
            "    SSID: GGWP, Count: 12\n",
            "\n",
            "MAC: 3c:64:cf:66:e1:2b, Total Count: 4\n",
            "  SSID(s) and their counts:\n",
            "    SSID: Rs ONLINE , Count: 4\n",
            "\n",
            "MAC: 5c:62:8b:dd:1d:92, Total Count: 4\n",
            "  SSID(s) and their counts:\n",
            "    SSID: Aroush Sweet Home, Count: 4\n",
            "\n",
            "MAC: 36:de:4b:67:e3:9a, Total Count: 6\n",
            "  SSID(s) and their counts:\n",
            "    SSID: , Count: 6\n",
            "\n",
            "MAC: 00:72:63:dd:75:a6, Total Count: 36\n",
            "  SSID(s) and their counts:\n",
            "    SSID: RTS Design, Count: 36\n",
            "\n",
            "MAC: d8:32:14:1b:b6:d0, Total Count: 4\n",
            "  SSID(s) and their counts:\n",
            "    SSID: Papri, Count: 4\n",
            "\n",
            "MAC: cc:2d:21:23:93:48, Total Count: 12\n",
            "  SSID(s) and their counts:\n",
            "    SSID: A.s, Count: 12\n",
            "\n",
            "MAC: 28:87:ba:8d:38:8a, Total Count: 4\n",
            "  SSID(s) and their counts:\n",
            "    SSID: Rana @ Power Link, Count: 4\n",
            "\n",
            "MAC: 04:ba:d6:13:d6:70, Total Count: 30\n",
            "  SSID(s) and their counts:\n",
            "    SSID: Mafuz, Count: 30\n",
            "\n",
            "MAC: 82:af:ca:2c:d6:78, Total Count: 6\n",
            "  SSID(s) and their counts:\n",
            "    SSID: , Count: 6\n",
            "\n",
            "MAC: 60:32:b1:2e:30:67, Total Count: 26\n",
            "  SSID(s) and their counts:\n",
            "    SSID: Saidul, Count: 26\n",
            "\n",
            "MAC: c4:71:54:ba:f1:ec, Total Count: 6\n",
            "  SSID(s) and their counts:\n",
            "    SSID: lsakmia, Count: 6\n",
            "\n",
            "MAC: 3e:64:cf:26:e1:2b, Total Count: 24\n",
            "  SSID(s) and their counts:\n",
            "    SSID: , Count: 24\n",
            "\n",
            "MAC: 28:87:ba:5a:ad:9d, Total Count: 36\n",
            "  SSID(s) and their counts:\n",
            "    SSID: No Wifi Found 5, Count: 36\n",
            "\n",
            "MAC: 28:87:ba:5a:ad:9e, Total Count: 36\n",
            "  SSID(s) and their counts:\n",
            "    SSID: No Wifi Found2.4, Count: 36\n",
            "\n",
            "MAC: dc:62:79:e3:08:dd, Total Count: 30\n",
            "  SSID(s) and their counts:\n",
            "    SSID: Cat House, Count: 30\n",
            "\n",
            "MAC: 0c:80:63:fb:34:c8, Total Count: 32\n",
            "  SSID(s) and their counts:\n",
            "    SSID: Adiba, Count: 32\n",
            "\n",
            "MAC: 80:af:ca:0c:d6:78, Total Count: 8\n",
            "  SSID(s) and their counts:\n",
            "    SSID: Zayan, Count: 8\n",
            "\n",
            "MAC: 60:32:b1:2e:30:68, Total Count: 32\n",
            "  SSID(s) and their counts:\n",
            "    SSID: Saidul, Count: 32\n",
            "\n",
            "MAC: a0:47:d7:3b:39:91, Total Count: 2\n",
            "  SSID(s) and their counts:\n",
            "    SSID: Marufa, Count: 2\n",
            "\n",
            "MAC: 50:0f:f5:36:c6:a1, Total Count: 2\n",
            "  SSID(s) and their counts:\n",
            "    SSID: TUSHAR-SB, Count: 2\n",
            "\n",
            "MAC: 08:40:f3:a0:bd:78, Total Count: 2\n",
            "  SSID(s) and their counts:\n",
            "    SSID: Abdullah, Count: 2\n",
            "\n",
            "MAC: 30:de:4b:67:e3:9a, Total Count: 14\n",
            "  SSID(s) and their counts:\n",
            "    SSID: Ayat, Count: 14\n",
            "\n",
            "MAC: 7c:8b:ca:7e:df:a6, Total Count: 26\n",
            "  SSID(s) and their counts:\n",
            "    SSID: BIDDUT, Count: 26\n",
            "\n",
            "MAC: b0:4e:26:2a:0c:46, Total Count: 2\n",
            "  SSID(s) and their counts:\n",
            "    SSID: Hadis, Count: 2\n",
            "\n",
            "MAC: 3c:84:6a:19:24:66, Total Count: 24\n",
            "  SSID(s) and their counts:\n",
            "    SSID: Rahul, Count: 24\n",
            "\n",
            "MAC: 24:2f:d0:3a:ec:be, Total Count: 22\n",
            "  SSID(s) and their counts:\n",
            "    SSID: Feona, Count: 22\n",
            "\n",
            "MAC: d4:6e:0e:ec:18:d0, Total Count: 20\n",
            "  SSID(s) and their counts:\n",
            "    SSID: Sohan, Count: 20\n",
            "\n",
            "MAC: 4a:22:54:a6:24:d6, Total Count: 20\n",
            "  SSID(s) and their counts:\n",
            "    SSID: , Count: 20\n",
            "\n",
            "MAC: 9c:a2:f4:99:01:2e, Total Count: 22\n",
            "  SSID(s) and their counts:\n",
            "    SSID: Mrs overseas , Count: 22\n",
            "\n",
            "MAC: e0:1c:fc:44:02:38, Total Count: 22\n",
            "  SSID(s) and their counts:\n",
            "    SSID: Rubel  WiFi, Count: 22\n",
            "\n",
            "MAC: 9e:a2:f4:99:01:2e, Total Count: 22\n",
            "  SSID(s) and their counts:\n",
            "    SSID: TP-Link_Guest_012E, Count: 22\n",
            "\n",
            "MAC: 48:22:54:b6:24:d6, Total Count: 20\n",
            "  SSID(s) and their counts:\n",
            "    SSID: Nantu, Count: 20\n",
            "\n",
            "MAC: b4:b0:24:44:17:fa, Total Count: 20\n",
            "  SSID(s) and their counts:\n",
            "    SSID: Sagor, Count: 20\n",
            "\n",
            "MAC: 70:4f:57:54:a4:b6, Total Count: 8\n",
            "  SSID(s) and their counts:\n",
            "    SSID: Rakib, Count: 8\n",
            "\n",
            "MAC: 98:25:4a:a0:d7:de, Total Count: 10\n",
            "  SSID(s) and their counts:\n",
            "    SSID: ҒʀᴇᴇꔪꪝɪҒɪ☣️, Count: 10\n",
            "\n",
            "MAC: c4:e9:84:31:23:34, Total Count: 10\n",
            "  SSID(s) and their counts:\n",
            "    SSID: Tora ar jalais na, Count: 10\n",
            "\n",
            "MAC: 24:2f:d0:39:2e:85, Total Count: 10\n",
            "  SSID(s) and their counts:\n",
            "    SSID: Khurshid, Count: 10\n",
            "\n",
            "MAC: 80:af:ca:33:cc:9a, Total Count: 10\n",
            "  SSID(s) and their counts:\n",
            "    SSID: Liman, Count: 10\n",
            "\n",
            "MAC: bc:0f:9a:21:2a:f4, Total Count: 4\n",
            "  SSID(s) and their counts:\n",
            "    SSID: DIR-615-2AF3, Count: 4\n",
            "\n",
            "MAC: 3c:84:6a:88:81:00, Total Count: 2\n",
            "  SSID(s) and their counts:\n",
            "    SSID: Zia, Count: 2\n",
            "\n",
            "MAC: 50:0f:f5:30:23:88, Total Count: 4\n",
            "  SSID(s) and their counts:\n",
            "    SSID: Solaiman, Count: 4\n",
            "\n",
            "MAC: c4:e9:0a:60:4c:e6, Total Count: 2\n",
            "  SSID(s) and their counts:\n",
            "    SSID: MR Galaxy, Count: 2\n",
            "\n",
            "MAC: 92:90:2d:74:c1:82, Total Count: 2\n",
            "  SSID(s) and their counts:\n",
            "    SSID: , Count: 2\n",
            "\n",
            "MAC: 74:da:88:bf:ce:ac, Total Count: 4\n",
            "  SSID(s) and their counts:\n",
            "    SSID: Raiyan, Count: 4\n",
            "\n",
            "MAC: b2:a7:b9:68:3c:89, Total Count: 4\n",
            "  SSID(s) and their counts:\n",
            "    SSID: , Count: 4\n",
            "\n",
            "MAC: 9e:25:4a:a0:d7:de, Total Count: 10\n",
            "  SSID(s) and their counts:\n",
            "    SSID: , Count: 10\n",
            "\n",
            "MAC: b0:a7:b9:30:d4:c4, Total Count: 8\n",
            "  SSID(s) and their counts:\n",
            "    SSID: Tofajjol, Count: 8\n",
            "\n",
            "MAC: 58:d5:6e:e9:7a:24, Total Count: 2\n",
            "  SSID(s) and their counts:\n",
            "    SSID: Sarwar sgt, Count: 2\n",
            "\n",
            "MAC: bc:62:ce:9d:c5:f6, Total Count: 2\n",
            "  SSID(s) and their counts:\n",
            "    SSID: 3A, Count: 2\n",
            "\n",
            "MAC: f0:b4:d2:0d:16:47, Total Count: 2\n",
            "  SSID(s) and their counts:\n",
            "    SSID: Madhouse, Count: 2\n",
            "\n",
            "MAC: 68:ff:7b:4b:d9:72, Total Count: 6\n",
            "  SSID(s) and their counts:\n",
            "    SSID: Mahmud, Count: 6\n",
            "\n",
            "MAC: d6:e6:83:e5:58:d7, Total Count: 6\n",
            "  SSID(s) and their counts:\n",
            "    SSID: Redmi Note 12 Pro, Count: 6\n",
            "\n",
            "MAC: 34:0a:33:6a:24:5e, Total Count: 30\n",
            "  SSID(s) and their counts:\n",
            "    SSID: ROOM-713, Count: 30\n",
            "\n",
            "MAC: c0:a5:dd:1a:7d:94, Total Count: 2\n",
            "  SSID(s) and their counts:\n",
            "    SSID: Serendipity, Count: 2\n",
            "\n",
            "MAC: 56:e7:d9:61:73:ec, Total Count: 6\n",
            "  SSID(s) and their counts:\n",
            "    SSID: POCO F6_5655, Count: 6\n",
            "\n",
            "MAC: b6:aa:61:51:66:ce, Total Count: 2\n",
            "  SSID(s) and their counts:\n",
            "    SSID: Thuja, Count: 2\n",
            "\n",
            "MAC: 06:83:23:26:49:51, Total Count: 2\n",
            "  SSID(s) and their counts:\n",
            "    SSID: realme C55, Count: 2\n",
            "\n",
            "MAC: 3e:46:39:33:ac:0b, Total Count: 7\n",
            "  SSID(s) and their counts:\n",
            "    SSID: Galaxy A30s40BC, Count: 7\n",
            "\n",
            "MAC: e8:65:d4:52:b3:b0, Total Count: 14\n",
            "  SSID(s) and their counts:\n",
            "    SSID: Room709, Count: 4\n",
            "    SSID: ROOM-709, Count: 10\n",
            "\n",
            "MAC: 00:04:56:fe:23:e7, Total Count: 8\n",
            "  SSID(s) and their counts:\n",
            "    SSID: 00002DhkSknAp1, Count: 8\n",
            "\n",
            "MAC: 70:4c:a5:f5:9b:88, Total Count: 3\n",
            "  SSID(s) and their counts:\n",
            "    SSID: BUET-Free-WiFi, Count: 3\n",
            "\n",
            "MAC: a2:52:b1:d0:08:4c, Total Count: 2\n",
            "  SSID(s) and their counts:\n",
            "    SSID: , Count: 2\n",
            "\n",
            "MAC: 00:22:b0:05:f3:51, Total Count: 209\n",
            "  SSID(s) and their counts:\n",
            "    SSID: CSE-108, Count: 209\n",
            "\n",
            "MAC: 98:25:4a:f1:3a:ed, Total Count: 3\n",
            "  SSID(s) and their counts:\n",
            "    SSID: 1006 5G, Count: 3\n",
            "\n",
            "MAC: 0c:80:63:b5:d6:d2, Total Count: 7\n",
            "  SSID(s) and their counts:\n",
            "    SSID: ROOM-513, Count: 5\n",
            "    SSID: ROOM\"513, Count: 2\n",
            "\n",
            "MAC: 24:2f:d0:88:4c:62, Total Count: 64\n",
            "  SSID(s) and their counts:\n",
            "    SSID: , Count: 64\n",
            "\n",
            "MAC: 24:2f:d0:88:39:a3, Total Count: 31\n",
            "  SSID(s) and their counts:\n",
            "    SSID: , Count: 31\n",
            "\n",
            "MAC: 26:2a:d0:88:39:a3, Total Count: 34\n",
            "  SSID(s) and their counts:\n",
            "    SSID: IAC, Count: 34\n",
            "\n",
            "MAC: 26:2f:d0:88:4c:62, Total Count: 64\n",
            "  SSID(s) and their counts:\n",
            "    SSID: IAC, Count: 64\n",
            "\n",
            "MAC: 56:f1:5f:72:68:1c, Total Count: 123\n",
            "  SSID(s) and their counts:\n",
            "    SSID: Horion_dx, Count: 123\n",
            "\n",
            "MAC: ce:ad:71:f7:d6:3f, Total Count: 68\n",
            "  SSID(s) and their counts:\n",
            "    SSID: , Count: 68\n",
            "\n",
            "MAC: 56:b0:f4:42:18:c1, Total Count: 67\n",
            "  SSID(s) and their counts:\n",
            "    SSID: narzo 50 Pro 5G, Count: 67\n",
            "\n",
            "MAC: c8:e7:d8:89:f1:a6, Total Count: 20\n",
            "  SSID(s) and their counts:\n",
            "    SSID: Imran_Fast Network_01708529844, Count: 20\n",
            "\n",
            "MAC: 70:4c:a5:95:b6:00, Total Count: 5\n",
            "  SSID(s) and their counts:\n",
            "    SSID: BUET-Free-WiFi, Count: 5\n",
            "\n",
            "MAC: 80:af:ca:11:95:ea, Total Count: 8\n",
            "  SSID(s) and their counts:\n",
            "    SSID: Graduate Lobby, Count: 8\n",
            "\n",
            "MAC: 70:4c:a5:95:b6:01, Total Count: 16\n",
            "  SSID(s) and their counts:\n",
            "    SSID: eduroam, Count: 16\n",
            "\n",
            "MAC: da:ee:60:35:62:33, Total Count: 29\n",
            "  SSID(s) and their counts:\n",
            "    SSID: 🫶, Count: 29\n",
            "\n",
            "MAC: 1e:61:b4:ac:79:f3, Total Count: 13\n",
            "  SSID(s) and their counts:\n",
            "    SSID: CSE-306BL, Count: 13\n",
            "\n",
            "MAC: 70:4c:a5:95:a4:20, Total Count: 4\n",
            "  SSID(s) and their counts:\n",
            "    SSID: BUET-Free-WiFi, Count: 4\n",
            "\n",
            "MAC: 70:4c:a5:95:a4:21, Total Count: 4\n",
            "  SSID(s) and their counts:\n",
            "    SSID: eduroam, Count: 4\n",
            "\n",
            "MAC: 1c:61:b4:9c:79:f3, Total Count: 11\n",
            "  SSID(s) and their counts:\n",
            "    SSID: , Count: 11\n",
            "\n",
            "MAC: fe:13:2f:1f:9e:48, Total Count: 24\n",
            "  SSID(s) and their counts:\n",
            "    SSID: Ifti’s iPhone, Count: 24\n",
            "\n",
            "MAC: 70:4c:a5:95:b2:d9, Total Count: 4\n",
            "  SSID(s) and their counts:\n",
            "    SSID: eduroam, Count: 4\n",
            "\n",
            "MAC: 50:eb:f6:17:73:b8, Total Count: 18\n",
            "  SSID(s) and their counts:\n",
            "    SSID: SHAN, Count: 18\n",
            "\n",
            "MAC: 8e:f6:fd:8d:6d:a4, Total Count: 64\n",
            "  SSID(s) and their counts:\n",
            "    SSID: POCO X3 Pro, Count: 64\n",
            "\n",
            "MAC: 70:4c:a5:95:b2:d8, Total Count: 2\n",
            "  SSID(s) and their counts:\n",
            "    SSID: BUET-Free-WiFi, Count: 2\n",
            "\n",
            "MAC: 5c:e9:31:22:bf:97, Total Count: 1\n",
            "  SSID(s) and their counts:\n",
            "    SSID: , Count: 1\n",
            "\n",
            "MAC: 7a:5e:48:b5:31:55, Total Count: 15\n",
            "  SSID(s) and their counts:\n",
            "    SSID: Towfique's S23+, Count: 15\n",
            "\n",
            "MAC: cc:2d:21:b0:04:60, Total Count: 2\n",
            "  SSID(s) and their counts:\n",
            "    SSID: Room 206, Count: 2\n",
            "\n",
            "MAC: 06:f7:98:a7:35:dd, Total Count: 51\n",
            "  SSID(s) and their counts:\n",
            "    SSID: Redmi Note 13 Pro, Count: 51\n",
            "\n",
            "MAC: ea:14:d3:c7:80:b4, Total Count: 17\n",
            "  SSID(s) and their counts:\n",
            "    SSID: Galaxy S22 Ultra 172F, Count: 17\n",
            "\n",
            "MAC: 78:98:e8:38:3b:04, Total Count: 41\n",
            "  SSID(s) and their counts:\n",
            "    SSID: Arham 2.5G Network, Count: 41\n",
            "\n",
            "MAC: 98:25:4a:9a:ef:ee, Total Count: 4\n",
            "  SSID(s) and their counts:\n",
            "    SSID: 803, Count: 4\n",
            "\n",
            "MAC: 82:c7:12:7a:78:44, Total Count: 9\n",
            "  SSID(s) and their counts:\n",
            "    SSID: Say my Name, Count: 9\n",
            "\n",
            "MAC: bc:22:28:21:09:ba, Total Count: 276\n",
            "  SSID(s) and their counts:\n",
            "    SSID: CSE-206, Count: 276\n",
            "\n",
            "MAC: b6:65:08:c5:cb:9e, Total Count: 55\n",
            "  SSID(s) and their counts:\n",
            "    SSID: MohidN20U, Count: 55\n",
            "\n",
            "MAC: 9c:c9:eb:50:1a:04, Total Count: 24\n",
            "  SSID(s) and their counts:\n",
            "    SSID: CSE-405, Count: 24\n",
            "\n",
            "MAC: 5e:a9:31:22:bf:96, Total Count: 42\n",
            "  SSID(s) and their counts:\n",
            "    SSID: CSE-LAB, Count: 42\n",
            "\n",
            "MAC: 5c:e9:31:22:bf:96, Total Count: 41\n",
            "  SSID(s) and their counts:\n",
            "    SSID: , Count: 41\n",
            "\n",
            "MAC: 5e:a9:31:22:c8:de, Total Count: 62\n",
            "  SSID(s) and their counts:\n",
            "    SSID: CSE-LAB, Count: 62\n",
            "\n",
            "MAC: 98:25:4a:0e:36:5e, Total Count: 9\n",
            "  SSID(s) and their counts:\n",
            "    SSID: , Count: 9\n",
            "\n",
            "MAC: 9a:25:4a:0e:36:5e, Total Count: 6\n",
            "  SSID(s) and their counts:\n",
            "    SSID: CSE- G11&G12, Count: 6\n",
            "\n",
            "MAC: 5c:e9:31:22:be:d6, Total Count: 55\n",
            "  SSID(s) and their counts:\n",
            "    SSID: , Count: 55\n",
            "\n",
            "MAC: 5c:e9:31:22:c8:de, Total Count: 41\n",
            "  SSID(s) and their counts:\n",
            "    SSID: , Count: 41\n",
            "\n",
            "MAC: f2:1f:ea:6b:fb:06, Total Count: 86\n",
            "  SSID(s) and their counts:\n",
            "    SSID: hawk, Count: 86\n",
            "\n",
            "MAC: 40:ae:30:2b:87:ea, Total Count: 2\n",
            "  SSID(s) and their counts:\n",
            "    SSID: Room 813, Count: 2\n",
            "\n",
            "MAC: d4:5d:64:1b:40:e4, Total Count: 7\n",
            "  SSID(s) and their counts:\n",
            "    SSID: Asma Sultana, Count: 7\n",
            "\n",
            "MAC: cc:2d:21:01:cb:38, Total Count: 1\n",
            "  SSID(s) and their counts:\n",
            "    SSID: ROOM-812, Count: 1\n",
            "\n",
            "MAC: cc:2d:21:4e:ae:60, Total Count: 7\n",
            "  SSID(s) and their counts:\n",
            "    SSID: Sidolli 708, Count: 7\n",
            "\n",
            "MAC: 70:4c:a5:f5:9b:89, Total Count: 1\n",
            "  SSID(s) and their counts:\n",
            "    SSID: eduroam, Count: 1\n",
            "\n",
            "MAC: c8:e7:d8:86:0c:9e, Total Count: 8\n",
            "  SSID(s) and their counts:\n",
            "    SSID: Room- 808, Count: 8\n",
            "\n",
            "MAC: 28:3b:82:4d:e6:de, Total Count: 1\n",
            "  SSID(s) and their counts:\n",
            "    SSID: Emc(203), Count: 1\n",
            "\n",
            "MAC: 82:af:ca:21:95:ea, Total Count: 2\n",
            "  SSID(s) and their counts:\n",
            "    SSID: , Count: 2\n",
            "\n",
            "MAC: 12:99:b1:da:35:37, Total Count: 46\n",
            "  SSID(s) and their counts:\n",
            "    SSID: Galaxy M12 834E, Count: 46\n",
            "\n",
            "MAC: 12:00:4d:03:42:79, Total Count: 85\n",
            "  SSID(s) and their counts:\n",
            "    SSID: Tatakae🥷, Count: 85\n",
            "\n",
            "MAC: bc:22:28:20:b9:f6, Total Count: 4\n",
            "  SSID(s) and their counts:\n",
            "    SSID: CSE-503, Count: 4\n",
            "\n",
            "MAC: 70:4c:a5:64:bf:19, Total Count: 90\n",
            "  SSID(s) and their counts:\n",
            "    SSID: eduroam, Count: 90\n",
            "\n",
            "MAC: 70:4c:a5:95:b2:d0, Total Count: 14\n",
            "  SSID(s) and their counts:\n",
            "    SSID: BUET-Free-WiFi, Count: 14\n",
            "\n",
            "MAC: e8:65:d4:52:c8:08, Total Count: 1\n",
            "  SSID(s) and their counts:\n",
            "    SSID: Jannat 409, Count: 1\n",
            "\n",
            "MAC: b4:0f:3b:60:a1:f0, Total Count: 1\n",
            "  SSID(s) and their counts:\n",
            "    SSID: Butterfly _414, Count: 1\n",
            "\n",
            "MAC: ac:15:a2:4c:49:9a, Total Count: 14\n",
            "  SSID(s) and their counts:\n",
            "    SSID: Paradise , Count: 14\n",
            "\n",
            "MAC: 70:4c:a5:95:b2:d1, Total Count: 14\n",
            "  SSID(s) and their counts:\n",
            "    SSID: eduroam, Count: 14\n",
            "\n",
            "MAC: 70:4c:a5:64:bf:18, Total Count: 116\n",
            "  SSID(s) and their counts:\n",
            "    SSID: BUET-Free-WiFi, Count: 116\n",
            "\n",
            "MAC: 36:eb:28:75:d2:44, Total Count: 6\n",
            "  SSID(s) and their counts:\n",
            "    SSID: Tanveer Hossain's S23 Ultra, Count: 6\n",
            "\n",
            "MAC: 36:62:f9:a1:8b:8f, Total Count: 13\n",
            "  SSID(s) and their counts:\n",
            "    SSID: CSE OFFICE, Count: 13\n",
            "\n",
            "MAC: 1c:61:b4:9c:7a:1b, Total Count: 2\n",
            "  SSID(s) and their counts:\n",
            "    SSID: , Count: 2\n",
            "\n",
            "MAC: d6:1a:91:9d:30:dc, Total Count: 8\n",
            "  SSID(s) and their counts:\n",
            "    SSID: Sourov_ Alam, Count: 8\n",
            "\n",
            "MAC: 2e:87:ba:35:8b:ea, Total Count: 11\n",
            "  SSID(s) and their counts:\n",
            "    SSID: , Count: 11\n",
            "\n",
            "MAC: c0:25:2f:b1:a3:7a, Total Count: 7\n",
            "  SSID(s) and their counts:\n",
            "    SSID: Md. Himel Hasan, Count: 7\n",
            "\n",
            "MAC: be:ed:be:10:4e:dc, Total Count: 152\n",
            "  SSID(s) and their counts:\n",
            "    SSID: Shabab's Galaxy A52, Count: 152\n",
            "\n",
            "MAC: ca:ba:80:ff:83:1d, Total Count: 2\n",
            "  SSID(s) and their counts:\n",
            "    SSID: Ashis Birai’s iPhone, Count: 2\n",
            "\n",
            "MAC: 98:25:4a:0e:32:36, Total Count: 1\n",
            "  SSID(s) and their counts:\n",
            "    SSID: , Count: 1\n",
            "\n",
            "MAC: 9a:25:4a:0e:32:36, Total Count: 1\n",
            "  SSID(s) and their counts:\n",
            "    SSID: CSE- G11&G12, Count: 1\n",
            "\n",
            "MAC: dc:62:79:93:9e:2a, Total Count: 1\n",
            "  SSID(s) and their counts:\n",
            "    SSID: Wisdom, Count: 1\n",
            "\n",
            "MAC: 9c:53:22:81:ff:f2, Total Count: 1\n",
            "  SSID(s) and their counts:\n",
            "    SSID: CSE -4thT, Count: 1\n",
            "\n",
            "MAC: cc:2d:21:3e:5b:b0, Total Count: 5\n",
            "  SSID(s) and their counts:\n",
            "    SSID: Room 202, Count: 5\n",
            "\n",
            "MAC: 28:87:ba:35:8b:ea, Total Count: 7\n",
            "  SSID(s) and their counts:\n",
            "    SSID: 4s, Count: 7\n",
            "\n",
            "MAC: a2:53:22:81:ff:f2, Total Count: 1\n",
            "  SSID(s) and their counts:\n",
            "    SSID: , Count: 1\n",
            "\n",
            "MAC: 0e:d7:e8:9f:43:24, Total Count: 1\n",
            "  SSID(s) and their counts:\n",
            "    SSID: , Count: 1\n",
            "\n",
            "MAC: , Total Count: 1\n",
            "  SSID(s) and their counts:\n",
            "    SSID: Free, Count: 1\n",
            "\n",
            "MAC: 0a:a4:66:4c:0e:b0, Total Count: 37\n",
            "  SSID(s) and their counts:\n",
            "    SSID: Redmi Note 10S, Count: 37\n",
            "\n",
            "MAC: 70:4c:a5:95:a4:18, Total Count: 6\n",
            "  SSID(s) and their counts:\n",
            "    SSID: BUET-Free-WiFi, Count: 6\n",
            "\n",
            "MAC: 70:4c:a5:95:a4:19, Total Count: 7\n",
            "  SSID(s) and their counts:\n",
            "    SSID: eduroam, Count: 7\n",
            "\n",
            "MAC: 36:54:e2:a6:bd:4b, Total Count: 9\n",
            "  SSID(s) and their counts:\n",
            "    SSID: Redmi Note 10 Pro, Count: 9\n",
            "\n",
            "MAC: cc:2d:21:67:fd:20, Total Count: 33\n",
            "  SSID(s) and their counts:\n",
            "    SSID: 710, Count: 1\n",
            "    SSID: Room no 710, Count: 32\n",
            "\n",
            "MAC: 28:3b:82:4d:c2:ee, Total Count: 10\n",
            "  SSID(s) and their counts:\n",
            "    SSID: 801, Count: 1\n",
            "    SSID: 801 roomies, Count: 9\n",
            "\n",
            "MAC: 3e:52:a1:24:db:4a, Total Count: 4\n",
            "  SSID(s) and their counts:\n",
            "    SSID: , Count: 4\n",
            "\n",
            "MAC: 3c:52:a1:c4:db:4a, Total Count: 3\n",
            "  SSID(s) and their counts:\n",
            "    SSID: palashi association, Count: 3\n",
            "\n",
            "MAC: c8:3a:35:41:0e:e0, Total Count: 4\n",
            "  SSID(s) and their counts:\n",
            "    SSID: Room 706, Count: 4\n",
            "\n",
            "MAC: 0c:80:63:fb:72:74, Total Count: 2\n",
            "  SSID(s) and their counts:\n",
            "    SSID: Slow Wifi, Count: 2\n",
            "\n",
            "MAC: c8:e7:d8:82:7e:dc, Total Count: 1\n",
            "  SSID(s) and their counts:\n",
            "    SSID: Room1003, Count: 1\n",
            "\n",
            "MAC: 52:91:e3:a5:b4:bd, Total Count: 6\n",
            "  SSID(s) and their counts:\n",
            "    SSID: , Count: 6\n",
            "\n",
            "MAC: 38:6b:1c:bd:16:2e, Total Count: 1\n",
            "  SSID(s) and their counts:\n",
            "    SSID: Suptti , Count: 1\n",
            "\n",
            "MAC: bc:22:28:21:70:62, Total Count: 12\n",
            "  SSID(s) and their counts:\n",
            "    SSID: CSE-214, Count: 12\n",
            "\n",
            "MAC: cc:2d:21:3e:9d:18, Total Count: 7\n",
            "  SSID(s) and their counts:\n",
            "    SSID: Lapatta Ladies, Count: 7\n",
            "\n",
            "MAC: 50:91:e3:b5:b4:bd, Total Count: 3\n",
            "  SSID(s) and their counts:\n",
            "    SSID: Haimo, Count: 3\n",
            "\n",
            "MAC: 5c:e9:31:97:28:f4, Total Count: 13\n",
            "  SSID(s) and their counts:\n",
            "    SSID: Room no 1103, Count: 13\n",
            "\n",
            "MAC: c8:e7:d8:82:65:0e, Total Count: 1\n",
            "  SSID(s) and their counts:\n",
            "    SSID: ROOM 406, Count: 1\n",
            "\n",
            "MAC: a2:2f:c7:ce:a6:f0, Total Count: 1\n",
            "  SSID(s) and their counts:\n",
            "    SSID: realme 8 5G, Count: 1\n",
            "\n",
            "MAC: 48:22:54:85:15:6a, Total Count: 6\n",
            "  SSID(s) and their counts:\n",
            "    SSID: 1108, Count: 1\n",
            "    SSID: Room no. 1108, Count: 5\n",
            "\n",
            "MAC: 0c:80:63:6f:74:12, Total Count: 1\n",
            "  SSID(s) and their counts:\n",
            "    SSID: Shakespeare, Count: 1\n",
            "\n",
            "MAC: 34:60:f9:a1:8b:8f, Total Count: 10\n",
            "  SSID(s) and their counts:\n",
            "    SSID: , Count: 10\n",
            "\n",
            "MAC: 8e:de:e6:6b:ca:71, Total Count: 17\n",
            "  SSID(s) and their counts:\n",
            "    SSID: Galaxy M31CA71, Count: 17\n",
            "\n",
            "MAC: 5a:e2:a9:07:7f:d2, Total Count: 2\n",
            "  SSID(s) and their counts:\n",
            "    SSID: mehrab's Galaxy A12, Count: 2\n",
            "\n",
            "MAC: f6:aa:13:bd:ca:80, Total Count: 1\n",
            "  SSID(s) and their counts:\n",
            "    SSID: realme GT NEO 2, Count: 1\n",
            "\n",
            "MAC: 60:63:4c:31:37:68, Total Count: 54\n",
            "  SSID(s) and their counts:\n",
            "    SSID: dlink, Count: 54\n",
            "\n",
            "MAC: c0:25:e9:e1:86:24, Total Count: 3\n",
            "  SSID(s) and their counts:\n",
            "    SSID: Sadia-201, Count: 3\n",
            "\n",
            "MAC: 4a:c7:96:b2:45:e5, Total Count: 1\n",
            "  SSID(s) and their counts:\n",
            "    SSID: AndroidAP05E5, Count: 1\n",
            "\n",
            "MAC: e2:3a:1d:9b:69:d1, Total Count: 1\n",
            "  SSID(s) and their counts:\n",
            "    SSID: realme 10, Count: 1\n",
            "\n",
            "MAC: d6:47:0a:99:1f:ed, Total Count: 3\n",
            "  SSID(s) and their counts:\n",
            "    SSID: চিযান বৌয়ান, Count: 3\n",
            "\n",
            "MAC: bc:22:28:21:70:5f, Total Count: 6\n",
            "  SSID(s) and their counts:\n",
            "    SSID: CSE-214, Count: 6\n",
            "\n",
            "MAC: 70:4c:a5:95:af:70, Total Count: 6\n",
            "  SSID(s) and their counts:\n",
            "    SSID: BUET-Free-WiFi, Count: 6\n",
            "\n",
            "MAC: 70:4c:a5:95:af:71, Total Count: 8\n",
            "  SSID(s) and their counts:\n",
            "    SSID: eduroam, Count: 8\n",
            "\n",
            "MAC: 70:4c:a5:64:bc:60, Total Count: 132\n",
            "  SSID(s) and their counts:\n",
            "    SSID: BUET-Free-WiFi, Count: 132\n",
            "\n",
            "MAC: 70:4c:a5:d3:60:40, Total Count: 5\n",
            "  SSID(s) and their counts:\n",
            "    SSID: BUET-Free-WiFi, Count: 5\n",
            "\n",
            "MAC: 70:4c:a5:64:bc:61, Total Count: 172\n",
            "  SSID(s) and their counts:\n",
            "    SSID: eduroam, Count: 172\n",
            "\n",
            "MAC: 70:4c:a5:95:92:f0, Total Count: 17\n",
            "  SSID(s) and their counts:\n",
            "    SSID: BUET-Free-WiFi, Count: 17\n",
            "\n",
            "MAC: 70:4c:a5:95:92:f1, Total Count: 17\n",
            "  SSID(s) and their counts:\n",
            "    SSID: eduroam, Count: 17\n",
            "\n",
            "MAC: 00:22:3f:e4:8d:80, Total Count: 7\n",
            "  SSID(s) and their counts:\n",
            "    SSID: EEE Room231, Count: 7\n",
            "\n",
            "MAC: cc:2d:21:36:d7:90, Total Count: 37\n",
            "  SSID(s) and their counts:\n",
            "    SSID: Savage-us, Count: 37\n",
            "\n",
            "MAC: 66:83:e7:4e:54:6a, Total Count: 6\n",
            "  SSID(s) and their counts:\n",
            "    SSID: , Count: 6\n",
            "\n",
            "MAC: 90:6a:94:f9:b6:f5, Total Count: 4\n",
            "  SSID(s) and their counts:\n",
            "    SSID: CSE-314, Count: 4\n",
            "\n",
            "MAC: a4:2b:b0:01:15:2c, Total Count: 19\n",
            "  SSID(s) and their counts:\n",
            "    SSID: ROOM-503, Count: 19\n",
            "\n",
            "MAC: 60:63:4c:ac:0c:cb, Total Count: 15\n",
            "  SSID(s) and their counts:\n",
            "    SSID: BTCL_WiFi_15/B, Count: 15\n",
            "\n",
            "MAC: 60:63:4c:ab:f6:6b, Total Count: 10\n",
            "  SSID(s) and their counts:\n",
            "    SSID: EEE_Teachers_WiFi, Count: 10\n",
            "\n",
            "MAC: 60:83:e7:4e:54:6a, Total Count: 3\n",
            "  SSID(s) and their counts:\n",
            "    SSID: BUET_EEE234, Count: 3\n",
            "\n",
            "MAC: 74:da:88:f6:5d:8c, Total Count: 127\n",
            "  SSID(s) and their counts:\n",
            "    SSID: Mimi, Count: 127\n",
            "\n",
            "MAC: bc:22:28:21:09:b7, Total Count: 164\n",
            "  SSID(s) and their counts:\n",
            "    SSID: CSE-206, Count: 164\n",
            "\n",
            "MAC: 84:d8:1b:92:d7:fa, Total Count: 42\n",
            "  SSID(s) and their counts:\n",
            "    SSID: Room-906, Count: 42\n",
            "\n",
            "MAC: 7a:da:88:f6:5d:8c, Total Count: 130\n",
            "  SSID(s) and their counts:\n",
            "    SSID: , Count: 130\n",
            "\n",
            "MAC: bc:22:28:21:09:b8, Total Count: 79\n",
            "  SSID(s) and their counts:\n",
            "    SSID: , Count: 79\n",
            "\n",
            "MAC: cc:2d:21:f9:ee:e8, Total Count: 9\n",
            "  SSID(s) and their counts:\n",
            "    SSID: Princesses _606, Count: 9\n",
            "\n",
            "MAC: ac:15:a2:84:3d:1a, Total Count: 13\n",
            "  SSID(s) and their counts:\n",
            "    SSID: CSE_OBE_CELL, Count: 13\n",
            "\n",
            "MAC: cc:2d:21:37:0c:98, Total Count: 6\n",
            "  SSID(s) and their counts:\n",
            "    SSID: Room 705, Count: 6\n",
            "\n",
            "MAC: 34:60:f9:6c:f3:02, Total Count: 12\n",
            "  SSID(s) and their counts:\n",
            "    SSID: Nahiyan, Count: 12\n",
            "\n",
            "MAC: 54:af:97:71:b9:9d, Total Count: 2\n",
            "  SSID(s) and their counts:\n",
            "    SSID: EEE-240, Count: 2\n",
            "\n",
            "MAC: 20:23:51:9c:f5:ae, Total Count: 4\n",
            "  SSID(s) and their counts:\n",
            "    SSID: , Count: 4\n",
            "\n",
            "MAC: 00:1e:2a:ba:c8:20, Total Count: 19\n",
            "  SSID(s) and their counts:\n",
            "    SSID: CSE-401, Count: 19\n",
            "\n",
            "MAC: ac:15:a2:60:2b:fc, Total Count: 1\n",
            "  SSID(s) and their counts:\n",
            "    SSID: Sharmin , Count: 1\n",
            "\n",
            "MAC: bc:22:28:21:55:6b, Total Count: 75\n",
            "  SSID(s) and their counts:\n",
            "    SSID: CSE-104, Count: 75\n",
            "\n",
            "MAC: 9a:62:f6:0b:eb:84, Total Count: 1\n",
            "  SSID(s) and their counts:\n",
            "    SSID: , Count: 1\n",
            "\n",
            "MAC: 30:de:4b:71:f7:09, Total Count: 1\n",
            "  SSID(s) and their counts:\n",
            "    SSID: Abid, Count: 1\n",
            "\n",
            "MAC: b0:19:21:15:12:3e, Total Count: 4\n",
            "  SSID(s) and their counts:\n",
            "    SSID: Second Home 310, Count: 4\n",
            "\n",
            "MAC: bc:22:28:21:55:6c, Total Count: 36\n",
            "  SSID(s) and their counts:\n",
            "    SSID: , Count: 36\n",
            "\n",
            "MAC: bc:22:28:21:70:60, Total Count: 2\n",
            "  SSID(s) and their counts:\n",
            "    SSID: , Count: 2\n",
            "\n",
            "MAC: e0:1c:fc:a8:de:0c, Total Count: 8\n",
            "  SSID(s) and their counts:\n",
            "    SSID: Rome, Count: 8\n",
            "\n",
            "MAC: 22:23:51:ac:f5:ae, Total Count: 4\n",
            "  SSID(s) and their counts:\n",
            "    SSID: Saiful, Count: 4\n",
            "\n",
            "MAC: 60:63:4c:7b:06:62, Total Count: 4\n",
            "  SSID(s) and their counts:\n",
            "    SSID: Zaeen-Zarir-Tultul, Count: 4\n",
            "\n",
            "MAC: 28:87:ba:8d:5c:e6, Total Count: 9\n",
            "  SSID(s) and their counts:\n",
            "    SSID: BRINTA-10, Count: 9\n",
            "\n",
            "MAC: b4:b0:24:06:ba:46, Total Count: 8\n",
            "  SSID(s) and their counts:\n",
            "    SSID: DSMC-TP-Link, Count: 8\n",
            "\n",
            "MAC: e8:65:d4:94:60:68, Total Count: 11\n",
            "  SSID(s) and their counts:\n",
            "    SSID: Room no 1001, Count: 11\n",
            "\n",
            "MAC: f6:f1:eb:90:57:e8, Total Count: 1\n",
            "  SSID(s) and their counts:\n",
            "    SSID: Redmi Note 10S, Count: 1\n",
            "\n",
            "MAC: 50:d4:f7:9b:ed:46, Total Count: 4\n",
            "  SSID(s) and their counts:\n",
            "    SSID: HAMEEM, Count: 4\n",
            "\n",
            "MAC: cc:2d:21:14:ab:60, Total Count: 6\n",
            "  SSID(s) and their counts:\n",
            "    SSID: Sree♥️, Count: 6\n",
            "\n",
            "MAC: c8:e7:d8:82:59:3c, Total Count: 9\n",
            "  SSID(s) and their counts:\n",
            "    SSID: Room 704, Count: 9\n",
            "\n",
            "MAC: c8:e7:d8:82:8d:42, Total Count: 1\n",
            "  SSID(s) and their counts:\n",
            "    SSID: Fairy & ghost, Count: 1\n",
            "\n",
            "MAC: e8:48:b8:4e:b9:a2, Total Count: 15\n",
            "  SSID(s) and their counts:\n",
            "    SSID: Creative girls, Count: 15\n",
            "\n",
            "MAC: 50:d4:f7:15:d1:ee, Total Count: 2\n",
            "  SSID(s) and their counts:\n",
            "    SSID: Corona virus, Count: 2\n",
            "\n",
            "MAC: f2:8b:25:5c:f1:42, Total Count: 1\n",
            "  SSID(s) and their counts:\n",
            "    SSID: M10, Count: 1\n",
            "\n",
            "MAC: b8:3a:08:dd:a2:98, Total Count: 5\n",
            "  SSID(s) and their counts:\n",
            "    SSID: Room no. 306, Count: 5\n",
            "\n",
            "MAC: e6:cc:23:77:cd:dd, Total Count: 1\n",
            "  SSID(s) and their counts:\n",
            "    SSID: Galaxy A50, Count: 1\n",
            "\n",
            "MAC: 70:4c:a5:d3:60:41, Total Count: 6\n",
            "  SSID(s) and their counts:\n",
            "    SSID: eduroam, Count: 6\n",
            "\n",
            "MAC: 1e:52:21:8f:f4:6b, Total Count: 1\n",
            "  SSID(s) and their counts:\n",
            "    SSID: Mohiuddin111, Count: 1\n",
            "\n",
            "MAC: 18:d6:c7:ab:26:90, Total Count: 2\n",
            "  SSID(s) and their counts:\n",
            "    SSID: 402, Count: 2\n",
            "\n",
            "MAC: d4:6e:0e:87:57:c2, Total Count: 1\n",
            "  SSID(s) and their counts:\n",
            "    SSID: Ame505, Count: 1\n",
            "\n",
            "MAC: 00:e0:4c:94:c8:f8, Total Count: 1\n",
            "  SSID(s) and their counts:\n",
            "    SSID: Room514, Count: 1\n",
            "\n",
            "MAC: f4:a4:54:87:35:58, Total Count: 2\n",
            "  SSID(s) and their counts:\n",
            "    SSID: BTCL, Count: 2\n",
            "\n",
            "MAC: c8:d3:a3:21:82:88, Total Count: 4\n",
            "  SSID(s) and their counts:\n",
            "    SSID: CSE-118, Count: 4\n",
            "\n",
            "MAC: 0c:80:63:ea:5d:6a, Total Count: 3\n",
            "  SSID(s) and their counts:\n",
            "    SSID: Roomies 1102, Count: 3\n",
            "\n",
            "MAC: ac:15:a2:60:2c:ee, Total Count: 1\n",
            "  SSID(s) and their counts:\n",
            "    SSID: Flowers 106, Count: 1\n",
            "\n",
            "MAC: cc:2d:21:9c:77:b0, Total Count: 1\n",
            "  SSID(s) and their counts:\n",
            "    SSID: Creativity 406, Count: 1\n",
            "\n",
            "MAC: c8:e7:d8:82:7d:54, Total Count: 1\n",
            "  SSID(s) and their counts:\n",
            "    SSID: Tilottoma1002, Count: 1\n",
            "\n",
            "MAC: ae:15:a2:70:2c:ee, Total Count: 1\n",
            "  SSID(s) and their counts:\n",
            "    SSID: Baby, Count: 1\n",
            "\n",
            "MAC: 0c:80:63:b5:ec:68, Total Count: 13\n",
            "  SSID(s) and their counts:\n",
            "    SSID: শেষের কবিতা , Count: 13\n",
            "\n"
          ]
        }
      ],
      "source": [
        "\n",
        "# File paths\n",
        "scan_list_csv = folder + \"scan_lists.csv\"\n",
        "\n",
        "# Data structures to store statistics\n",
        "mac_counts = defaultdict(int)  # To count occurrences of each MAC address\n",
        "mac_to_ssid_counts = defaultdict(lambda: defaultdict(int))  # To count SSIDs under each MAC address\n",
        "\n",
        "# Read the scan_lists.csv file\n",
        "with open(scan_list_csv, \"r\") as file:\n",
        "    reader = csv.DictReader(file)\n",
        "    for row in reader:\n",
        "        ssid = row[\"SSID\"]\n",
        "        mac_address = row[\"MacAddress\"]\n",
        "\n",
        "        # Update MAC address count\n",
        "        mac_counts[mac_address] += 1\n",
        "\n",
        "        # Count SSID occurrences under each MAC address\n",
        "        mac_to_ssid_counts[mac_address][ssid] += 1\n",
        "\n",
        "# Display the results\n",
        "print(\"MAC Address Count and Corresponding SSID Counts:\")\n",
        "for mac, mac_count in mac_counts.items():\n",
        "    print(f\"MAC: {mac}, Total Count: {mac_count}\")\n",
        "    print(\"  SSID(s) and their counts:\")\n",
        "    for ssid, ssid_count in mac_to_ssid_counts[mac].items():\n",
        "        print(f\"    SSID: {ssid}, Count: {ssid_count}\")\n",
        "    print()"
      ]
    },
    {
      "cell_type": "code",
      "execution_count": 6,
      "metadata": {
        "colab": {
          "base_uri": "https://localhost:8080/"
        },
        "id": "85p4BlzrJlQb",
        "outputId": "fa8c892a-2230-4e11-caf3-40b24c529e86"
      },
      "outputs": [
        {
          "name": "stdout",
          "output_type": "stream",
          "text": [
            "Statistics CSV created successfully!\n"
          ]
        }
      ],
      "source": [
        "# File paths\n",
        "scan_list_csv = folder+\"scan_lists.csv\"\n",
        "entries_csv = folder+\"entries.csv\"\n",
        "output_csv = folder+\"mac_address_statistics.csv\"\n",
        "\n",
        "\n",
        "# Data structure to store scan data per entryId\n",
        "entry_scans = defaultdict(list)\n",
        "\n",
        "# Data structure to store total number of scans per entryId (from entries.csv)\n",
        "entry_num_scans = {}\n",
        "\n",
        "# Read the entries.csv file and get the total number of scans for each entryId\n",
        "with open(entries_csv, \"r\") as file:\n",
        "    reader = csv.DictReader(file)\n",
        "    for row in reader:\n",
        "        entry_id = int(row[\"entryId\"])\n",
        "        num_scans = int(row[\"NumScans\"])\n",
        "        entry_num_scans[entry_id] = num_scans\n",
        "\n",
        "# Read the scan_lists.csv file and collect scan data\n",
        "with open(scan_list_csv, \"r\") as file:\n",
        "    reader = csv.DictReader(file)\n",
        "    for row in reader:\n",
        "        entry_id = int(row[\"entryId\"])\n",
        "        mac_address = row[\"MacAddress\"]\n",
        "        ssid = row[\"SSID\"]\n",
        "        strength = int(row[\"Strength\"])\n",
        "\n",
        "        entry_scans[entry_id].append({\n",
        "            \"mac_address\": mac_address,\n",
        "            \"ssid\": ssid,\n",
        "            \"strength\": strength\n",
        "        })\n",
        "\n",
        "# Remove outliers (top 20% and bottom 20%)\n",
        "def remove_outliers(data):\n",
        "    if len(data) < 5:  # Not enough data to remove outliers\n",
        "        return data\n",
        "    sorted_data = sorted(data)\n",
        "    n = len(sorted_data)\n",
        "    lower_index = int(n * 0.2)\n",
        "    upper_index = int(n * 0.8)\n",
        "    return sorted_data[lower_index:upper_index]\n",
        "\n",
        "# Prepare the list for output CSV\n",
        "output_data = []\n",
        "\n",
        "# Process each entryId and its corresponding scans\n",
        "for entry_id, scans in entry_scans.items():\n",
        "    mac_stats = defaultdict(list)\n",
        "    mac_to_ssid = {}\n",
        "\n",
        "    # Collect scan data for each MAC address\n",
        "    for scan in scans:\n",
        "        mac_address = scan[\"mac_address\"]\n",
        "        ssid = scan[\"ssid\"]\n",
        "        strength = scan[\"strength\"]\n",
        "        \n",
        "        mac_to_ssid[mac_address] = ssid\n",
        "\n",
        "        # Store the strength for averaging\n",
        "        mac_stats[mac_address].append(strength)\n",
        "\n",
        "    # Process each MAC address for statistics\n",
        "    for mac_address, strengths in mac_stats.items():\n",
        "        num_scans = entry_num_scans.get(entry_id, 0)  # Get total scans for entryId from entry_num_scans\n",
        "\n",
        "        # Average strength and standard deviation\n",
        "        avg_strength = np.mean(strengths)\n",
        "        std_dev = np.std(strengths)\n",
        "\n",
        "        # Calculate the average strength and standard deviation after removing outliers\n",
        "        filtered_strengths = remove_outliers(strengths)\n",
        "        avg_strength_no_outliers = np.mean(filtered_strengths) if filtered_strengths else 0\n",
        "        std_dev_no_outliers = np.std(filtered_strengths) if filtered_strengths else 0\n",
        "        count_no_outliers = len(filtered_strengths)\n",
        "\n",
        "        ssid = mac_to_ssid[mac_address]\n",
        "\n",
        "        # Add the row to output data\n",
        "        output_data.append([\n",
        "            entry_id,  # The entryId\n",
        "            num_scans,  # The total number of scans for the entryId (same for all rows of the same entryId)\n",
        "            mac_address,  # The MAC address\n",
        "            ssid,  # The SSID (consistent for each MAC address in the entry)\n",
        "            len(strengths),  # The count of scans for this particular MAC address\n",
        "            round(avg_strength, 2),  # Average strength\n",
        "            round(std_dev, 2),  # Standard deviation\n",
        "            round(avg_strength_no_outliers, 2),  # Average strength after removing outliers\n",
        "            count_no_outliers,  # Count of valid scans after removing outliers\n",
        "            round(std_dev_no_outliers, 2)  # Standard deviation after removing outliers\n",
        "        ])\n",
        "\n",
        "# Write the results to the new CSV file\n",
        "with open(output_csv, \"w\", newline=\"\") as file:\n",
        "    writer = csv.writer(file)\n",
        "    writer.writerow([\n",
        "        \"entryId\", \"numOfScans\", \"macAddress\", \"ssid\", \"countOfMac\",\n",
        "        \"avgStrength\", \"stdDev\", \"avgStrengthNoOutliers\", \"countNoOutliers\", \"stdDevNoOutliers\"\n",
        "    ])\n",
        "    writer.writerows(output_data)\n",
        "\n",
        "print(\"Statistics CSV created successfully!\")\n"
      ]
    },
    {
      "cell_type": "code",
      "execution_count": 7,
      "metadata": {},
      "outputs": [
        {
          "name": "stdout",
          "output_type": "stream",
          "text": [
            "New CSV file created successfully: 23_batch_data/mac_count.csv\n"
          ]
        }
      ],
      "source": [
        "\n",
        "# Load the input CSV\n",
        "input_csv = folder+\"mac_address_statistics.csv\"  # Replace with your actual file name\n",
        "data = pd.read_csv(input_csv)\n",
        "\n",
        "# Group by macAddress, aggregate count, and retain unique ssid\n",
        "result = (\n",
        "    data.groupby(\"macAddress\")\n",
        "    .agg(\n",
        "        ssid=(\"ssid\", \"first\"),  # Get the first (and only) ssid per macAddress\n",
        "        total_count=(\"macAddress\", \"size\"),  # Count the occurrences\n",
        "    )\n",
        "    .reset_index()\n",
        ")\n",
        "\n",
        "# Sort by total count in descending order\n",
        "result = result.sort_values(by=\"total_count\", ascending=False)\n",
        "\n",
        "# Save to a new CSV\n",
        "output_csv = folder+\"mac_count.csv\"  # Desired output file name\n",
        "result.to_csv(output_csv, index=False)\n",
        "\n",
        "print(\"New CSV file created successfully:\", output_csv)\n"
      ]
    },
    {
      "cell_type": "code",
      "execution_count": 8,
      "metadata": {},
      "outputs": [
        {
          "name": "stdout",
          "output_type": "stream",
          "text": [
            "Filtered CSV file created successfully: 23_batch_data/filtered_output.csv\n"
          ]
        }
      ],
      "source": [
        "\n",
        "# Define the SafeMacs list\n",
        "SafeMacs = [\n",
        "    \"60:63:4c:31:37:40\", \"30:b5:c2:ea:5b:44\", \"18:0f:76:c3:06:8d\", \"00:22:b0:05:f3:bc\",\n",
        "    \"bc:22:28:21:09:21\", \"36:20:f9:a1:88:62\", \"36:20:f9:a1:88:56\", \"bc:22:28:21:09:24\",\n",
        "    \"36:62:f9:a1:88:63\", \"bc:22:28:21:55:6b\", \"34:e8:94:10:7d:fa\", \"36:20:f9:a1:8b:8e\",\n",
        "    \"36:20:f9:a1:8b:8e\", \"5e:a9:31:22:bb:0a\", \"bc:22:28:21:55:6e\", \"bc:22:28:21:09:ba\",\n",
        "    \"26:2f:d0:88:39:a2\", \"36:62:f9:a1:88:57\", \"60:63:4c:31:37:60\", \"10:62:eb:77:b7:42\",\n",
        "    \"00:1e:2a:ba:c8:20\", \"70:4c:a5:95:b6:00\", \"60:63:4c:31:37:48\"\n",
        "]\n",
        "\n",
        "# Load the input CSV\n",
        "input_csv = folder+\"mac_address_statistics.csv\"\n",
        "data = pd.read_csv(input_csv)\n",
        "\n",
        "# Filter rows where macAddress is in the SafeMacs list\n",
        "filtered_data = data[data[\"macAddress\"].isin(SafeMacs)]\n",
        "\n",
        "# Save the filtered data to a new CSV\n",
        "output_csv = folder+\"filtered_output.csv\"  # Desired output file name\n",
        "filtered_data.to_csv(output_csv, index=False)\n",
        "\n",
        "print(\"Filtered CSV file created successfully:\", output_csv)"
      ]
    },
    {
      "cell_type": "code",
      "execution_count": 9,
      "metadata": {},
      "outputs": [
        {
          "name": "stdout",
          "output_type": "stream",
          "text": [
            "Transformed CSV file created successfully: 23_batch_data/matrix.csv\n"
          ]
        }
      ],
      "source": [
        "# Load the additional CSV with room information\n",
        "room_info_csv = folder+\"entries.csv\"  # Replace with the actual file name\n",
        "room_data = pd.read_csv(room_info_csv)\n",
        "\n",
        "# Create a pivot table with entryId as rows, macAddress as columns, and avgStrengthNoOutliers as values\n",
        "pivot_table = filtered_data.pivot_table(\n",
        "    index=\"entryId\", columns=\"macAddress\", values=\"avgStrengthNoOutliers\", aggfunc=\"mean\"\n",
        ")\n",
        "\n",
        "# Fill missing values with -90\n",
        "pivot_table = pivot_table.fillna(-90)\n",
        "\n",
        "# Add a multi-index column for macAddress and SSID\n",
        "ssid_mapping = dict(zip(filtered_data[\"macAddress\"], filtered_data[\"ssid\"]))\n",
        "column_tuples = [(mac, ssid_mapping.get(mac, \"Unknown\")) for mac in SafeMacs]\n",
        "pivot_table = pivot_table.reindex(columns=[mac for mac, _ in column_tuples], fill_value=-90)\n",
        "pivot_table.columns = pd.MultiIndex.from_tuples(column_tuples, names=[\"macAddress\", \"SSID\"])\n",
        "\n",
        "# Flatten the multi-level columns and convert each element to a string before joining\n",
        "pivot_table.columns = [\"_\".join(str(col) for col in item).strip() for item in pivot_table.columns]\n",
        "\n",
        "# Reset index to make entryId a column\n",
        "pivot_table = pivot_table.reset_index()\n",
        "\n",
        "# Merge with room information using entryId\n",
        "merged_data = pd.merge(room_data[[\"entryId\", \"roomNo\"]], pivot_table, on=\"entryId\", how=\"left\")\n",
        "\n",
        "# Save the matrix to a new CSV\n",
        "output_csv = folder+\"matrix.csv\"\n",
        "merged_data.to_csv(output_csv, index=False)\n",
        "\n",
        "print(\"Transformed CSV file created successfully:\", output_csv)"
      ]
    },
    {
      "cell_type": "code",
      "execution_count": 21,
      "metadata": {},
      "outputs": [
        {
          "ename": "ValueError",
          "evalue": "Input contains NaN.",
          "output_type": "error",
          "traceback": [
            "\u001b[0;31m---------------------------------------------------------------------------\u001b[0m",
            "\u001b[0;31mValueError\u001b[0m                                Traceback (most recent call last)",
            "Cell \u001b[0;32mIn[21], line 18\u001b[0m\n\u001b[1;32m     16\u001b[0m \u001b[38;5;66;03m# Generate UMAP embeddings\u001b[39;00m\n\u001b[1;32m     17\u001b[0m umap_reducer \u001b[38;5;241m=\u001b[39m UMAP(random_state\u001b[38;5;241m=\u001b[39m\u001b[38;5;241m42\u001b[39m)\n\u001b[0;32m---> 18\u001b[0m umap_embedding \u001b[38;5;241m=\u001b[39m \u001b[43mumap_reducer\u001b[49m\u001b[38;5;241;43m.\u001b[39;49m\u001b[43mfit_transform\u001b[49m\u001b[43m(\u001b[49m\u001b[43mfeatures_scaled\u001b[49m\u001b[43m)\u001b[49m\n\u001b[1;32m     20\u001b[0m \u001b[38;5;66;03m# Generate t-SNE embeddings\u001b[39;00m\n\u001b[1;32m     21\u001b[0m tsne \u001b[38;5;241m=\u001b[39m TSNE(n_components\u001b[38;5;241m=\u001b[39m\u001b[38;5;241m2\u001b[39m, random_state\u001b[38;5;241m=\u001b[39m\u001b[38;5;241m42\u001b[39m, perplexity\u001b[38;5;241m=\u001b[39m\u001b[38;5;241m5\u001b[39m)\n",
            "File \u001b[0;32m~/anaconda3/envs/image_ml/lib/python3.9/site-packages/umap/umap_.py:2928\u001b[0m, in \u001b[0;36mUMAP.fit_transform\u001b[0;34m(self, X, y, force_all_finite, **kwargs)\u001b[0m\n\u001b[1;32m   2890\u001b[0m \u001b[38;5;28;01mdef\u001b[39;00m \u001b[38;5;21mfit_transform\u001b[39m(\u001b[38;5;28mself\u001b[39m, X, y\u001b[38;5;241m=\u001b[39m\u001b[38;5;28;01mNone\u001b[39;00m, force_all_finite\u001b[38;5;241m=\u001b[39m\u001b[38;5;28;01mTrue\u001b[39;00m, \u001b[38;5;241m*\u001b[39m\u001b[38;5;241m*\u001b[39mkwargs):\n\u001b[1;32m   2891\u001b[0m \u001b[38;5;250m    \u001b[39m\u001b[38;5;124;03m\"\"\"Fit X into an embedded space and return that transformed\u001b[39;00m\n\u001b[1;32m   2892\u001b[0m \u001b[38;5;124;03m    output.\u001b[39;00m\n\u001b[1;32m   2893\u001b[0m \n\u001b[0;32m   (...)\u001b[0m\n\u001b[1;32m   2926\u001b[0m \u001b[38;5;124;03m        Local radii of data points in the embedding (log-transformed).\u001b[39;00m\n\u001b[1;32m   2927\u001b[0m \u001b[38;5;124;03m    \"\"\"\u001b[39;00m\n\u001b[0;32m-> 2928\u001b[0m     \u001b[38;5;28;43mself\u001b[39;49m\u001b[38;5;241;43m.\u001b[39;49m\u001b[43mfit\u001b[49m\u001b[43m(\u001b[49m\u001b[43mX\u001b[49m\u001b[43m,\u001b[49m\u001b[43m \u001b[49m\u001b[43my\u001b[49m\u001b[43m,\u001b[49m\u001b[43m \u001b[49m\u001b[43mforce_all_finite\u001b[49m\u001b[43m,\u001b[49m\u001b[43m \u001b[49m\u001b[38;5;241;43m*\u001b[39;49m\u001b[38;5;241;43m*\u001b[39;49m\u001b[43mkwargs\u001b[49m\u001b[43m)\u001b[49m\n\u001b[1;32m   2929\u001b[0m     \u001b[38;5;28;01mif\u001b[39;00m \u001b[38;5;28mself\u001b[39m\u001b[38;5;241m.\u001b[39mtransform_mode \u001b[38;5;241m==\u001b[39m \u001b[38;5;124m\"\u001b[39m\u001b[38;5;124membedding\u001b[39m\u001b[38;5;124m\"\u001b[39m:\n\u001b[1;32m   2930\u001b[0m         \u001b[38;5;28;01mif\u001b[39;00m \u001b[38;5;28mself\u001b[39m\u001b[38;5;241m.\u001b[39moutput_dens:\n",
            "File \u001b[0;32m~/anaconda3/envs/image_ml/lib/python3.9/site-packages/umap/umap_.py:2372\u001b[0m, in \u001b[0;36mUMAP.fit\u001b[0;34m(self, X, y, force_all_finite, **kwargs)\u001b[0m\n\u001b[1;32m   2368\u001b[0m     X \u001b[38;5;241m=\u001b[39m check_array(\n\u001b[1;32m   2369\u001b[0m         X, dtype\u001b[38;5;241m=\u001b[39mnp\u001b[38;5;241m.\u001b[39muint8, order\u001b[38;5;241m=\u001b[39m\u001b[38;5;124m\"\u001b[39m\u001b[38;5;124mC\u001b[39m\u001b[38;5;124m\"\u001b[39m, force_all_finite\u001b[38;5;241m=\u001b[39mforce_all_finite\n\u001b[1;32m   2370\u001b[0m     )\n\u001b[1;32m   2371\u001b[0m \u001b[38;5;28;01melse\u001b[39;00m:\n\u001b[0;32m-> 2372\u001b[0m     X \u001b[38;5;241m=\u001b[39m \u001b[43mcheck_array\u001b[49m\u001b[43m(\u001b[49m\n\u001b[1;32m   2373\u001b[0m \u001b[43m        \u001b[49m\u001b[43mX\u001b[49m\u001b[43m,\u001b[49m\n\u001b[1;32m   2374\u001b[0m \u001b[43m        \u001b[49m\u001b[43mdtype\u001b[49m\u001b[38;5;241;43m=\u001b[39;49m\u001b[43mnp\u001b[49m\u001b[38;5;241;43m.\u001b[39;49m\u001b[43mfloat32\u001b[49m\u001b[43m,\u001b[49m\n\u001b[1;32m   2375\u001b[0m \u001b[43m        \u001b[49m\u001b[43maccept_sparse\u001b[49m\u001b[38;5;241;43m=\u001b[39;49m\u001b[38;5;124;43m\"\u001b[39;49m\u001b[38;5;124;43mcsr\u001b[39;49m\u001b[38;5;124;43m\"\u001b[39;49m\u001b[43m,\u001b[49m\n\u001b[1;32m   2376\u001b[0m \u001b[43m        \u001b[49m\u001b[43morder\u001b[49m\u001b[38;5;241;43m=\u001b[39;49m\u001b[38;5;124;43m\"\u001b[39;49m\u001b[38;5;124;43mC\u001b[39;49m\u001b[38;5;124;43m\"\u001b[39;49m\u001b[43m,\u001b[49m\n\u001b[1;32m   2377\u001b[0m \u001b[43m        \u001b[49m\u001b[43mforce_all_finite\u001b[49m\u001b[38;5;241;43m=\u001b[39;49m\u001b[43mforce_all_finite\u001b[49m\u001b[43m,\u001b[49m\n\u001b[1;32m   2378\u001b[0m \u001b[43m    \u001b[49m\u001b[43m)\u001b[49m\n\u001b[1;32m   2379\u001b[0m \u001b[38;5;28mself\u001b[39m\u001b[38;5;241m.\u001b[39m_raw_data \u001b[38;5;241m=\u001b[39m X\n\u001b[1;32m   2381\u001b[0m \u001b[38;5;66;03m# Handle all the optional arguments, setting default\u001b[39;00m\n",
            "File \u001b[0;32m~/anaconda3/envs/image_ml/lib/python3.9/site-packages/sklearn/utils/validation.py:1064\u001b[0m, in \u001b[0;36mcheck_array\u001b[0;34m(array, accept_sparse, accept_large_sparse, dtype, order, copy, force_writeable, force_all_finite, ensure_2d, allow_nd, ensure_min_samples, ensure_min_features, estimator, input_name)\u001b[0m\n\u001b[1;32m   1058\u001b[0m     \u001b[38;5;28;01mraise\u001b[39;00m \u001b[38;5;167;01mValueError\u001b[39;00m(\n\u001b[1;32m   1059\u001b[0m         \u001b[38;5;124m\"\u001b[39m\u001b[38;5;124mFound array with dim \u001b[39m\u001b[38;5;132;01m%d\u001b[39;00m\u001b[38;5;124m. \u001b[39m\u001b[38;5;132;01m%s\u001b[39;00m\u001b[38;5;124m expected <= 2.\u001b[39m\u001b[38;5;124m\"\u001b[39m\n\u001b[1;32m   1060\u001b[0m         \u001b[38;5;241m%\u001b[39m (array\u001b[38;5;241m.\u001b[39mndim, estimator_name)\n\u001b[1;32m   1061\u001b[0m     )\n\u001b[1;32m   1063\u001b[0m \u001b[38;5;28;01mif\u001b[39;00m force_all_finite:\n\u001b[0;32m-> 1064\u001b[0m     \u001b[43m_assert_all_finite\u001b[49m\u001b[43m(\u001b[49m\n\u001b[1;32m   1065\u001b[0m \u001b[43m        \u001b[49m\u001b[43marray\u001b[49m\u001b[43m,\u001b[49m\n\u001b[1;32m   1066\u001b[0m \u001b[43m        \u001b[49m\u001b[43minput_name\u001b[49m\u001b[38;5;241;43m=\u001b[39;49m\u001b[43minput_name\u001b[49m\u001b[43m,\u001b[49m\n\u001b[1;32m   1067\u001b[0m \u001b[43m        \u001b[49m\u001b[43mestimator_name\u001b[49m\u001b[38;5;241;43m=\u001b[39;49m\u001b[43mestimator_name\u001b[49m\u001b[43m,\u001b[49m\n\u001b[1;32m   1068\u001b[0m \u001b[43m        \u001b[49m\u001b[43mallow_nan\u001b[49m\u001b[38;5;241;43m=\u001b[39;49m\u001b[43mforce_all_finite\u001b[49m\u001b[43m \u001b[49m\u001b[38;5;241;43m==\u001b[39;49m\u001b[43m \u001b[49m\u001b[38;5;124;43m\"\u001b[39;49m\u001b[38;5;124;43mallow-nan\u001b[39;49m\u001b[38;5;124;43m\"\u001b[39;49m\u001b[43m,\u001b[49m\n\u001b[1;32m   1069\u001b[0m \u001b[43m    \u001b[49m\u001b[43m)\u001b[49m\n\u001b[1;32m   1071\u001b[0m \u001b[38;5;28;01mif\u001b[39;00m copy:\n\u001b[1;32m   1072\u001b[0m     \u001b[38;5;28;01mif\u001b[39;00m _is_numpy_namespace(xp):\n\u001b[1;32m   1073\u001b[0m         \u001b[38;5;66;03m# only make a copy if `array` and `array_orig` may share memory`\u001b[39;00m\n",
            "File \u001b[0;32m~/anaconda3/envs/image_ml/lib/python3.9/site-packages/sklearn/utils/validation.py:123\u001b[0m, in \u001b[0;36m_assert_all_finite\u001b[0;34m(X, allow_nan, msg_dtype, estimator_name, input_name)\u001b[0m\n\u001b[1;32m    120\u001b[0m \u001b[38;5;28;01mif\u001b[39;00m first_pass_isfinite:\n\u001b[1;32m    121\u001b[0m     \u001b[38;5;28;01mreturn\u001b[39;00m\n\u001b[0;32m--> 123\u001b[0m \u001b[43m_assert_all_finite_element_wise\u001b[49m\u001b[43m(\u001b[49m\n\u001b[1;32m    124\u001b[0m \u001b[43m    \u001b[49m\u001b[43mX\u001b[49m\u001b[43m,\u001b[49m\n\u001b[1;32m    125\u001b[0m \u001b[43m    \u001b[49m\u001b[43mxp\u001b[49m\u001b[38;5;241;43m=\u001b[39;49m\u001b[43mxp\u001b[49m\u001b[43m,\u001b[49m\n\u001b[1;32m    126\u001b[0m \u001b[43m    \u001b[49m\u001b[43mallow_nan\u001b[49m\u001b[38;5;241;43m=\u001b[39;49m\u001b[43mallow_nan\u001b[49m\u001b[43m,\u001b[49m\n\u001b[1;32m    127\u001b[0m \u001b[43m    \u001b[49m\u001b[43mmsg_dtype\u001b[49m\u001b[38;5;241;43m=\u001b[39;49m\u001b[43mmsg_dtype\u001b[49m\u001b[43m,\u001b[49m\n\u001b[1;32m    128\u001b[0m \u001b[43m    \u001b[49m\u001b[43mestimator_name\u001b[49m\u001b[38;5;241;43m=\u001b[39;49m\u001b[43mestimator_name\u001b[49m\u001b[43m,\u001b[49m\n\u001b[1;32m    129\u001b[0m \u001b[43m    \u001b[49m\u001b[43minput_name\u001b[49m\u001b[38;5;241;43m=\u001b[39;49m\u001b[43minput_name\u001b[49m\u001b[43m,\u001b[49m\n\u001b[1;32m    130\u001b[0m \u001b[43m\u001b[49m\u001b[43m)\u001b[49m\n",
            "File \u001b[0;32m~/anaconda3/envs/image_ml/lib/python3.9/site-packages/sklearn/utils/validation.py:172\u001b[0m, in \u001b[0;36m_assert_all_finite_element_wise\u001b[0;34m(X, xp, allow_nan, msg_dtype, estimator_name, input_name)\u001b[0m\n\u001b[1;32m    155\u001b[0m \u001b[38;5;28;01mif\u001b[39;00m estimator_name \u001b[38;5;129;01mand\u001b[39;00m input_name \u001b[38;5;241m==\u001b[39m \u001b[38;5;124m\"\u001b[39m\u001b[38;5;124mX\u001b[39m\u001b[38;5;124m\"\u001b[39m \u001b[38;5;129;01mand\u001b[39;00m has_nan_error:\n\u001b[1;32m    156\u001b[0m     \u001b[38;5;66;03m# Improve the error message on how to handle missing values in\u001b[39;00m\n\u001b[1;32m    157\u001b[0m     \u001b[38;5;66;03m# scikit-learn.\u001b[39;00m\n\u001b[1;32m    158\u001b[0m     msg_err \u001b[38;5;241m+\u001b[39m\u001b[38;5;241m=\u001b[39m (\n\u001b[1;32m    159\u001b[0m         \u001b[38;5;124mf\u001b[39m\u001b[38;5;124m\"\u001b[39m\u001b[38;5;130;01m\\n\u001b[39;00m\u001b[38;5;132;01m{\u001b[39;00mestimator_name\u001b[38;5;132;01m}\u001b[39;00m\u001b[38;5;124m does not accept missing values\u001b[39m\u001b[38;5;124m\"\u001b[39m\n\u001b[1;32m    160\u001b[0m         \u001b[38;5;124m\"\u001b[39m\u001b[38;5;124m encoded as NaN natively. For supervised learning, you might want\u001b[39m\u001b[38;5;124m\"\u001b[39m\n\u001b[0;32m   (...)\u001b[0m\n\u001b[1;32m    170\u001b[0m         \u001b[38;5;124m\"\u001b[39m\u001b[38;5;124m#estimators-that-handle-nan-values\u001b[39m\u001b[38;5;124m\"\u001b[39m\n\u001b[1;32m    171\u001b[0m     )\n\u001b[0;32m--> 172\u001b[0m \u001b[38;5;28;01mraise\u001b[39;00m \u001b[38;5;167;01mValueError\u001b[39;00m(msg_err)\n",
            "\u001b[0;31mValueError\u001b[0m: Input contains NaN."
          ]
        }
      ],
      "source": [
        "import matplotlib.pyplot as plt\n",
        "import seaborn as sns\n",
        "from sklearn.preprocessing import StandardScaler\n",
        "from sklearn.manifold import TSNE\n",
        "from umap import UMAP\n",
        "\n",
        "data = pd.read_csv(folder+\"matrix.csv\")\n",
        "\n",
        "# Extract features (columns starting from the 3rd)\n",
        "features = data.iloc[:, 2:].values\n",
        "\n",
        "# Normalize features\n",
        "scaler = StandardScaler()\n",
        "features_scaled = scaler.fit_transform(features)\n",
        "\n",
        "# Generate UMAP embeddings\n",
        "umap_reducer = UMAP(random_state=42)\n",
        "umap_embedding = umap_reducer.fit_transform(features_scaled)\n",
        "\n",
        "# Generate t-SNE embeddings\n",
        "tsne = TSNE(n_components=2, random_state=42, perplexity=5)\n",
        "tsne_embedding = tsne.fit_transform(features_scaled)\n",
        "\n",
        "# Define custom color palette for rooms\n",
        "custom_palette = {\n",
        "    '203': 'red',\n",
        "    '204': 'green',\n",
        "    'Outside': 'blue',\n",
        "    '203unk': 'yellow',\n",
        "    '204unk': 'purple',\n",
        "    '205unk': 'black'\n",
        "}\n",
        "\n",
        "# Plot UMAP\n",
        "plt.figure(figsize=(12, 6))\n",
        "plt.subplot(1, 2, 1)\n",
        "sns.scatterplot(\n",
        "    x=umap_embedding[:, 0],\n",
        "    y=umap_embedding[:, 1],\n",
        "    hue=data[\"roomNo\"],\n",
        "    palette=custom_palette,  # Use custom palette\n",
        "    s=100\n",
        ")\n",
        "plt.title(\"UMAP Projection\")\n",
        "plt.xlabel(\"UMAP 1\")\n",
        "plt.ylabel(\"UMAP 2\")\n",
        "plt.legend(title=\"Room\", loc='upper left', bbox_to_anchor=(1.05, 1), borderaxespad=0.)\n",
        "\n",
        "# Plot t-SNE\n",
        "plt.subplot(1, 2, 2)\n",
        "sns.scatterplot(\n",
        "    x=tsne_embedding[:, 0],\n",
        "    y=tsne_embedding[:, 1],\n",
        "    hue=data[\"roomNo\"],\n",
        "    palette=custom_palette,  # Use custom palette\n",
        "    s=100\n",
        ")\n",
        "plt.title(\"t-SNE Projection\")\n",
        "plt.xlabel(\"t-SNE 1\")\n",
        "plt.ylabel(\"t-SNE 2\")\n",
        "plt.legend(title=\"Room\", loc='upper left', bbox_to_anchor=(1.05, 1), borderaxespad=0.)\n",
        "\n",
        "# Adjust layout to make space for the legends outside the plots\n",
        "plt.tight_layout()\n",
        "\n",
        "# Show plot\n",
        "plt.show()\n"
      ]
    },
    {
      "cell_type": "code",
      "execution_count": null,
      "metadata": {},
      "outputs": [
        {
          "name": "stderr",
          "output_type": "stream",
          "text": [
            "/home/nahin/anaconda3/envs/image_ml/lib/python3.9/site-packages/umap/umap_.py:1952: UserWarning:\n",
            "\n",
            "n_jobs value 1 overridden to 1 by setting random_state. Use no seed for parallelism.\n",
            "\n"
          ]
        },
        {
          "data": {
            "application/vnd.plotly.v1+json": {
              "config": {
                "plotlyServerURL": "https://plot.ly"
              },
              "data": [
                {
                  "customdata": [
                    [
                      1
                    ],
                    [
                      2
                    ],
                    [
                      3
                    ],
                    [
                      4
                    ],
                    [
                      5
                    ],
                    [
                      6
                    ],
                    [
                      7
                    ],
                    [
                      8
                    ],
                    [
                      9
                    ],
                    [
                      10
                    ],
                    [
                      11
                    ],
                    [
                      12
                    ],
                    [
                      13
                    ],
                    [
                      14
                    ],
                    [
                      15
                    ],
                    [
                      16
                    ],
                    [
                      17
                    ],
                    [
                      18
                    ],
                    [
                      19
                    ],
                    [
                      20
                    ],
                    [
                      21
                    ],
                    [
                      22
                    ],
                    [
                      23
                    ],
                    [
                      24
                    ],
                    [
                      25
                    ],
                    [
                      26
                    ],
                    [
                      27
                    ],
                    [
                      28
                    ],
                    [
                      29
                    ]
                  ],
                  "hovertemplate": "roomNo=203<br>UMAP_1=%{x}<br>UMAP_2=%{y}<br>entryId=%{customdata[0]}<extra></extra>",
                  "legendgroup": "203",
                  "marker": {
                    "color": "red",
                    "symbol": "circle"
                  },
                  "mode": "markers",
                  "name": "203",
                  "orientation": "v",
                  "showlegend": true,
                  "type": "scatter",
                  "x": [
                    10.046041488647461,
                    8.939360618591309,
                    12.584162712097168,
                    11.32838249206543,
                    11.742972373962402,
                    10.887301445007324,
                    10.09565544128418,
                    9.346662521362305,
                    11.227107048034668,
                    10.559525489807129,
                    12.381431579589844,
                    10.546316146850586,
                    11.386215209960938,
                    10.265570640563965,
                    9.658507347106934,
                    10.782293319702148,
                    11.823545455932617,
                    9.243544578552246,
                    9.185349464416504,
                    10.652024269104004,
                    11.180085182189941,
                    8.68399715423584,
                    11.416421890258789,
                    9.564105987548828,
                    12.070849418640137,
                    12.388897895812988,
                    11.028634071350098,
                    10.922699928283691,
                    10.701833724975586
                  ],
                  "xaxis": "x",
                  "y": [
                    -0.13275153934955597,
                    0.0728372186422348,
                    0.3976290225982666,
                    -0.33722299337387085,
                    0.4071251153945923,
                    0.20417027175426483,
                    -0.5365185141563416,
                    0.09252039343118668,
                    -0.0856848657131195,
                    -0.5103926062583923,
                    0.4685322344303131,
                    0.3809366226196289,
                    0.11006546765565872,
                    0.07857757061719894,
                    -0.0482182539999485,
                    -0.4187484681606293,
                    0.1722470223903656,
                    -0.3163965344429016,
                    0.9953336715698242,
                    1.0373659133911133,
                    0.6763173341751099,
                    0.7140410542488098,
                    1.2139617204666138,
                    0.48593100905418396,
                    0.5734900832176208,
                    0.935187041759491,
                    1.286710262298584,
                    1.4095487594604492,
                    0.4507684111595154
                  ],
                  "yaxis": "y"
                },
                {
                  "customdata": [
                    [
                      30
                    ],
                    [
                      31
                    ],
                    [
                      32
                    ],
                    [
                      33
                    ],
                    [
                      34
                    ],
                    [
                      35
                    ],
                    [
                      36
                    ],
                    [
                      37
                    ],
                    [
                      38
                    ],
                    [
                      39
                    ],
                    [
                      40
                    ],
                    [
                      41
                    ],
                    [
                      42
                    ],
                    [
                      43
                    ],
                    [
                      44
                    ],
                    [
                      45
                    ],
                    [
                      46
                    ],
                    [
                      47
                    ],
                    [
                      48
                    ],
                    [
                      49
                    ],
                    [
                      50
                    ],
                    [
                      51
                    ],
                    [
                      52
                    ]
                  ],
                  "hovertemplate": "roomNo=204<br>UMAP_1=%{x}<br>UMAP_2=%{y}<br>entryId=%{customdata[0]}<extra></extra>",
                  "legendgroup": "204",
                  "marker": {
                    "color": "green",
                    "symbol": "circle"
                  },
                  "mode": "markers",
                  "name": "204",
                  "orientation": "v",
                  "showlegend": true,
                  "type": "scatter",
                  "x": [
                    9.488629341125488,
                    8.095916748046875,
                    7.957839488983154,
                    7.895846366882324,
                    9.292118072509766,
                    9.162494659423828,
                    8.933467864990234,
                    7.331389427185059,
                    7.114710807800293,
                    8.97240924835205,
                    9.61860179901123,
                    8.635610580444336,
                    9.6532621383667,
                    7.564487934112549,
                    9.011717796325684,
                    8.5669527053833,
                    7.267486572265625,
                    9.112117767333984,
                    8.601705551147461,
                    8.526302337646484,
                    7.5802903175354,
                    8.205709457397461,
                    7.516237258911133
                  ],
                  "xaxis": "x",
                  "y": [
                    3.2089149951934814,
                    3.2329559326171875,
                    2.752472400665283,
                    3.570657730102539,
                    3.285693407058716,
                    3.8586132526397705,
                    3.5875043869018555,
                    3.718221664428711,
                    3.272447109222412,
                    2.5988802909851074,
                    2.5291101932525635,
                    2.914696455001831,
                    1.369435429573059,
                    3.1134274005889893,
                    3.0639774799346924,
                    1.7218414545059204,
                    2.753798723220825,
                    1.9506853818893433,
                    3.3451385498046875,
                    3.761812448501587,
                    3.9338276386260986,
                    3.7627274990081787,
                    3.576835870742798
                  ],
                  "yaxis": "y"
                },
                {
                  "customdata": [
                    [
                      53
                    ],
                    [
                      54
                    ],
                    [
                      55
                    ]
                  ],
                  "hovertemplate": "roomNo=Outside<br>UMAP_1=%{x}<br>UMAP_2=%{y}<br>entryId=%{customdata[0]}<extra></extra>",
                  "legendgroup": "Outside",
                  "marker": {
                    "color": "blue",
                    "symbol": "circle"
                  },
                  "mode": "markers",
                  "name": "Outside",
                  "orientation": "v",
                  "showlegend": true,
                  "type": "scatter",
                  "x": [
                    8.797261238098145,
                    8.619797706604004,
                    9.846967697143555
                  ],
                  "xaxis": "x",
                  "y": [
                    0.8485792279243469,
                    1.1929618120193481,
                    0.9485675096511841
                  ],
                  "yaxis": "y"
                }
              ],
              "layout": {
                "legend": {
                  "title": {
                    "text": "roomNo"
                  },
                  "tracegroupgap": 0
                },
                "template": {
                  "data": {
                    "bar": [
                      {
                        "error_x": {
                          "color": "#2a3f5f"
                        },
                        "error_y": {
                          "color": "#2a3f5f"
                        },
                        "marker": {
                          "line": {
                            "color": "#E5ECF6",
                            "width": 0.5
                          },
                          "pattern": {
                            "fillmode": "overlay",
                            "size": 10,
                            "solidity": 0.2
                          }
                        },
                        "type": "bar"
                      }
                    ],
                    "barpolar": [
                      {
                        "marker": {
                          "line": {
                            "color": "#E5ECF6",
                            "width": 0.5
                          },
                          "pattern": {
                            "fillmode": "overlay",
                            "size": 10,
                            "solidity": 0.2
                          }
                        },
                        "type": "barpolar"
                      }
                    ],
                    "carpet": [
                      {
                        "aaxis": {
                          "endlinecolor": "#2a3f5f",
                          "gridcolor": "white",
                          "linecolor": "white",
                          "minorgridcolor": "white",
                          "startlinecolor": "#2a3f5f"
                        },
                        "baxis": {
                          "endlinecolor": "#2a3f5f",
                          "gridcolor": "white",
                          "linecolor": "white",
                          "minorgridcolor": "white",
                          "startlinecolor": "#2a3f5f"
                        },
                        "type": "carpet"
                      }
                    ],
                    "choropleth": [
                      {
                        "colorbar": {
                          "outlinewidth": 0,
                          "ticks": ""
                        },
                        "type": "choropleth"
                      }
                    ],
                    "contour": [
                      {
                        "colorbar": {
                          "outlinewidth": 0,
                          "ticks": ""
                        },
                        "colorscale": [
                          [
                            0,
                            "#0d0887"
                          ],
                          [
                            0.1111111111111111,
                            "#46039f"
                          ],
                          [
                            0.2222222222222222,
                            "#7201a8"
                          ],
                          [
                            0.3333333333333333,
                            "#9c179e"
                          ],
                          [
                            0.4444444444444444,
                            "#bd3786"
                          ],
                          [
                            0.5555555555555556,
                            "#d8576b"
                          ],
                          [
                            0.6666666666666666,
                            "#ed7953"
                          ],
                          [
                            0.7777777777777778,
                            "#fb9f3a"
                          ],
                          [
                            0.8888888888888888,
                            "#fdca26"
                          ],
                          [
                            1,
                            "#f0f921"
                          ]
                        ],
                        "type": "contour"
                      }
                    ],
                    "contourcarpet": [
                      {
                        "colorbar": {
                          "outlinewidth": 0,
                          "ticks": ""
                        },
                        "type": "contourcarpet"
                      }
                    ],
                    "heatmap": [
                      {
                        "colorbar": {
                          "outlinewidth": 0,
                          "ticks": ""
                        },
                        "colorscale": [
                          [
                            0,
                            "#0d0887"
                          ],
                          [
                            0.1111111111111111,
                            "#46039f"
                          ],
                          [
                            0.2222222222222222,
                            "#7201a8"
                          ],
                          [
                            0.3333333333333333,
                            "#9c179e"
                          ],
                          [
                            0.4444444444444444,
                            "#bd3786"
                          ],
                          [
                            0.5555555555555556,
                            "#d8576b"
                          ],
                          [
                            0.6666666666666666,
                            "#ed7953"
                          ],
                          [
                            0.7777777777777778,
                            "#fb9f3a"
                          ],
                          [
                            0.8888888888888888,
                            "#fdca26"
                          ],
                          [
                            1,
                            "#f0f921"
                          ]
                        ],
                        "type": "heatmap"
                      }
                    ],
                    "heatmapgl": [
                      {
                        "colorbar": {
                          "outlinewidth": 0,
                          "ticks": ""
                        },
                        "colorscale": [
                          [
                            0,
                            "#0d0887"
                          ],
                          [
                            0.1111111111111111,
                            "#46039f"
                          ],
                          [
                            0.2222222222222222,
                            "#7201a8"
                          ],
                          [
                            0.3333333333333333,
                            "#9c179e"
                          ],
                          [
                            0.4444444444444444,
                            "#bd3786"
                          ],
                          [
                            0.5555555555555556,
                            "#d8576b"
                          ],
                          [
                            0.6666666666666666,
                            "#ed7953"
                          ],
                          [
                            0.7777777777777778,
                            "#fb9f3a"
                          ],
                          [
                            0.8888888888888888,
                            "#fdca26"
                          ],
                          [
                            1,
                            "#f0f921"
                          ]
                        ],
                        "type": "heatmapgl"
                      }
                    ],
                    "histogram": [
                      {
                        "marker": {
                          "pattern": {
                            "fillmode": "overlay",
                            "size": 10,
                            "solidity": 0.2
                          }
                        },
                        "type": "histogram"
                      }
                    ],
                    "histogram2d": [
                      {
                        "colorbar": {
                          "outlinewidth": 0,
                          "ticks": ""
                        },
                        "colorscale": [
                          [
                            0,
                            "#0d0887"
                          ],
                          [
                            0.1111111111111111,
                            "#46039f"
                          ],
                          [
                            0.2222222222222222,
                            "#7201a8"
                          ],
                          [
                            0.3333333333333333,
                            "#9c179e"
                          ],
                          [
                            0.4444444444444444,
                            "#bd3786"
                          ],
                          [
                            0.5555555555555556,
                            "#d8576b"
                          ],
                          [
                            0.6666666666666666,
                            "#ed7953"
                          ],
                          [
                            0.7777777777777778,
                            "#fb9f3a"
                          ],
                          [
                            0.8888888888888888,
                            "#fdca26"
                          ],
                          [
                            1,
                            "#f0f921"
                          ]
                        ],
                        "type": "histogram2d"
                      }
                    ],
                    "histogram2dcontour": [
                      {
                        "colorbar": {
                          "outlinewidth": 0,
                          "ticks": ""
                        },
                        "colorscale": [
                          [
                            0,
                            "#0d0887"
                          ],
                          [
                            0.1111111111111111,
                            "#46039f"
                          ],
                          [
                            0.2222222222222222,
                            "#7201a8"
                          ],
                          [
                            0.3333333333333333,
                            "#9c179e"
                          ],
                          [
                            0.4444444444444444,
                            "#bd3786"
                          ],
                          [
                            0.5555555555555556,
                            "#d8576b"
                          ],
                          [
                            0.6666666666666666,
                            "#ed7953"
                          ],
                          [
                            0.7777777777777778,
                            "#fb9f3a"
                          ],
                          [
                            0.8888888888888888,
                            "#fdca26"
                          ],
                          [
                            1,
                            "#f0f921"
                          ]
                        ],
                        "type": "histogram2dcontour"
                      }
                    ],
                    "mesh3d": [
                      {
                        "colorbar": {
                          "outlinewidth": 0,
                          "ticks": ""
                        },
                        "type": "mesh3d"
                      }
                    ],
                    "parcoords": [
                      {
                        "line": {
                          "colorbar": {
                            "outlinewidth": 0,
                            "ticks": ""
                          }
                        },
                        "type": "parcoords"
                      }
                    ],
                    "pie": [
                      {
                        "automargin": true,
                        "type": "pie"
                      }
                    ],
                    "scatter": [
                      {
                        "fillpattern": {
                          "fillmode": "overlay",
                          "size": 10,
                          "solidity": 0.2
                        },
                        "type": "scatter"
                      }
                    ],
                    "scatter3d": [
                      {
                        "line": {
                          "colorbar": {
                            "outlinewidth": 0,
                            "ticks": ""
                          }
                        },
                        "marker": {
                          "colorbar": {
                            "outlinewidth": 0,
                            "ticks": ""
                          }
                        },
                        "type": "scatter3d"
                      }
                    ],
                    "scattercarpet": [
                      {
                        "marker": {
                          "colorbar": {
                            "outlinewidth": 0,
                            "ticks": ""
                          }
                        },
                        "type": "scattercarpet"
                      }
                    ],
                    "scattergeo": [
                      {
                        "marker": {
                          "colorbar": {
                            "outlinewidth": 0,
                            "ticks": ""
                          }
                        },
                        "type": "scattergeo"
                      }
                    ],
                    "scattergl": [
                      {
                        "marker": {
                          "colorbar": {
                            "outlinewidth": 0,
                            "ticks": ""
                          }
                        },
                        "type": "scattergl"
                      }
                    ],
                    "scattermapbox": [
                      {
                        "marker": {
                          "colorbar": {
                            "outlinewidth": 0,
                            "ticks": ""
                          }
                        },
                        "type": "scattermapbox"
                      }
                    ],
                    "scatterpolar": [
                      {
                        "marker": {
                          "colorbar": {
                            "outlinewidth": 0,
                            "ticks": ""
                          }
                        },
                        "type": "scatterpolar"
                      }
                    ],
                    "scatterpolargl": [
                      {
                        "marker": {
                          "colorbar": {
                            "outlinewidth": 0,
                            "ticks": ""
                          }
                        },
                        "type": "scatterpolargl"
                      }
                    ],
                    "scatterternary": [
                      {
                        "marker": {
                          "colorbar": {
                            "outlinewidth": 0,
                            "ticks": ""
                          }
                        },
                        "type": "scatterternary"
                      }
                    ],
                    "surface": [
                      {
                        "colorbar": {
                          "outlinewidth": 0,
                          "ticks": ""
                        },
                        "colorscale": [
                          [
                            0,
                            "#0d0887"
                          ],
                          [
                            0.1111111111111111,
                            "#46039f"
                          ],
                          [
                            0.2222222222222222,
                            "#7201a8"
                          ],
                          [
                            0.3333333333333333,
                            "#9c179e"
                          ],
                          [
                            0.4444444444444444,
                            "#bd3786"
                          ],
                          [
                            0.5555555555555556,
                            "#d8576b"
                          ],
                          [
                            0.6666666666666666,
                            "#ed7953"
                          ],
                          [
                            0.7777777777777778,
                            "#fb9f3a"
                          ],
                          [
                            0.8888888888888888,
                            "#fdca26"
                          ],
                          [
                            1,
                            "#f0f921"
                          ]
                        ],
                        "type": "surface"
                      }
                    ],
                    "table": [
                      {
                        "cells": {
                          "fill": {
                            "color": "#EBF0F8"
                          },
                          "line": {
                            "color": "white"
                          }
                        },
                        "header": {
                          "fill": {
                            "color": "#C8D4E3"
                          },
                          "line": {
                            "color": "white"
                          }
                        },
                        "type": "table"
                      }
                    ]
                  },
                  "layout": {
                    "annotationdefaults": {
                      "arrowcolor": "#2a3f5f",
                      "arrowhead": 0,
                      "arrowwidth": 1
                    },
                    "autotypenumbers": "strict",
                    "coloraxis": {
                      "colorbar": {
                        "outlinewidth": 0,
                        "ticks": ""
                      }
                    },
                    "colorscale": {
                      "diverging": [
                        [
                          0,
                          "#8e0152"
                        ],
                        [
                          0.1,
                          "#c51b7d"
                        ],
                        [
                          0.2,
                          "#de77ae"
                        ],
                        [
                          0.3,
                          "#f1b6da"
                        ],
                        [
                          0.4,
                          "#fde0ef"
                        ],
                        [
                          0.5,
                          "#f7f7f7"
                        ],
                        [
                          0.6,
                          "#e6f5d0"
                        ],
                        [
                          0.7,
                          "#b8e186"
                        ],
                        [
                          0.8,
                          "#7fbc41"
                        ],
                        [
                          0.9,
                          "#4d9221"
                        ],
                        [
                          1,
                          "#276419"
                        ]
                      ],
                      "sequential": [
                        [
                          0,
                          "#0d0887"
                        ],
                        [
                          0.1111111111111111,
                          "#46039f"
                        ],
                        [
                          0.2222222222222222,
                          "#7201a8"
                        ],
                        [
                          0.3333333333333333,
                          "#9c179e"
                        ],
                        [
                          0.4444444444444444,
                          "#bd3786"
                        ],
                        [
                          0.5555555555555556,
                          "#d8576b"
                        ],
                        [
                          0.6666666666666666,
                          "#ed7953"
                        ],
                        [
                          0.7777777777777778,
                          "#fb9f3a"
                        ],
                        [
                          0.8888888888888888,
                          "#fdca26"
                        ],
                        [
                          1,
                          "#f0f921"
                        ]
                      ],
                      "sequentialminus": [
                        [
                          0,
                          "#0d0887"
                        ],
                        [
                          0.1111111111111111,
                          "#46039f"
                        ],
                        [
                          0.2222222222222222,
                          "#7201a8"
                        ],
                        [
                          0.3333333333333333,
                          "#9c179e"
                        ],
                        [
                          0.4444444444444444,
                          "#bd3786"
                        ],
                        [
                          0.5555555555555556,
                          "#d8576b"
                        ],
                        [
                          0.6666666666666666,
                          "#ed7953"
                        ],
                        [
                          0.7777777777777778,
                          "#fb9f3a"
                        ],
                        [
                          0.8888888888888888,
                          "#fdca26"
                        ],
                        [
                          1,
                          "#f0f921"
                        ]
                      ]
                    },
                    "colorway": [
                      "#636efa",
                      "#EF553B",
                      "#00cc96",
                      "#ab63fa",
                      "#FFA15A",
                      "#19d3f3",
                      "#FF6692",
                      "#B6E880",
                      "#FF97FF",
                      "#FECB52"
                    ],
                    "font": {
                      "color": "#2a3f5f"
                    },
                    "geo": {
                      "bgcolor": "white",
                      "lakecolor": "white",
                      "landcolor": "#E5ECF6",
                      "showlakes": true,
                      "showland": true,
                      "subunitcolor": "white"
                    },
                    "hoverlabel": {
                      "align": "left"
                    },
                    "hovermode": "closest",
                    "mapbox": {
                      "style": "light"
                    },
                    "paper_bgcolor": "white",
                    "plot_bgcolor": "#E5ECF6",
                    "polar": {
                      "angularaxis": {
                        "gridcolor": "white",
                        "linecolor": "white",
                        "ticks": ""
                      },
                      "bgcolor": "#E5ECF6",
                      "radialaxis": {
                        "gridcolor": "white",
                        "linecolor": "white",
                        "ticks": ""
                      }
                    },
                    "scene": {
                      "xaxis": {
                        "backgroundcolor": "#E5ECF6",
                        "gridcolor": "white",
                        "gridwidth": 2,
                        "linecolor": "white",
                        "showbackground": true,
                        "ticks": "",
                        "zerolinecolor": "white"
                      },
                      "yaxis": {
                        "backgroundcolor": "#E5ECF6",
                        "gridcolor": "white",
                        "gridwidth": 2,
                        "linecolor": "white",
                        "showbackground": true,
                        "ticks": "",
                        "zerolinecolor": "white"
                      },
                      "zaxis": {
                        "backgroundcolor": "#E5ECF6",
                        "gridcolor": "white",
                        "gridwidth": 2,
                        "linecolor": "white",
                        "showbackground": true,
                        "ticks": "",
                        "zerolinecolor": "white"
                      }
                    },
                    "shapedefaults": {
                      "line": {
                        "color": "#2a3f5f"
                      }
                    },
                    "ternary": {
                      "aaxis": {
                        "gridcolor": "white",
                        "linecolor": "white",
                        "ticks": ""
                      },
                      "baxis": {
                        "gridcolor": "white",
                        "linecolor": "white",
                        "ticks": ""
                      },
                      "bgcolor": "#E5ECF6",
                      "caxis": {
                        "gridcolor": "white",
                        "linecolor": "white",
                        "ticks": ""
                      }
                    },
                    "title": {
                      "x": 0.05
                    },
                    "xaxis": {
                      "automargin": true,
                      "gridcolor": "white",
                      "linecolor": "white",
                      "ticks": "",
                      "title": {
                        "standoff": 15
                      },
                      "zerolinecolor": "white",
                      "zerolinewidth": 2
                    },
                    "yaxis": {
                      "automargin": true,
                      "gridcolor": "white",
                      "linecolor": "white",
                      "ticks": "",
                      "title": {
                        "standoff": 15
                      },
                      "zerolinecolor": "white",
                      "zerolinewidth": 2
                    }
                  }
                },
                "title": {
                  "text": "UMAP Projection"
                },
                "xaxis": {
                  "anchor": "y",
                  "domain": [
                    0,
                    1
                  ],
                  "title": {
                    "text": "UMAP_1"
                  }
                },
                "yaxis": {
                  "anchor": "x",
                  "domain": [
                    0,
                    1
                  ],
                  "title": {
                    "text": "UMAP_2"
                  }
                }
              }
            }
          },
          "metadata": {},
          "output_type": "display_data"
        },
        {
          "data": {
            "application/vnd.plotly.v1+json": {
              "config": {
                "plotlyServerURL": "https://plot.ly"
              },
              "data": [
                {
                  "customdata": [
                    [
                      1
                    ],
                    [
                      2
                    ],
                    [
                      3
                    ],
                    [
                      4
                    ],
                    [
                      5
                    ],
                    [
                      6
                    ],
                    [
                      7
                    ],
                    [
                      8
                    ],
                    [
                      9
                    ],
                    [
                      10
                    ],
                    [
                      11
                    ],
                    [
                      12
                    ],
                    [
                      13
                    ],
                    [
                      14
                    ],
                    [
                      15
                    ],
                    [
                      16
                    ],
                    [
                      17
                    ],
                    [
                      18
                    ],
                    [
                      19
                    ],
                    [
                      20
                    ],
                    [
                      21
                    ],
                    [
                      22
                    ],
                    [
                      23
                    ],
                    [
                      24
                    ],
                    [
                      25
                    ],
                    [
                      26
                    ],
                    [
                      27
                    ],
                    [
                      28
                    ],
                    [
                      29
                    ]
                  ],
                  "hovertemplate": "roomNo=203<br>tSNE_1=%{x}<br>tSNE_2=%{y}<br>entryId=%{customdata[0]}<extra></extra>",
                  "legendgroup": "203",
                  "marker": {
                    "color": "red",
                    "symbol": "circle"
                  },
                  "mode": "markers",
                  "name": "203",
                  "orientation": "v",
                  "showlegend": true,
                  "type": "scatter",
                  "x": [
                    21.610471725463867,
                    26.8509578704834,
                    39.19892501831055,
                    21.888328552246094,
                    27.094873428344727,
                    12.654875755310059,
                    23.699129104614258,
                    22.391223907470703,
                    19.873136520385742,
                    19.79899024963379,
                    36.87477493286133,
                    7.938395977020264,
                    24.45916175842285,
                    9.907477378845215,
                    19.661375045776367,
                    16.263301849365234,
                    28.991430282592773,
                    29.24930763244629,
                    9.896224975585938,
                    -2.1931042671203613,
                    2.5848827362060547,
                    6.445431709289551,
                    0.03832947462797165,
                    16.98736000061035,
                    32.253353118896484,
                    36.13496780395508,
                    1.2711622714996338,
                    0.10528334975242615,
                    9.4105863571167
                  ],
                  "xaxis": "x",
                  "y": [
                    -2.398491382598877,
                    -11.51152229309082,
                    19.72939109802246,
                    7.613289833068848,
                    12.771308898925781,
                    4.168270587921143,
                    -1.3051751852035522,
                    -11.399542808532715,
                    10.437447547912598,
                    5.329017639160156,
                    19.981250762939453,
                    9.268411636352539,
                    7.92479133605957,
                    10.589700698852539,
                    -6.641295909881592,
                    4.6225080490112305,
                    9.271995544433594,
                    -10.683351516723633,
                    -16.811607360839844,
                    15.643342971801758,
                    7.881393909454346,
                    -14.597253799438477,
                    7.649326801300049,
                    -7.914125919342041,
                    15.955044746398926,
                    22.93146514892578,
                    17.689651489257812,
                    12.80224323272705,
                    2.4934403896331787
                  ],
                  "yaxis": "y"
                },
                {
                  "customdata": [
                    [
                      30
                    ],
                    [
                      31
                    ],
                    [
                      32
                    ],
                    [
                      33
                    ],
                    [
                      34
                    ],
                    [
                      35
                    ],
                    [
                      36
                    ],
                    [
                      37
                    ],
                    [
                      38
                    ],
                    [
                      39
                    ],
                    [
                      40
                    ],
                    [
                      41
                    ],
                    [
                      42
                    ],
                    [
                      43
                    ],
                    [
                      44
                    ],
                    [
                      45
                    ],
                    [
                      46
                    ],
                    [
                      47
                    ],
                    [
                      48
                    ],
                    [
                      49
                    ],
                    [
                      50
                    ],
                    [
                      51
                    ],
                    [
                      52
                    ]
                  ],
                  "hovertemplate": "roomNo=204<br>tSNE_1=%{x}<br>tSNE_2=%{y}<br>entryId=%{customdata[0]}<extra></extra>",
                  "legendgroup": "204",
                  "marker": {
                    "color": "green",
                    "symbol": "circle"
                  },
                  "mode": "markers",
                  "name": "204",
                  "orientation": "v",
                  "showlegend": true,
                  "type": "scatter",
                  "x": [
                    -15.39244556427002,
                    -31.834735870361328,
                    -30.89188003540039,
                    -33.89338302612305,
                    -16.872737884521484,
                    -18.13303565979004,
                    -22.434545516967773,
                    -45.619808197021484,
                    -42.78266906738281,
                    -18.96457290649414,
                    -4.331343173980713,
                    -22.51653480529785,
                    14.141656875610352,
                    -38.79025650024414,
                    -12.37332534790039,
                    3.8286116123199463,
                    -43.99649429321289,
                    -17.22732925415039,
                    -26.239803314208984,
                    -24.040313720703125,
                    -41.13957595825195,
                    -31.039335250854492,
                    -41.581546783447266
                  ],
                  "xaxis": "x",
                  "y": [
                    -10.77747631072998,
                    -16.428129196166992,
                    -20.237838745117188,
                    -14.477165222167969,
                    -7.423893451690674,
                    -14.139518737792969,
                    -8.024531364440918,
                    -11.166010856628418,
                    -16.42267608642578,
                    -2.5064480304718018,
                    4.884734153747559,
                    -4.549614906311035,
                    21.018409729003906,
                    -13.975106239318848,
                    -7.668260097503662,
                    -18.65655517578125,
                    -19.77008056640625,
                    0.15777172148227692,
                    -2.695251226425171,
                    -10.021427154541016,
                    -8.811625480651855,
                    -12.226068496704102,
                    -12.808438301086426
                  ],
                  "yaxis": "y"
                },
                {
                  "customdata": [
                    [
                      53
                    ],
                    [
                      54
                    ],
                    [
                      55
                    ]
                  ],
                  "hovertemplate": "roomNo=Outside<br>tSNE_1=%{x}<br>tSNE_2=%{y}<br>entryId=%{customdata[0]}<extra></extra>",
                  "legendgroup": "Outside",
                  "marker": {
                    "color": "blue",
                    "symbol": "circle"
                  },
                  "mode": "markers",
                  "name": "Outside",
                  "orientation": "v",
                  "showlegend": true,
                  "type": "scatter",
                  "x": [
                    7.3868560791015625,
                    6.329433441162109,
                    15.223271369934082
                  ],
                  "xaxis": "x",
                  "y": [
                    -22.57575225830078,
                    -19.852310180664062,
                    17.652639389038086
                  ],
                  "yaxis": "y"
                }
              ],
              "layout": {
                "legend": {
                  "title": {
                    "text": "roomNo"
                  },
                  "tracegroupgap": 0
                },
                "template": {
                  "data": {
                    "bar": [
                      {
                        "error_x": {
                          "color": "#2a3f5f"
                        },
                        "error_y": {
                          "color": "#2a3f5f"
                        },
                        "marker": {
                          "line": {
                            "color": "#E5ECF6",
                            "width": 0.5
                          },
                          "pattern": {
                            "fillmode": "overlay",
                            "size": 10,
                            "solidity": 0.2
                          }
                        },
                        "type": "bar"
                      }
                    ],
                    "barpolar": [
                      {
                        "marker": {
                          "line": {
                            "color": "#E5ECF6",
                            "width": 0.5
                          },
                          "pattern": {
                            "fillmode": "overlay",
                            "size": 10,
                            "solidity": 0.2
                          }
                        },
                        "type": "barpolar"
                      }
                    ],
                    "carpet": [
                      {
                        "aaxis": {
                          "endlinecolor": "#2a3f5f",
                          "gridcolor": "white",
                          "linecolor": "white",
                          "minorgridcolor": "white",
                          "startlinecolor": "#2a3f5f"
                        },
                        "baxis": {
                          "endlinecolor": "#2a3f5f",
                          "gridcolor": "white",
                          "linecolor": "white",
                          "minorgridcolor": "white",
                          "startlinecolor": "#2a3f5f"
                        },
                        "type": "carpet"
                      }
                    ],
                    "choropleth": [
                      {
                        "colorbar": {
                          "outlinewidth": 0,
                          "ticks": ""
                        },
                        "type": "choropleth"
                      }
                    ],
                    "contour": [
                      {
                        "colorbar": {
                          "outlinewidth": 0,
                          "ticks": ""
                        },
                        "colorscale": [
                          [
                            0,
                            "#0d0887"
                          ],
                          [
                            0.1111111111111111,
                            "#46039f"
                          ],
                          [
                            0.2222222222222222,
                            "#7201a8"
                          ],
                          [
                            0.3333333333333333,
                            "#9c179e"
                          ],
                          [
                            0.4444444444444444,
                            "#bd3786"
                          ],
                          [
                            0.5555555555555556,
                            "#d8576b"
                          ],
                          [
                            0.6666666666666666,
                            "#ed7953"
                          ],
                          [
                            0.7777777777777778,
                            "#fb9f3a"
                          ],
                          [
                            0.8888888888888888,
                            "#fdca26"
                          ],
                          [
                            1,
                            "#f0f921"
                          ]
                        ],
                        "type": "contour"
                      }
                    ],
                    "contourcarpet": [
                      {
                        "colorbar": {
                          "outlinewidth": 0,
                          "ticks": ""
                        },
                        "type": "contourcarpet"
                      }
                    ],
                    "heatmap": [
                      {
                        "colorbar": {
                          "outlinewidth": 0,
                          "ticks": ""
                        },
                        "colorscale": [
                          [
                            0,
                            "#0d0887"
                          ],
                          [
                            0.1111111111111111,
                            "#46039f"
                          ],
                          [
                            0.2222222222222222,
                            "#7201a8"
                          ],
                          [
                            0.3333333333333333,
                            "#9c179e"
                          ],
                          [
                            0.4444444444444444,
                            "#bd3786"
                          ],
                          [
                            0.5555555555555556,
                            "#d8576b"
                          ],
                          [
                            0.6666666666666666,
                            "#ed7953"
                          ],
                          [
                            0.7777777777777778,
                            "#fb9f3a"
                          ],
                          [
                            0.8888888888888888,
                            "#fdca26"
                          ],
                          [
                            1,
                            "#f0f921"
                          ]
                        ],
                        "type": "heatmap"
                      }
                    ],
                    "heatmapgl": [
                      {
                        "colorbar": {
                          "outlinewidth": 0,
                          "ticks": ""
                        },
                        "colorscale": [
                          [
                            0,
                            "#0d0887"
                          ],
                          [
                            0.1111111111111111,
                            "#46039f"
                          ],
                          [
                            0.2222222222222222,
                            "#7201a8"
                          ],
                          [
                            0.3333333333333333,
                            "#9c179e"
                          ],
                          [
                            0.4444444444444444,
                            "#bd3786"
                          ],
                          [
                            0.5555555555555556,
                            "#d8576b"
                          ],
                          [
                            0.6666666666666666,
                            "#ed7953"
                          ],
                          [
                            0.7777777777777778,
                            "#fb9f3a"
                          ],
                          [
                            0.8888888888888888,
                            "#fdca26"
                          ],
                          [
                            1,
                            "#f0f921"
                          ]
                        ],
                        "type": "heatmapgl"
                      }
                    ],
                    "histogram": [
                      {
                        "marker": {
                          "pattern": {
                            "fillmode": "overlay",
                            "size": 10,
                            "solidity": 0.2
                          }
                        },
                        "type": "histogram"
                      }
                    ],
                    "histogram2d": [
                      {
                        "colorbar": {
                          "outlinewidth": 0,
                          "ticks": ""
                        },
                        "colorscale": [
                          [
                            0,
                            "#0d0887"
                          ],
                          [
                            0.1111111111111111,
                            "#46039f"
                          ],
                          [
                            0.2222222222222222,
                            "#7201a8"
                          ],
                          [
                            0.3333333333333333,
                            "#9c179e"
                          ],
                          [
                            0.4444444444444444,
                            "#bd3786"
                          ],
                          [
                            0.5555555555555556,
                            "#d8576b"
                          ],
                          [
                            0.6666666666666666,
                            "#ed7953"
                          ],
                          [
                            0.7777777777777778,
                            "#fb9f3a"
                          ],
                          [
                            0.8888888888888888,
                            "#fdca26"
                          ],
                          [
                            1,
                            "#f0f921"
                          ]
                        ],
                        "type": "histogram2d"
                      }
                    ],
                    "histogram2dcontour": [
                      {
                        "colorbar": {
                          "outlinewidth": 0,
                          "ticks": ""
                        },
                        "colorscale": [
                          [
                            0,
                            "#0d0887"
                          ],
                          [
                            0.1111111111111111,
                            "#46039f"
                          ],
                          [
                            0.2222222222222222,
                            "#7201a8"
                          ],
                          [
                            0.3333333333333333,
                            "#9c179e"
                          ],
                          [
                            0.4444444444444444,
                            "#bd3786"
                          ],
                          [
                            0.5555555555555556,
                            "#d8576b"
                          ],
                          [
                            0.6666666666666666,
                            "#ed7953"
                          ],
                          [
                            0.7777777777777778,
                            "#fb9f3a"
                          ],
                          [
                            0.8888888888888888,
                            "#fdca26"
                          ],
                          [
                            1,
                            "#f0f921"
                          ]
                        ],
                        "type": "histogram2dcontour"
                      }
                    ],
                    "mesh3d": [
                      {
                        "colorbar": {
                          "outlinewidth": 0,
                          "ticks": ""
                        },
                        "type": "mesh3d"
                      }
                    ],
                    "parcoords": [
                      {
                        "line": {
                          "colorbar": {
                            "outlinewidth": 0,
                            "ticks": ""
                          }
                        },
                        "type": "parcoords"
                      }
                    ],
                    "pie": [
                      {
                        "automargin": true,
                        "type": "pie"
                      }
                    ],
                    "scatter": [
                      {
                        "fillpattern": {
                          "fillmode": "overlay",
                          "size": 10,
                          "solidity": 0.2
                        },
                        "type": "scatter"
                      }
                    ],
                    "scatter3d": [
                      {
                        "line": {
                          "colorbar": {
                            "outlinewidth": 0,
                            "ticks": ""
                          }
                        },
                        "marker": {
                          "colorbar": {
                            "outlinewidth": 0,
                            "ticks": ""
                          }
                        },
                        "type": "scatter3d"
                      }
                    ],
                    "scattercarpet": [
                      {
                        "marker": {
                          "colorbar": {
                            "outlinewidth": 0,
                            "ticks": ""
                          }
                        },
                        "type": "scattercarpet"
                      }
                    ],
                    "scattergeo": [
                      {
                        "marker": {
                          "colorbar": {
                            "outlinewidth": 0,
                            "ticks": ""
                          }
                        },
                        "type": "scattergeo"
                      }
                    ],
                    "scattergl": [
                      {
                        "marker": {
                          "colorbar": {
                            "outlinewidth": 0,
                            "ticks": ""
                          }
                        },
                        "type": "scattergl"
                      }
                    ],
                    "scattermapbox": [
                      {
                        "marker": {
                          "colorbar": {
                            "outlinewidth": 0,
                            "ticks": ""
                          }
                        },
                        "type": "scattermapbox"
                      }
                    ],
                    "scatterpolar": [
                      {
                        "marker": {
                          "colorbar": {
                            "outlinewidth": 0,
                            "ticks": ""
                          }
                        },
                        "type": "scatterpolar"
                      }
                    ],
                    "scatterpolargl": [
                      {
                        "marker": {
                          "colorbar": {
                            "outlinewidth": 0,
                            "ticks": ""
                          }
                        },
                        "type": "scatterpolargl"
                      }
                    ],
                    "scatterternary": [
                      {
                        "marker": {
                          "colorbar": {
                            "outlinewidth": 0,
                            "ticks": ""
                          }
                        },
                        "type": "scatterternary"
                      }
                    ],
                    "surface": [
                      {
                        "colorbar": {
                          "outlinewidth": 0,
                          "ticks": ""
                        },
                        "colorscale": [
                          [
                            0,
                            "#0d0887"
                          ],
                          [
                            0.1111111111111111,
                            "#46039f"
                          ],
                          [
                            0.2222222222222222,
                            "#7201a8"
                          ],
                          [
                            0.3333333333333333,
                            "#9c179e"
                          ],
                          [
                            0.4444444444444444,
                            "#bd3786"
                          ],
                          [
                            0.5555555555555556,
                            "#d8576b"
                          ],
                          [
                            0.6666666666666666,
                            "#ed7953"
                          ],
                          [
                            0.7777777777777778,
                            "#fb9f3a"
                          ],
                          [
                            0.8888888888888888,
                            "#fdca26"
                          ],
                          [
                            1,
                            "#f0f921"
                          ]
                        ],
                        "type": "surface"
                      }
                    ],
                    "table": [
                      {
                        "cells": {
                          "fill": {
                            "color": "#EBF0F8"
                          },
                          "line": {
                            "color": "white"
                          }
                        },
                        "header": {
                          "fill": {
                            "color": "#C8D4E3"
                          },
                          "line": {
                            "color": "white"
                          }
                        },
                        "type": "table"
                      }
                    ]
                  },
                  "layout": {
                    "annotationdefaults": {
                      "arrowcolor": "#2a3f5f",
                      "arrowhead": 0,
                      "arrowwidth": 1
                    },
                    "autotypenumbers": "strict",
                    "coloraxis": {
                      "colorbar": {
                        "outlinewidth": 0,
                        "ticks": ""
                      }
                    },
                    "colorscale": {
                      "diverging": [
                        [
                          0,
                          "#8e0152"
                        ],
                        [
                          0.1,
                          "#c51b7d"
                        ],
                        [
                          0.2,
                          "#de77ae"
                        ],
                        [
                          0.3,
                          "#f1b6da"
                        ],
                        [
                          0.4,
                          "#fde0ef"
                        ],
                        [
                          0.5,
                          "#f7f7f7"
                        ],
                        [
                          0.6,
                          "#e6f5d0"
                        ],
                        [
                          0.7,
                          "#b8e186"
                        ],
                        [
                          0.8,
                          "#7fbc41"
                        ],
                        [
                          0.9,
                          "#4d9221"
                        ],
                        [
                          1,
                          "#276419"
                        ]
                      ],
                      "sequential": [
                        [
                          0,
                          "#0d0887"
                        ],
                        [
                          0.1111111111111111,
                          "#46039f"
                        ],
                        [
                          0.2222222222222222,
                          "#7201a8"
                        ],
                        [
                          0.3333333333333333,
                          "#9c179e"
                        ],
                        [
                          0.4444444444444444,
                          "#bd3786"
                        ],
                        [
                          0.5555555555555556,
                          "#d8576b"
                        ],
                        [
                          0.6666666666666666,
                          "#ed7953"
                        ],
                        [
                          0.7777777777777778,
                          "#fb9f3a"
                        ],
                        [
                          0.8888888888888888,
                          "#fdca26"
                        ],
                        [
                          1,
                          "#f0f921"
                        ]
                      ],
                      "sequentialminus": [
                        [
                          0,
                          "#0d0887"
                        ],
                        [
                          0.1111111111111111,
                          "#46039f"
                        ],
                        [
                          0.2222222222222222,
                          "#7201a8"
                        ],
                        [
                          0.3333333333333333,
                          "#9c179e"
                        ],
                        [
                          0.4444444444444444,
                          "#bd3786"
                        ],
                        [
                          0.5555555555555556,
                          "#d8576b"
                        ],
                        [
                          0.6666666666666666,
                          "#ed7953"
                        ],
                        [
                          0.7777777777777778,
                          "#fb9f3a"
                        ],
                        [
                          0.8888888888888888,
                          "#fdca26"
                        ],
                        [
                          1,
                          "#f0f921"
                        ]
                      ]
                    },
                    "colorway": [
                      "#636efa",
                      "#EF553B",
                      "#00cc96",
                      "#ab63fa",
                      "#FFA15A",
                      "#19d3f3",
                      "#FF6692",
                      "#B6E880",
                      "#FF97FF",
                      "#FECB52"
                    ],
                    "font": {
                      "color": "#2a3f5f"
                    },
                    "geo": {
                      "bgcolor": "white",
                      "lakecolor": "white",
                      "landcolor": "#E5ECF6",
                      "showlakes": true,
                      "showland": true,
                      "subunitcolor": "white"
                    },
                    "hoverlabel": {
                      "align": "left"
                    },
                    "hovermode": "closest",
                    "mapbox": {
                      "style": "light"
                    },
                    "paper_bgcolor": "white",
                    "plot_bgcolor": "#E5ECF6",
                    "polar": {
                      "angularaxis": {
                        "gridcolor": "white",
                        "linecolor": "white",
                        "ticks": ""
                      },
                      "bgcolor": "#E5ECF6",
                      "radialaxis": {
                        "gridcolor": "white",
                        "linecolor": "white",
                        "ticks": ""
                      }
                    },
                    "scene": {
                      "xaxis": {
                        "backgroundcolor": "#E5ECF6",
                        "gridcolor": "white",
                        "gridwidth": 2,
                        "linecolor": "white",
                        "showbackground": true,
                        "ticks": "",
                        "zerolinecolor": "white"
                      },
                      "yaxis": {
                        "backgroundcolor": "#E5ECF6",
                        "gridcolor": "white",
                        "gridwidth": 2,
                        "linecolor": "white",
                        "showbackground": true,
                        "ticks": "",
                        "zerolinecolor": "white"
                      },
                      "zaxis": {
                        "backgroundcolor": "#E5ECF6",
                        "gridcolor": "white",
                        "gridwidth": 2,
                        "linecolor": "white",
                        "showbackground": true,
                        "ticks": "",
                        "zerolinecolor": "white"
                      }
                    },
                    "shapedefaults": {
                      "line": {
                        "color": "#2a3f5f"
                      }
                    },
                    "ternary": {
                      "aaxis": {
                        "gridcolor": "white",
                        "linecolor": "white",
                        "ticks": ""
                      },
                      "baxis": {
                        "gridcolor": "white",
                        "linecolor": "white",
                        "ticks": ""
                      },
                      "bgcolor": "#E5ECF6",
                      "caxis": {
                        "gridcolor": "white",
                        "linecolor": "white",
                        "ticks": ""
                      }
                    },
                    "title": {
                      "x": 0.05
                    },
                    "xaxis": {
                      "automargin": true,
                      "gridcolor": "white",
                      "linecolor": "white",
                      "ticks": "",
                      "title": {
                        "standoff": 15
                      },
                      "zerolinecolor": "white",
                      "zerolinewidth": 2
                    },
                    "yaxis": {
                      "automargin": true,
                      "gridcolor": "white",
                      "linecolor": "white",
                      "ticks": "",
                      "title": {
                        "standoff": 15
                      },
                      "zerolinecolor": "white",
                      "zerolinewidth": 2
                    }
                  }
                },
                "title": {
                  "text": "t-SNE Projection"
                },
                "xaxis": {
                  "anchor": "y",
                  "domain": [
                    0,
                    1
                  ],
                  "title": {
                    "text": "tSNE_1"
                  }
                },
                "yaxis": {
                  "anchor": "x",
                  "domain": [
                    0,
                    1
                  ],
                  "title": {
                    "text": "tSNE_2"
                  }
                }
              }
            }
          },
          "metadata": {},
          "output_type": "display_data"
        }
      ],
      "source": [
        "import plotly.express as px\n",
        "import pandas as pd\n",
        "from sklearn.preprocessing import StandardScaler\n",
        "from sklearn.manifold import TSNE\n",
        "from umap import UMAP\n",
        "\n",
        "# Load data\n",
        "data = pd.read_csv(folder + \"matrix.csv\")\n",
        "\n",
        "# Extract features (columns starting from the 3rd)\n",
        "features = data.iloc[:, 2:].values\n",
        "\n",
        "# Normalize features\n",
        "scaler = StandardScaler()\n",
        "features_scaled = scaler.fit_transform(features)\n",
        "\n",
        "# Generate UMAP embeddings\n",
        "umap_reducer = UMAP(random_state=42)\n",
        "umap_embedding = umap_reducer.fit_transform(features_scaled)\n",
        "\n",
        "# Generate t-SNE embeddings\n",
        "tsne = TSNE(n_components=2, random_state=42, perplexity=5)\n",
        "tsne_embedding = tsne.fit_transform(features_scaled)\n",
        "\n",
        "# Add embeddings to the dataframe\n",
        "data[\"UMAP_1\"] = umap_embedding[:, 0]\n",
        "data[\"UMAP_2\"] = umap_embedding[:, 1]\n",
        "data[\"tSNE_1\"] = tsne_embedding[:, 0]\n",
        "data[\"tSNE_2\"] = tsne_embedding[:, 1]\n",
        "\n",
        "# Plot UMAP with Plotly\n",
        "fig_umap = px.scatter(\n",
        "    data,\n",
        "    x=\"UMAP_1\",\n",
        "    y=\"UMAP_2\",\n",
        "    color=\"roomNo\",\n",
        "    hover_data=data.columns[0],  # Display additional info on hover\n",
        "    title=\"UMAP Projection\",\n",
        "    color_discrete_map={\n",
        "        '203': 'red',\n",
        "        '204': 'green',\n",
        "        'Outside': 'blue',\n",
        "        '203unk': 'yellow',\n",
        "        '204unk': 'purple',\n",
        "        '205unk': 'black'\n",
        "    }\n",
        ")\n",
        "\n",
        "fig_umap.show()\n",
        "\n",
        "# Plot t-SNE with Plotly\n",
        "fig_tsne = px.scatter(\n",
        "    data,\n",
        "    x=\"tSNE_1\",\n",
        "    y=\"tSNE_2\",\n",
        "    color=\"roomNo\",\n",
        "    hover_data=data.columns[0],  # Display additional info on hover\n",
        "    title=\"t-SNE Projection\",\n",
        "    color_discrete_map={\n",
        "        '203': 'red',\n",
        "        '204': 'green',\n",
        "        'Outside': 'blue',\n",
        "        '203unk': 'yellow',\n",
        "        '204unk': 'purple',\n",
        "        '205unk': 'black'\n",
        "    }\n",
        ")\n",
        "\n",
        "fig_tsne.show()\n"
      ]
    },
    {
      "cell_type": "code",
      "execution_count": null,
      "metadata": {},
      "outputs": [
        {
          "name": "stderr",
          "output_type": "stream",
          "text": [
            "/home/nahin/anaconda3/envs/image_ml/lib/python3.9/site-packages/umap/umap_.py:1952: UserWarning:\n",
            "\n",
            "n_jobs value 1 overridden to 1 by setting random_state. Use no seed for parallelism.\n",
            "\n"
          ]
        },
        {
          "data": {
            "application/vnd.plotly.v1+json": {
              "config": {
                "plotlyServerURL": "https://plot.ly"
              },
              "data": [
                {
                  "customdata": [
                    [
                      1,
                      "203"
                    ],
                    [
                      2,
                      "203"
                    ],
                    [
                      3,
                      "203"
                    ],
                    [
                      4,
                      "203"
                    ],
                    [
                      5,
                      "203"
                    ],
                    [
                      6,
                      "203"
                    ],
                    [
                      7,
                      "203"
                    ],
                    [
                      8,
                      "203"
                    ],
                    [
                      9,
                      "203"
                    ],
                    [
                      10,
                      "203"
                    ],
                    [
                      11,
                      "203"
                    ],
                    [
                      12,
                      "203"
                    ],
                    [
                      13,
                      "203"
                    ],
                    [
                      14,
                      "203"
                    ],
                    [
                      15,
                      "203"
                    ],
                    [
                      16,
                      "203"
                    ],
                    [
                      17,
                      "203"
                    ],
                    [
                      18,
                      "203"
                    ],
                    [
                      19,
                      "203"
                    ],
                    [
                      20,
                      "203"
                    ],
                    [
                      21,
                      "203"
                    ],
                    [
                      22,
                      "203"
                    ],
                    [
                      23,
                      "203"
                    ],
                    [
                      24,
                      "203"
                    ],
                    [
                      25,
                      "203"
                    ],
                    [
                      26,
                      "203"
                    ],
                    [
                      27,
                      "203"
                    ],
                    [
                      28,
                      "203"
                    ],
                    [
                      29,
                      "203"
                    ]
                  ],
                  "hovertemplate": "roomNo=%{customdata[1]}<br>UMAP_1=%{x}<br>UMAP_2=%{y}<br>entryId=%{customdata[0]}<extra></extra>",
                  "legendgroup": "203",
                  "marker": {
                    "color": "red",
                    "symbol": "circle"
                  },
                  "mode": "markers",
                  "name": "203",
                  "orientation": "v",
                  "showlegend": true,
                  "type": "scatter",
                  "x": [
                    10.046041488647461,
                    8.939360618591309,
                    12.584162712097168,
                    11.32838249206543,
                    11.742972373962402,
                    10.887301445007324,
                    10.09565544128418,
                    9.346662521362305,
                    11.227107048034668,
                    10.559525489807129,
                    12.381431579589844,
                    10.546316146850586,
                    11.386215209960938,
                    10.265570640563965,
                    9.658507347106934,
                    10.782293319702148,
                    11.823545455932617,
                    9.243544578552246,
                    9.185349464416504,
                    10.652024269104004,
                    11.180085182189941,
                    8.68399715423584,
                    11.416421890258789,
                    9.564105987548828,
                    12.070849418640137,
                    12.388897895812988,
                    11.028634071350098,
                    10.922699928283691,
                    10.701833724975586
                  ],
                  "xaxis": "x",
                  "y": [
                    -0.13275153934955597,
                    0.0728372186422348,
                    0.3976290225982666,
                    -0.33722299337387085,
                    0.4071251153945923,
                    0.20417027175426483,
                    -0.5365185141563416,
                    0.09252039343118668,
                    -0.0856848657131195,
                    -0.5103926062583923,
                    0.4685322344303131,
                    0.3809366226196289,
                    0.11006546765565872,
                    0.07857757061719894,
                    -0.0482182539999485,
                    -0.4187484681606293,
                    0.1722470223903656,
                    -0.3163965344429016,
                    0.9953336715698242,
                    1.0373659133911133,
                    0.6763173341751099,
                    0.7140410542488098,
                    1.2139617204666138,
                    0.48593100905418396,
                    0.5734900832176208,
                    0.935187041759491,
                    1.286710262298584,
                    1.4095487594604492,
                    0.4507684111595154
                  ],
                  "yaxis": "y"
                },
                {
                  "customdata": [
                    [
                      30,
                      "204"
                    ],
                    [
                      31,
                      "204"
                    ],
                    [
                      32,
                      "204"
                    ],
                    [
                      33,
                      "204"
                    ],
                    [
                      34,
                      "204"
                    ],
                    [
                      35,
                      "204"
                    ],
                    [
                      36,
                      "204"
                    ],
                    [
                      37,
                      "204"
                    ],
                    [
                      38,
                      "204"
                    ],
                    [
                      39,
                      "204"
                    ],
                    [
                      40,
                      "204"
                    ],
                    [
                      41,
                      "204"
                    ],
                    [
                      42,
                      "204"
                    ],
                    [
                      43,
                      "204"
                    ],
                    [
                      44,
                      "204"
                    ],
                    [
                      45,
                      "204"
                    ],
                    [
                      46,
                      "204"
                    ],
                    [
                      47,
                      "204"
                    ],
                    [
                      48,
                      "204"
                    ],
                    [
                      49,
                      "204"
                    ],
                    [
                      50,
                      "204"
                    ],
                    [
                      51,
                      "204"
                    ],
                    [
                      52,
                      "204"
                    ]
                  ],
                  "hovertemplate": "roomNo=%{customdata[1]}<br>UMAP_1=%{x}<br>UMAP_2=%{y}<br>entryId=%{customdata[0]}<extra></extra>",
                  "legendgroup": "204",
                  "marker": {
                    "color": "green",
                    "symbol": "circle"
                  },
                  "mode": "markers",
                  "name": "204",
                  "orientation": "v",
                  "showlegend": true,
                  "type": "scatter",
                  "x": [
                    9.488629341125488,
                    8.095916748046875,
                    7.957839488983154,
                    7.895846366882324,
                    9.292118072509766,
                    9.162494659423828,
                    8.933467864990234,
                    7.331389427185059,
                    7.114710807800293,
                    8.97240924835205,
                    9.61860179901123,
                    8.635610580444336,
                    9.6532621383667,
                    7.564487934112549,
                    9.011717796325684,
                    8.5669527053833,
                    7.267486572265625,
                    9.112117767333984,
                    8.601705551147461,
                    8.526302337646484,
                    7.5802903175354,
                    8.205709457397461,
                    7.516237258911133
                  ],
                  "xaxis": "x",
                  "y": [
                    3.2089149951934814,
                    3.2329559326171875,
                    2.752472400665283,
                    3.570657730102539,
                    3.285693407058716,
                    3.8586132526397705,
                    3.5875043869018555,
                    3.718221664428711,
                    3.272447109222412,
                    2.5988802909851074,
                    2.5291101932525635,
                    2.914696455001831,
                    1.369435429573059,
                    3.1134274005889893,
                    3.0639774799346924,
                    1.7218414545059204,
                    2.753798723220825,
                    1.9506853818893433,
                    3.3451385498046875,
                    3.761812448501587,
                    3.9338276386260986,
                    3.7627274990081787,
                    3.576835870742798
                  ],
                  "yaxis": "y"
                },
                {
                  "customdata": [
                    [
                      53,
                      "Outside"
                    ],
                    [
                      54,
                      "Outside"
                    ],
                    [
                      55,
                      "Outside"
                    ]
                  ],
                  "hovertemplate": "roomNo=%{customdata[1]}<br>UMAP_1=%{x}<br>UMAP_2=%{y}<br>entryId=%{customdata[0]}<extra></extra>",
                  "legendgroup": "Outside",
                  "marker": {
                    "color": "blue",
                    "symbol": "circle"
                  },
                  "mode": "markers",
                  "name": "Outside",
                  "orientation": "v",
                  "showlegend": true,
                  "type": "scatter",
                  "x": [
                    8.797261238098145,
                    8.619797706604004,
                    9.846967697143555
                  ],
                  "xaxis": "x",
                  "y": [
                    0.8485792279243469,
                    1.1929618120193481,
                    0.9485675096511841
                  ],
                  "yaxis": "y"
                }
              ],
              "layout": {
                "legend": {
                  "title": {
                    "text": "roomNo"
                  },
                  "tracegroupgap": 0
                },
                "template": {
                  "data": {
                    "bar": [
                      {
                        "error_x": {
                          "color": "#2a3f5f"
                        },
                        "error_y": {
                          "color": "#2a3f5f"
                        },
                        "marker": {
                          "line": {
                            "color": "#E5ECF6",
                            "width": 0.5
                          },
                          "pattern": {
                            "fillmode": "overlay",
                            "size": 10,
                            "solidity": 0.2
                          }
                        },
                        "type": "bar"
                      }
                    ],
                    "barpolar": [
                      {
                        "marker": {
                          "line": {
                            "color": "#E5ECF6",
                            "width": 0.5
                          },
                          "pattern": {
                            "fillmode": "overlay",
                            "size": 10,
                            "solidity": 0.2
                          }
                        },
                        "type": "barpolar"
                      }
                    ],
                    "carpet": [
                      {
                        "aaxis": {
                          "endlinecolor": "#2a3f5f",
                          "gridcolor": "white",
                          "linecolor": "white",
                          "minorgridcolor": "white",
                          "startlinecolor": "#2a3f5f"
                        },
                        "baxis": {
                          "endlinecolor": "#2a3f5f",
                          "gridcolor": "white",
                          "linecolor": "white",
                          "minorgridcolor": "white",
                          "startlinecolor": "#2a3f5f"
                        },
                        "type": "carpet"
                      }
                    ],
                    "choropleth": [
                      {
                        "colorbar": {
                          "outlinewidth": 0,
                          "ticks": ""
                        },
                        "type": "choropleth"
                      }
                    ],
                    "contour": [
                      {
                        "colorbar": {
                          "outlinewidth": 0,
                          "ticks": ""
                        },
                        "colorscale": [
                          [
                            0,
                            "#0d0887"
                          ],
                          [
                            0.1111111111111111,
                            "#46039f"
                          ],
                          [
                            0.2222222222222222,
                            "#7201a8"
                          ],
                          [
                            0.3333333333333333,
                            "#9c179e"
                          ],
                          [
                            0.4444444444444444,
                            "#bd3786"
                          ],
                          [
                            0.5555555555555556,
                            "#d8576b"
                          ],
                          [
                            0.6666666666666666,
                            "#ed7953"
                          ],
                          [
                            0.7777777777777778,
                            "#fb9f3a"
                          ],
                          [
                            0.8888888888888888,
                            "#fdca26"
                          ],
                          [
                            1,
                            "#f0f921"
                          ]
                        ],
                        "type": "contour"
                      }
                    ],
                    "contourcarpet": [
                      {
                        "colorbar": {
                          "outlinewidth": 0,
                          "ticks": ""
                        },
                        "type": "contourcarpet"
                      }
                    ],
                    "heatmap": [
                      {
                        "colorbar": {
                          "outlinewidth": 0,
                          "ticks": ""
                        },
                        "colorscale": [
                          [
                            0,
                            "#0d0887"
                          ],
                          [
                            0.1111111111111111,
                            "#46039f"
                          ],
                          [
                            0.2222222222222222,
                            "#7201a8"
                          ],
                          [
                            0.3333333333333333,
                            "#9c179e"
                          ],
                          [
                            0.4444444444444444,
                            "#bd3786"
                          ],
                          [
                            0.5555555555555556,
                            "#d8576b"
                          ],
                          [
                            0.6666666666666666,
                            "#ed7953"
                          ],
                          [
                            0.7777777777777778,
                            "#fb9f3a"
                          ],
                          [
                            0.8888888888888888,
                            "#fdca26"
                          ],
                          [
                            1,
                            "#f0f921"
                          ]
                        ],
                        "type": "heatmap"
                      }
                    ],
                    "heatmapgl": [
                      {
                        "colorbar": {
                          "outlinewidth": 0,
                          "ticks": ""
                        },
                        "colorscale": [
                          [
                            0,
                            "#0d0887"
                          ],
                          [
                            0.1111111111111111,
                            "#46039f"
                          ],
                          [
                            0.2222222222222222,
                            "#7201a8"
                          ],
                          [
                            0.3333333333333333,
                            "#9c179e"
                          ],
                          [
                            0.4444444444444444,
                            "#bd3786"
                          ],
                          [
                            0.5555555555555556,
                            "#d8576b"
                          ],
                          [
                            0.6666666666666666,
                            "#ed7953"
                          ],
                          [
                            0.7777777777777778,
                            "#fb9f3a"
                          ],
                          [
                            0.8888888888888888,
                            "#fdca26"
                          ],
                          [
                            1,
                            "#f0f921"
                          ]
                        ],
                        "type": "heatmapgl"
                      }
                    ],
                    "histogram": [
                      {
                        "marker": {
                          "pattern": {
                            "fillmode": "overlay",
                            "size": 10,
                            "solidity": 0.2
                          }
                        },
                        "type": "histogram"
                      }
                    ],
                    "histogram2d": [
                      {
                        "colorbar": {
                          "outlinewidth": 0,
                          "ticks": ""
                        },
                        "colorscale": [
                          [
                            0,
                            "#0d0887"
                          ],
                          [
                            0.1111111111111111,
                            "#46039f"
                          ],
                          [
                            0.2222222222222222,
                            "#7201a8"
                          ],
                          [
                            0.3333333333333333,
                            "#9c179e"
                          ],
                          [
                            0.4444444444444444,
                            "#bd3786"
                          ],
                          [
                            0.5555555555555556,
                            "#d8576b"
                          ],
                          [
                            0.6666666666666666,
                            "#ed7953"
                          ],
                          [
                            0.7777777777777778,
                            "#fb9f3a"
                          ],
                          [
                            0.8888888888888888,
                            "#fdca26"
                          ],
                          [
                            1,
                            "#f0f921"
                          ]
                        ],
                        "type": "histogram2d"
                      }
                    ],
                    "histogram2dcontour": [
                      {
                        "colorbar": {
                          "outlinewidth": 0,
                          "ticks": ""
                        },
                        "colorscale": [
                          [
                            0,
                            "#0d0887"
                          ],
                          [
                            0.1111111111111111,
                            "#46039f"
                          ],
                          [
                            0.2222222222222222,
                            "#7201a8"
                          ],
                          [
                            0.3333333333333333,
                            "#9c179e"
                          ],
                          [
                            0.4444444444444444,
                            "#bd3786"
                          ],
                          [
                            0.5555555555555556,
                            "#d8576b"
                          ],
                          [
                            0.6666666666666666,
                            "#ed7953"
                          ],
                          [
                            0.7777777777777778,
                            "#fb9f3a"
                          ],
                          [
                            0.8888888888888888,
                            "#fdca26"
                          ],
                          [
                            1,
                            "#f0f921"
                          ]
                        ],
                        "type": "histogram2dcontour"
                      }
                    ],
                    "mesh3d": [
                      {
                        "colorbar": {
                          "outlinewidth": 0,
                          "ticks": ""
                        },
                        "type": "mesh3d"
                      }
                    ],
                    "parcoords": [
                      {
                        "line": {
                          "colorbar": {
                            "outlinewidth": 0,
                            "ticks": ""
                          }
                        },
                        "type": "parcoords"
                      }
                    ],
                    "pie": [
                      {
                        "automargin": true,
                        "type": "pie"
                      }
                    ],
                    "scatter": [
                      {
                        "fillpattern": {
                          "fillmode": "overlay",
                          "size": 10,
                          "solidity": 0.2
                        },
                        "type": "scatter"
                      }
                    ],
                    "scatter3d": [
                      {
                        "line": {
                          "colorbar": {
                            "outlinewidth": 0,
                            "ticks": ""
                          }
                        },
                        "marker": {
                          "colorbar": {
                            "outlinewidth": 0,
                            "ticks": ""
                          }
                        },
                        "type": "scatter3d"
                      }
                    ],
                    "scattercarpet": [
                      {
                        "marker": {
                          "colorbar": {
                            "outlinewidth": 0,
                            "ticks": ""
                          }
                        },
                        "type": "scattercarpet"
                      }
                    ],
                    "scattergeo": [
                      {
                        "marker": {
                          "colorbar": {
                            "outlinewidth": 0,
                            "ticks": ""
                          }
                        },
                        "type": "scattergeo"
                      }
                    ],
                    "scattergl": [
                      {
                        "marker": {
                          "colorbar": {
                            "outlinewidth": 0,
                            "ticks": ""
                          }
                        },
                        "type": "scattergl"
                      }
                    ],
                    "scattermapbox": [
                      {
                        "marker": {
                          "colorbar": {
                            "outlinewidth": 0,
                            "ticks": ""
                          }
                        },
                        "type": "scattermapbox"
                      }
                    ],
                    "scatterpolar": [
                      {
                        "marker": {
                          "colorbar": {
                            "outlinewidth": 0,
                            "ticks": ""
                          }
                        },
                        "type": "scatterpolar"
                      }
                    ],
                    "scatterpolargl": [
                      {
                        "marker": {
                          "colorbar": {
                            "outlinewidth": 0,
                            "ticks": ""
                          }
                        },
                        "type": "scatterpolargl"
                      }
                    ],
                    "scatterternary": [
                      {
                        "marker": {
                          "colorbar": {
                            "outlinewidth": 0,
                            "ticks": ""
                          }
                        },
                        "type": "scatterternary"
                      }
                    ],
                    "surface": [
                      {
                        "colorbar": {
                          "outlinewidth": 0,
                          "ticks": ""
                        },
                        "colorscale": [
                          [
                            0,
                            "#0d0887"
                          ],
                          [
                            0.1111111111111111,
                            "#46039f"
                          ],
                          [
                            0.2222222222222222,
                            "#7201a8"
                          ],
                          [
                            0.3333333333333333,
                            "#9c179e"
                          ],
                          [
                            0.4444444444444444,
                            "#bd3786"
                          ],
                          [
                            0.5555555555555556,
                            "#d8576b"
                          ],
                          [
                            0.6666666666666666,
                            "#ed7953"
                          ],
                          [
                            0.7777777777777778,
                            "#fb9f3a"
                          ],
                          [
                            0.8888888888888888,
                            "#fdca26"
                          ],
                          [
                            1,
                            "#f0f921"
                          ]
                        ],
                        "type": "surface"
                      }
                    ],
                    "table": [
                      {
                        "cells": {
                          "fill": {
                            "color": "#EBF0F8"
                          },
                          "line": {
                            "color": "white"
                          }
                        },
                        "header": {
                          "fill": {
                            "color": "#C8D4E3"
                          },
                          "line": {
                            "color": "white"
                          }
                        },
                        "type": "table"
                      }
                    ]
                  },
                  "layout": {
                    "annotationdefaults": {
                      "arrowcolor": "#2a3f5f",
                      "arrowhead": 0,
                      "arrowwidth": 1
                    },
                    "autotypenumbers": "strict",
                    "coloraxis": {
                      "colorbar": {
                        "outlinewidth": 0,
                        "ticks": ""
                      }
                    },
                    "colorscale": {
                      "diverging": [
                        [
                          0,
                          "#8e0152"
                        ],
                        [
                          0.1,
                          "#c51b7d"
                        ],
                        [
                          0.2,
                          "#de77ae"
                        ],
                        [
                          0.3,
                          "#f1b6da"
                        ],
                        [
                          0.4,
                          "#fde0ef"
                        ],
                        [
                          0.5,
                          "#f7f7f7"
                        ],
                        [
                          0.6,
                          "#e6f5d0"
                        ],
                        [
                          0.7,
                          "#b8e186"
                        ],
                        [
                          0.8,
                          "#7fbc41"
                        ],
                        [
                          0.9,
                          "#4d9221"
                        ],
                        [
                          1,
                          "#276419"
                        ]
                      ],
                      "sequential": [
                        [
                          0,
                          "#0d0887"
                        ],
                        [
                          0.1111111111111111,
                          "#46039f"
                        ],
                        [
                          0.2222222222222222,
                          "#7201a8"
                        ],
                        [
                          0.3333333333333333,
                          "#9c179e"
                        ],
                        [
                          0.4444444444444444,
                          "#bd3786"
                        ],
                        [
                          0.5555555555555556,
                          "#d8576b"
                        ],
                        [
                          0.6666666666666666,
                          "#ed7953"
                        ],
                        [
                          0.7777777777777778,
                          "#fb9f3a"
                        ],
                        [
                          0.8888888888888888,
                          "#fdca26"
                        ],
                        [
                          1,
                          "#f0f921"
                        ]
                      ],
                      "sequentialminus": [
                        [
                          0,
                          "#0d0887"
                        ],
                        [
                          0.1111111111111111,
                          "#46039f"
                        ],
                        [
                          0.2222222222222222,
                          "#7201a8"
                        ],
                        [
                          0.3333333333333333,
                          "#9c179e"
                        ],
                        [
                          0.4444444444444444,
                          "#bd3786"
                        ],
                        [
                          0.5555555555555556,
                          "#d8576b"
                        ],
                        [
                          0.6666666666666666,
                          "#ed7953"
                        ],
                        [
                          0.7777777777777778,
                          "#fb9f3a"
                        ],
                        [
                          0.8888888888888888,
                          "#fdca26"
                        ],
                        [
                          1,
                          "#f0f921"
                        ]
                      ]
                    },
                    "colorway": [
                      "#636efa",
                      "#EF553B",
                      "#00cc96",
                      "#ab63fa",
                      "#FFA15A",
                      "#19d3f3",
                      "#FF6692",
                      "#B6E880",
                      "#FF97FF",
                      "#FECB52"
                    ],
                    "font": {
                      "color": "#2a3f5f"
                    },
                    "geo": {
                      "bgcolor": "white",
                      "lakecolor": "white",
                      "landcolor": "#E5ECF6",
                      "showlakes": true,
                      "showland": true,
                      "subunitcolor": "white"
                    },
                    "hoverlabel": {
                      "align": "left"
                    },
                    "hovermode": "closest",
                    "mapbox": {
                      "style": "light"
                    },
                    "paper_bgcolor": "white",
                    "plot_bgcolor": "#E5ECF6",
                    "polar": {
                      "angularaxis": {
                        "gridcolor": "white",
                        "linecolor": "white",
                        "ticks": ""
                      },
                      "bgcolor": "#E5ECF6",
                      "radialaxis": {
                        "gridcolor": "white",
                        "linecolor": "white",
                        "ticks": ""
                      }
                    },
                    "scene": {
                      "xaxis": {
                        "backgroundcolor": "#E5ECF6",
                        "gridcolor": "white",
                        "gridwidth": 2,
                        "linecolor": "white",
                        "showbackground": true,
                        "ticks": "",
                        "zerolinecolor": "white"
                      },
                      "yaxis": {
                        "backgroundcolor": "#E5ECF6",
                        "gridcolor": "white",
                        "gridwidth": 2,
                        "linecolor": "white",
                        "showbackground": true,
                        "ticks": "",
                        "zerolinecolor": "white"
                      },
                      "zaxis": {
                        "backgroundcolor": "#E5ECF6",
                        "gridcolor": "white",
                        "gridwidth": 2,
                        "linecolor": "white",
                        "showbackground": true,
                        "ticks": "",
                        "zerolinecolor": "white"
                      }
                    },
                    "shapedefaults": {
                      "line": {
                        "color": "#2a3f5f"
                      }
                    },
                    "ternary": {
                      "aaxis": {
                        "gridcolor": "white",
                        "linecolor": "white",
                        "ticks": ""
                      },
                      "baxis": {
                        "gridcolor": "white",
                        "linecolor": "white",
                        "ticks": ""
                      },
                      "bgcolor": "#E5ECF6",
                      "caxis": {
                        "gridcolor": "white",
                        "linecolor": "white",
                        "ticks": ""
                      }
                    },
                    "title": {
                      "x": 0.05
                    },
                    "xaxis": {
                      "automargin": true,
                      "gridcolor": "white",
                      "linecolor": "white",
                      "ticks": "",
                      "title": {
                        "standoff": 15
                      },
                      "zerolinecolor": "white",
                      "zerolinewidth": 2
                    },
                    "yaxis": {
                      "automargin": true,
                      "gridcolor": "white",
                      "linecolor": "white",
                      "ticks": "",
                      "title": {
                        "standoff": 15
                      },
                      "zerolinecolor": "white",
                      "zerolinewidth": 2
                    }
                  }
                },
                "title": {
                  "text": "UMAP Projection (Original Labels)"
                },
                "xaxis": {
                  "anchor": "y",
                  "domain": [
                    0,
                    1
                  ],
                  "title": {
                    "text": "UMAP_1"
                  }
                },
                "yaxis": {
                  "anchor": "x",
                  "domain": [
                    0,
                    1
                  ],
                  "title": {
                    "text": "UMAP_2"
                  }
                }
              }
            }
          },
          "metadata": {},
          "output_type": "display_data"
        },
        {
          "data": {
            "application/vnd.plotly.v1+json": {
              "config": {
                "plotlyServerURL": "https://plot.ly"
              },
              "data": [
                {
                  "customdata": [
                    [
                      1,
                      "203"
                    ],
                    [
                      2,
                      "203"
                    ],
                    [
                      3,
                      "203"
                    ],
                    [
                      4,
                      "203"
                    ],
                    [
                      5,
                      "203"
                    ],
                    [
                      6,
                      "203"
                    ],
                    [
                      7,
                      "203"
                    ],
                    [
                      8,
                      "203"
                    ],
                    [
                      9,
                      "203"
                    ],
                    [
                      10,
                      "203"
                    ],
                    [
                      11,
                      "203"
                    ],
                    [
                      12,
                      "203"
                    ],
                    [
                      13,
                      "203"
                    ],
                    [
                      14,
                      "203"
                    ],
                    [
                      15,
                      "203"
                    ],
                    [
                      16,
                      "203"
                    ],
                    [
                      17,
                      "203"
                    ],
                    [
                      18,
                      "203"
                    ],
                    [
                      19,
                      "203"
                    ],
                    [
                      20,
                      "203"
                    ],
                    [
                      21,
                      "203"
                    ],
                    [
                      22,
                      "203"
                    ],
                    [
                      23,
                      "203"
                    ],
                    [
                      24,
                      "203"
                    ],
                    [
                      25,
                      "203"
                    ],
                    [
                      26,
                      "203"
                    ],
                    [
                      27,
                      "203"
                    ],
                    [
                      28,
                      "203"
                    ],
                    [
                      29,
                      "203"
                    ]
                  ],
                  "hovertemplate": "roomNo=%{customdata[1]}<br>tSNE_1=%{x}<br>tSNE_2=%{y}<br>entryId=%{customdata[0]}<extra></extra>",
                  "legendgroup": "203",
                  "marker": {
                    "color": "red",
                    "symbol": "circle"
                  },
                  "mode": "markers",
                  "name": "203",
                  "orientation": "v",
                  "showlegend": true,
                  "type": "scatter",
                  "x": [
                    21.610471725463867,
                    26.8509578704834,
                    39.19892501831055,
                    21.888328552246094,
                    27.094873428344727,
                    12.654875755310059,
                    23.699129104614258,
                    22.391223907470703,
                    19.873136520385742,
                    19.79899024963379,
                    36.87477493286133,
                    7.938395977020264,
                    24.45916175842285,
                    9.907477378845215,
                    19.661375045776367,
                    16.263301849365234,
                    28.991430282592773,
                    29.24930763244629,
                    9.896224975585938,
                    -2.1931042671203613,
                    2.5848827362060547,
                    6.445431709289551,
                    0.03832947462797165,
                    16.98736000061035,
                    32.253353118896484,
                    36.13496780395508,
                    1.2711622714996338,
                    0.10528334975242615,
                    9.4105863571167
                  ],
                  "xaxis": "x",
                  "y": [
                    -2.398491382598877,
                    -11.51152229309082,
                    19.72939109802246,
                    7.613289833068848,
                    12.771308898925781,
                    4.168270587921143,
                    -1.3051751852035522,
                    -11.399542808532715,
                    10.437447547912598,
                    5.329017639160156,
                    19.981250762939453,
                    9.268411636352539,
                    7.92479133605957,
                    10.589700698852539,
                    -6.641295909881592,
                    4.6225080490112305,
                    9.271995544433594,
                    -10.683351516723633,
                    -16.811607360839844,
                    15.643342971801758,
                    7.881393909454346,
                    -14.597253799438477,
                    7.649326801300049,
                    -7.914125919342041,
                    15.955044746398926,
                    22.93146514892578,
                    17.689651489257812,
                    12.80224323272705,
                    2.4934403896331787
                  ],
                  "yaxis": "y"
                },
                {
                  "customdata": [
                    [
                      30,
                      "204"
                    ],
                    [
                      31,
                      "204"
                    ],
                    [
                      32,
                      "204"
                    ],
                    [
                      33,
                      "204"
                    ],
                    [
                      34,
                      "204"
                    ],
                    [
                      35,
                      "204"
                    ],
                    [
                      36,
                      "204"
                    ],
                    [
                      37,
                      "204"
                    ],
                    [
                      38,
                      "204"
                    ],
                    [
                      39,
                      "204"
                    ],
                    [
                      40,
                      "204"
                    ],
                    [
                      41,
                      "204"
                    ],
                    [
                      42,
                      "204"
                    ],
                    [
                      43,
                      "204"
                    ],
                    [
                      44,
                      "204"
                    ],
                    [
                      45,
                      "204"
                    ],
                    [
                      46,
                      "204"
                    ],
                    [
                      47,
                      "204"
                    ],
                    [
                      48,
                      "204"
                    ],
                    [
                      49,
                      "204"
                    ],
                    [
                      50,
                      "204"
                    ],
                    [
                      51,
                      "204"
                    ],
                    [
                      52,
                      "204"
                    ]
                  ],
                  "hovertemplate": "roomNo=%{customdata[1]}<br>tSNE_1=%{x}<br>tSNE_2=%{y}<br>entryId=%{customdata[0]}<extra></extra>",
                  "legendgroup": "204",
                  "marker": {
                    "color": "green",
                    "symbol": "circle"
                  },
                  "mode": "markers",
                  "name": "204",
                  "orientation": "v",
                  "showlegend": true,
                  "type": "scatter",
                  "x": [
                    -15.39244556427002,
                    -31.834735870361328,
                    -30.89188003540039,
                    -33.89338302612305,
                    -16.872737884521484,
                    -18.13303565979004,
                    -22.434545516967773,
                    -45.619808197021484,
                    -42.78266906738281,
                    -18.96457290649414,
                    -4.331343173980713,
                    -22.51653480529785,
                    14.141656875610352,
                    -38.79025650024414,
                    -12.37332534790039,
                    3.8286116123199463,
                    -43.99649429321289,
                    -17.22732925415039,
                    -26.239803314208984,
                    -24.040313720703125,
                    -41.13957595825195,
                    -31.039335250854492,
                    -41.581546783447266
                  ],
                  "xaxis": "x",
                  "y": [
                    -10.77747631072998,
                    -16.428129196166992,
                    -20.237838745117188,
                    -14.477165222167969,
                    -7.423893451690674,
                    -14.139518737792969,
                    -8.024531364440918,
                    -11.166010856628418,
                    -16.42267608642578,
                    -2.5064480304718018,
                    4.884734153747559,
                    -4.549614906311035,
                    21.018409729003906,
                    -13.975106239318848,
                    -7.668260097503662,
                    -18.65655517578125,
                    -19.77008056640625,
                    0.15777172148227692,
                    -2.695251226425171,
                    -10.021427154541016,
                    -8.811625480651855,
                    -12.226068496704102,
                    -12.808438301086426
                  ],
                  "yaxis": "y"
                },
                {
                  "customdata": [
                    [
                      53,
                      "Outside"
                    ],
                    [
                      54,
                      "Outside"
                    ],
                    [
                      55,
                      "Outside"
                    ]
                  ],
                  "hovertemplate": "roomNo=%{customdata[1]}<br>tSNE_1=%{x}<br>tSNE_2=%{y}<br>entryId=%{customdata[0]}<extra></extra>",
                  "legendgroup": "Outside",
                  "marker": {
                    "color": "blue",
                    "symbol": "circle"
                  },
                  "mode": "markers",
                  "name": "Outside",
                  "orientation": "v",
                  "showlegend": true,
                  "type": "scatter",
                  "x": [
                    7.3868560791015625,
                    6.329433441162109,
                    15.223271369934082
                  ],
                  "xaxis": "x",
                  "y": [
                    -22.57575225830078,
                    -19.852310180664062,
                    17.652639389038086
                  ],
                  "yaxis": "y"
                }
              ],
              "layout": {
                "legend": {
                  "title": {
                    "text": "roomNo"
                  },
                  "tracegroupgap": 0
                },
                "template": {
                  "data": {
                    "bar": [
                      {
                        "error_x": {
                          "color": "#2a3f5f"
                        },
                        "error_y": {
                          "color": "#2a3f5f"
                        },
                        "marker": {
                          "line": {
                            "color": "#E5ECF6",
                            "width": 0.5
                          },
                          "pattern": {
                            "fillmode": "overlay",
                            "size": 10,
                            "solidity": 0.2
                          }
                        },
                        "type": "bar"
                      }
                    ],
                    "barpolar": [
                      {
                        "marker": {
                          "line": {
                            "color": "#E5ECF6",
                            "width": 0.5
                          },
                          "pattern": {
                            "fillmode": "overlay",
                            "size": 10,
                            "solidity": 0.2
                          }
                        },
                        "type": "barpolar"
                      }
                    ],
                    "carpet": [
                      {
                        "aaxis": {
                          "endlinecolor": "#2a3f5f",
                          "gridcolor": "white",
                          "linecolor": "white",
                          "minorgridcolor": "white",
                          "startlinecolor": "#2a3f5f"
                        },
                        "baxis": {
                          "endlinecolor": "#2a3f5f",
                          "gridcolor": "white",
                          "linecolor": "white",
                          "minorgridcolor": "white",
                          "startlinecolor": "#2a3f5f"
                        },
                        "type": "carpet"
                      }
                    ],
                    "choropleth": [
                      {
                        "colorbar": {
                          "outlinewidth": 0,
                          "ticks": ""
                        },
                        "type": "choropleth"
                      }
                    ],
                    "contour": [
                      {
                        "colorbar": {
                          "outlinewidth": 0,
                          "ticks": ""
                        },
                        "colorscale": [
                          [
                            0,
                            "#0d0887"
                          ],
                          [
                            0.1111111111111111,
                            "#46039f"
                          ],
                          [
                            0.2222222222222222,
                            "#7201a8"
                          ],
                          [
                            0.3333333333333333,
                            "#9c179e"
                          ],
                          [
                            0.4444444444444444,
                            "#bd3786"
                          ],
                          [
                            0.5555555555555556,
                            "#d8576b"
                          ],
                          [
                            0.6666666666666666,
                            "#ed7953"
                          ],
                          [
                            0.7777777777777778,
                            "#fb9f3a"
                          ],
                          [
                            0.8888888888888888,
                            "#fdca26"
                          ],
                          [
                            1,
                            "#f0f921"
                          ]
                        ],
                        "type": "contour"
                      }
                    ],
                    "contourcarpet": [
                      {
                        "colorbar": {
                          "outlinewidth": 0,
                          "ticks": ""
                        },
                        "type": "contourcarpet"
                      }
                    ],
                    "heatmap": [
                      {
                        "colorbar": {
                          "outlinewidth": 0,
                          "ticks": ""
                        },
                        "colorscale": [
                          [
                            0,
                            "#0d0887"
                          ],
                          [
                            0.1111111111111111,
                            "#46039f"
                          ],
                          [
                            0.2222222222222222,
                            "#7201a8"
                          ],
                          [
                            0.3333333333333333,
                            "#9c179e"
                          ],
                          [
                            0.4444444444444444,
                            "#bd3786"
                          ],
                          [
                            0.5555555555555556,
                            "#d8576b"
                          ],
                          [
                            0.6666666666666666,
                            "#ed7953"
                          ],
                          [
                            0.7777777777777778,
                            "#fb9f3a"
                          ],
                          [
                            0.8888888888888888,
                            "#fdca26"
                          ],
                          [
                            1,
                            "#f0f921"
                          ]
                        ],
                        "type": "heatmap"
                      }
                    ],
                    "heatmapgl": [
                      {
                        "colorbar": {
                          "outlinewidth": 0,
                          "ticks": ""
                        },
                        "colorscale": [
                          [
                            0,
                            "#0d0887"
                          ],
                          [
                            0.1111111111111111,
                            "#46039f"
                          ],
                          [
                            0.2222222222222222,
                            "#7201a8"
                          ],
                          [
                            0.3333333333333333,
                            "#9c179e"
                          ],
                          [
                            0.4444444444444444,
                            "#bd3786"
                          ],
                          [
                            0.5555555555555556,
                            "#d8576b"
                          ],
                          [
                            0.6666666666666666,
                            "#ed7953"
                          ],
                          [
                            0.7777777777777778,
                            "#fb9f3a"
                          ],
                          [
                            0.8888888888888888,
                            "#fdca26"
                          ],
                          [
                            1,
                            "#f0f921"
                          ]
                        ],
                        "type": "heatmapgl"
                      }
                    ],
                    "histogram": [
                      {
                        "marker": {
                          "pattern": {
                            "fillmode": "overlay",
                            "size": 10,
                            "solidity": 0.2
                          }
                        },
                        "type": "histogram"
                      }
                    ],
                    "histogram2d": [
                      {
                        "colorbar": {
                          "outlinewidth": 0,
                          "ticks": ""
                        },
                        "colorscale": [
                          [
                            0,
                            "#0d0887"
                          ],
                          [
                            0.1111111111111111,
                            "#46039f"
                          ],
                          [
                            0.2222222222222222,
                            "#7201a8"
                          ],
                          [
                            0.3333333333333333,
                            "#9c179e"
                          ],
                          [
                            0.4444444444444444,
                            "#bd3786"
                          ],
                          [
                            0.5555555555555556,
                            "#d8576b"
                          ],
                          [
                            0.6666666666666666,
                            "#ed7953"
                          ],
                          [
                            0.7777777777777778,
                            "#fb9f3a"
                          ],
                          [
                            0.8888888888888888,
                            "#fdca26"
                          ],
                          [
                            1,
                            "#f0f921"
                          ]
                        ],
                        "type": "histogram2d"
                      }
                    ],
                    "histogram2dcontour": [
                      {
                        "colorbar": {
                          "outlinewidth": 0,
                          "ticks": ""
                        },
                        "colorscale": [
                          [
                            0,
                            "#0d0887"
                          ],
                          [
                            0.1111111111111111,
                            "#46039f"
                          ],
                          [
                            0.2222222222222222,
                            "#7201a8"
                          ],
                          [
                            0.3333333333333333,
                            "#9c179e"
                          ],
                          [
                            0.4444444444444444,
                            "#bd3786"
                          ],
                          [
                            0.5555555555555556,
                            "#d8576b"
                          ],
                          [
                            0.6666666666666666,
                            "#ed7953"
                          ],
                          [
                            0.7777777777777778,
                            "#fb9f3a"
                          ],
                          [
                            0.8888888888888888,
                            "#fdca26"
                          ],
                          [
                            1,
                            "#f0f921"
                          ]
                        ],
                        "type": "histogram2dcontour"
                      }
                    ],
                    "mesh3d": [
                      {
                        "colorbar": {
                          "outlinewidth": 0,
                          "ticks": ""
                        },
                        "type": "mesh3d"
                      }
                    ],
                    "parcoords": [
                      {
                        "line": {
                          "colorbar": {
                            "outlinewidth": 0,
                            "ticks": ""
                          }
                        },
                        "type": "parcoords"
                      }
                    ],
                    "pie": [
                      {
                        "automargin": true,
                        "type": "pie"
                      }
                    ],
                    "scatter": [
                      {
                        "fillpattern": {
                          "fillmode": "overlay",
                          "size": 10,
                          "solidity": 0.2
                        },
                        "type": "scatter"
                      }
                    ],
                    "scatter3d": [
                      {
                        "line": {
                          "colorbar": {
                            "outlinewidth": 0,
                            "ticks": ""
                          }
                        },
                        "marker": {
                          "colorbar": {
                            "outlinewidth": 0,
                            "ticks": ""
                          }
                        },
                        "type": "scatter3d"
                      }
                    ],
                    "scattercarpet": [
                      {
                        "marker": {
                          "colorbar": {
                            "outlinewidth": 0,
                            "ticks": ""
                          }
                        },
                        "type": "scattercarpet"
                      }
                    ],
                    "scattergeo": [
                      {
                        "marker": {
                          "colorbar": {
                            "outlinewidth": 0,
                            "ticks": ""
                          }
                        },
                        "type": "scattergeo"
                      }
                    ],
                    "scattergl": [
                      {
                        "marker": {
                          "colorbar": {
                            "outlinewidth": 0,
                            "ticks": ""
                          }
                        },
                        "type": "scattergl"
                      }
                    ],
                    "scattermapbox": [
                      {
                        "marker": {
                          "colorbar": {
                            "outlinewidth": 0,
                            "ticks": ""
                          }
                        },
                        "type": "scattermapbox"
                      }
                    ],
                    "scatterpolar": [
                      {
                        "marker": {
                          "colorbar": {
                            "outlinewidth": 0,
                            "ticks": ""
                          }
                        },
                        "type": "scatterpolar"
                      }
                    ],
                    "scatterpolargl": [
                      {
                        "marker": {
                          "colorbar": {
                            "outlinewidth": 0,
                            "ticks": ""
                          }
                        },
                        "type": "scatterpolargl"
                      }
                    ],
                    "scatterternary": [
                      {
                        "marker": {
                          "colorbar": {
                            "outlinewidth": 0,
                            "ticks": ""
                          }
                        },
                        "type": "scatterternary"
                      }
                    ],
                    "surface": [
                      {
                        "colorbar": {
                          "outlinewidth": 0,
                          "ticks": ""
                        },
                        "colorscale": [
                          [
                            0,
                            "#0d0887"
                          ],
                          [
                            0.1111111111111111,
                            "#46039f"
                          ],
                          [
                            0.2222222222222222,
                            "#7201a8"
                          ],
                          [
                            0.3333333333333333,
                            "#9c179e"
                          ],
                          [
                            0.4444444444444444,
                            "#bd3786"
                          ],
                          [
                            0.5555555555555556,
                            "#d8576b"
                          ],
                          [
                            0.6666666666666666,
                            "#ed7953"
                          ],
                          [
                            0.7777777777777778,
                            "#fb9f3a"
                          ],
                          [
                            0.8888888888888888,
                            "#fdca26"
                          ],
                          [
                            1,
                            "#f0f921"
                          ]
                        ],
                        "type": "surface"
                      }
                    ],
                    "table": [
                      {
                        "cells": {
                          "fill": {
                            "color": "#EBF0F8"
                          },
                          "line": {
                            "color": "white"
                          }
                        },
                        "header": {
                          "fill": {
                            "color": "#C8D4E3"
                          },
                          "line": {
                            "color": "white"
                          }
                        },
                        "type": "table"
                      }
                    ]
                  },
                  "layout": {
                    "annotationdefaults": {
                      "arrowcolor": "#2a3f5f",
                      "arrowhead": 0,
                      "arrowwidth": 1
                    },
                    "autotypenumbers": "strict",
                    "coloraxis": {
                      "colorbar": {
                        "outlinewidth": 0,
                        "ticks": ""
                      }
                    },
                    "colorscale": {
                      "diverging": [
                        [
                          0,
                          "#8e0152"
                        ],
                        [
                          0.1,
                          "#c51b7d"
                        ],
                        [
                          0.2,
                          "#de77ae"
                        ],
                        [
                          0.3,
                          "#f1b6da"
                        ],
                        [
                          0.4,
                          "#fde0ef"
                        ],
                        [
                          0.5,
                          "#f7f7f7"
                        ],
                        [
                          0.6,
                          "#e6f5d0"
                        ],
                        [
                          0.7,
                          "#b8e186"
                        ],
                        [
                          0.8,
                          "#7fbc41"
                        ],
                        [
                          0.9,
                          "#4d9221"
                        ],
                        [
                          1,
                          "#276419"
                        ]
                      ],
                      "sequential": [
                        [
                          0,
                          "#0d0887"
                        ],
                        [
                          0.1111111111111111,
                          "#46039f"
                        ],
                        [
                          0.2222222222222222,
                          "#7201a8"
                        ],
                        [
                          0.3333333333333333,
                          "#9c179e"
                        ],
                        [
                          0.4444444444444444,
                          "#bd3786"
                        ],
                        [
                          0.5555555555555556,
                          "#d8576b"
                        ],
                        [
                          0.6666666666666666,
                          "#ed7953"
                        ],
                        [
                          0.7777777777777778,
                          "#fb9f3a"
                        ],
                        [
                          0.8888888888888888,
                          "#fdca26"
                        ],
                        [
                          1,
                          "#f0f921"
                        ]
                      ],
                      "sequentialminus": [
                        [
                          0,
                          "#0d0887"
                        ],
                        [
                          0.1111111111111111,
                          "#46039f"
                        ],
                        [
                          0.2222222222222222,
                          "#7201a8"
                        ],
                        [
                          0.3333333333333333,
                          "#9c179e"
                        ],
                        [
                          0.4444444444444444,
                          "#bd3786"
                        ],
                        [
                          0.5555555555555556,
                          "#d8576b"
                        ],
                        [
                          0.6666666666666666,
                          "#ed7953"
                        ],
                        [
                          0.7777777777777778,
                          "#fb9f3a"
                        ],
                        [
                          0.8888888888888888,
                          "#fdca26"
                        ],
                        [
                          1,
                          "#f0f921"
                        ]
                      ]
                    },
                    "colorway": [
                      "#636efa",
                      "#EF553B",
                      "#00cc96",
                      "#ab63fa",
                      "#FFA15A",
                      "#19d3f3",
                      "#FF6692",
                      "#B6E880",
                      "#FF97FF",
                      "#FECB52"
                    ],
                    "font": {
                      "color": "#2a3f5f"
                    },
                    "geo": {
                      "bgcolor": "white",
                      "lakecolor": "white",
                      "landcolor": "#E5ECF6",
                      "showlakes": true,
                      "showland": true,
                      "subunitcolor": "white"
                    },
                    "hoverlabel": {
                      "align": "left"
                    },
                    "hovermode": "closest",
                    "mapbox": {
                      "style": "light"
                    },
                    "paper_bgcolor": "white",
                    "plot_bgcolor": "#E5ECF6",
                    "polar": {
                      "angularaxis": {
                        "gridcolor": "white",
                        "linecolor": "white",
                        "ticks": ""
                      },
                      "bgcolor": "#E5ECF6",
                      "radialaxis": {
                        "gridcolor": "white",
                        "linecolor": "white",
                        "ticks": ""
                      }
                    },
                    "scene": {
                      "xaxis": {
                        "backgroundcolor": "#E5ECF6",
                        "gridcolor": "white",
                        "gridwidth": 2,
                        "linecolor": "white",
                        "showbackground": true,
                        "ticks": "",
                        "zerolinecolor": "white"
                      },
                      "yaxis": {
                        "backgroundcolor": "#E5ECF6",
                        "gridcolor": "white",
                        "gridwidth": 2,
                        "linecolor": "white",
                        "showbackground": true,
                        "ticks": "",
                        "zerolinecolor": "white"
                      },
                      "zaxis": {
                        "backgroundcolor": "#E5ECF6",
                        "gridcolor": "white",
                        "gridwidth": 2,
                        "linecolor": "white",
                        "showbackground": true,
                        "ticks": "",
                        "zerolinecolor": "white"
                      }
                    },
                    "shapedefaults": {
                      "line": {
                        "color": "#2a3f5f"
                      }
                    },
                    "ternary": {
                      "aaxis": {
                        "gridcolor": "white",
                        "linecolor": "white",
                        "ticks": ""
                      },
                      "baxis": {
                        "gridcolor": "white",
                        "linecolor": "white",
                        "ticks": ""
                      },
                      "bgcolor": "#E5ECF6",
                      "caxis": {
                        "gridcolor": "white",
                        "linecolor": "white",
                        "ticks": ""
                      }
                    },
                    "title": {
                      "x": 0.05
                    },
                    "xaxis": {
                      "automargin": true,
                      "gridcolor": "white",
                      "linecolor": "white",
                      "ticks": "",
                      "title": {
                        "standoff": 15
                      },
                      "zerolinecolor": "white",
                      "zerolinewidth": 2
                    },
                    "yaxis": {
                      "automargin": true,
                      "gridcolor": "white",
                      "linecolor": "white",
                      "ticks": "",
                      "title": {
                        "standoff": 15
                      },
                      "zerolinecolor": "white",
                      "zerolinewidth": 2
                    }
                  }
                },
                "title": {
                  "text": "t-SNE Projection (Original Labels)"
                },
                "xaxis": {
                  "anchor": "y",
                  "domain": [
                    0,
                    1
                  ],
                  "title": {
                    "text": "tSNE_1"
                  }
                },
                "yaxis": {
                  "anchor": "x",
                  "domain": [
                    0,
                    1
                  ],
                  "title": {
                    "text": "tSNE_2"
                  }
                }
              }
            }
          },
          "metadata": {},
          "output_type": "display_data"
        },
        {
          "data": {
            "application/vnd.plotly.v1+json": {
              "config": {
                "plotlyServerURL": "https://plot.ly"
              },
              "data": [
                {
                  "customdata": [
                    [
                      1,
                      "203"
                    ],
                    [
                      2,
                      "203"
                    ],
                    [
                      3,
                      "203"
                    ],
                    [
                      4,
                      "203"
                    ],
                    [
                      5,
                      "203"
                    ],
                    [
                      6,
                      "203"
                    ],
                    [
                      7,
                      "203"
                    ],
                    [
                      8,
                      "203"
                    ],
                    [
                      9,
                      "203"
                    ],
                    [
                      10,
                      "203"
                    ],
                    [
                      11,
                      "203"
                    ],
                    [
                      12,
                      "203"
                    ],
                    [
                      13,
                      "203"
                    ],
                    [
                      14,
                      "203"
                    ],
                    [
                      15,
                      "203"
                    ],
                    [
                      16,
                      "203"
                    ],
                    [
                      17,
                      "203"
                    ],
                    [
                      18,
                      "203"
                    ],
                    [
                      19,
                      "203"
                    ],
                    [
                      20,
                      "203"
                    ],
                    [
                      21,
                      "203"
                    ],
                    [
                      22,
                      "203"
                    ],
                    [
                      23,
                      "203"
                    ],
                    [
                      24,
                      "203"
                    ],
                    [
                      25,
                      "203"
                    ],
                    [
                      26,
                      "203"
                    ],
                    [
                      27,
                      "203"
                    ],
                    [
                      28,
                      "203"
                    ],
                    [
                      29,
                      "203"
                    ],
                    [
                      30,
                      "204"
                    ],
                    [
                      31,
                      "204"
                    ],
                    [
                      32,
                      "204"
                    ],
                    [
                      33,
                      "204"
                    ],
                    [
                      34,
                      "204"
                    ],
                    [
                      35,
                      "204"
                    ],
                    [
                      36,
                      "204"
                    ],
                    [
                      37,
                      "204"
                    ],
                    [
                      38,
                      "204"
                    ],
                    [
                      39,
                      "204"
                    ],
                    [
                      40,
                      "204"
                    ],
                    [
                      41,
                      "204"
                    ],
                    [
                      42,
                      "204"
                    ],
                    [
                      43,
                      "204"
                    ],
                    [
                      44,
                      "204"
                    ],
                    [
                      45,
                      "204"
                    ],
                    [
                      46,
                      "204"
                    ],
                    [
                      47,
                      "204"
                    ],
                    [
                      48,
                      "204"
                    ],
                    [
                      49,
                      "204"
                    ],
                    [
                      50,
                      "204"
                    ],
                    [
                      51,
                      "204"
                    ],
                    [
                      52,
                      "204"
                    ],
                    [
                      53,
                      "Outside"
                    ],
                    [
                      54,
                      "Outside"
                    ],
                    [
                      55,
                      "Outside"
                    ]
                  ],
                  "hovertemplate": "UMAP_1=%{x}<br>UMAP_2=%{y}<br>entryId=%{customdata[0]}<br>roomNo=%{customdata[1]}<br>DBSCAN_Cluster=%{marker.color}<extra></extra>",
                  "legendgroup": "",
                  "marker": {
                    "color": [
                      0,
                      0,
                      1,
                      0,
                      0,
                      0,
                      0,
                      0,
                      0,
                      0,
                      1,
                      0,
                      0,
                      0,
                      0,
                      0,
                      0,
                      0,
                      0,
                      0,
                      0,
                      0,
                      0,
                      0,
                      2,
                      1,
                      2,
                      0,
                      0,
                      0,
                      0,
                      2,
                      0,
                      0,
                      0,
                      0,
                      2,
                      0,
                      0,
                      2,
                      0,
                      2,
                      0,
                      0,
                      0,
                      2,
                      0,
                      2,
                      0,
                      2,
                      0,
                      0,
                      0,
                      0,
                      2
                    ],
                    "coloraxis": "coloraxis",
                    "symbol": "circle"
                  },
                  "mode": "markers",
                  "name": "",
                  "orientation": "v",
                  "showlegend": false,
                  "type": "scatter",
                  "x": [
                    10.046041488647461,
                    8.939360618591309,
                    12.584162712097168,
                    11.32838249206543,
                    11.742972373962402,
                    10.887301445007324,
                    10.09565544128418,
                    9.346662521362305,
                    11.227107048034668,
                    10.559525489807129,
                    12.381431579589844,
                    10.546316146850586,
                    11.386215209960938,
                    10.265570640563965,
                    9.658507347106934,
                    10.782293319702148,
                    11.823545455932617,
                    9.243544578552246,
                    9.185349464416504,
                    10.652024269104004,
                    11.180085182189941,
                    8.68399715423584,
                    11.416421890258789,
                    9.564105987548828,
                    12.070849418640137,
                    12.388897895812988,
                    11.028634071350098,
                    10.922699928283691,
                    10.701833724975586,
                    9.488629341125488,
                    8.095916748046875,
                    7.957839488983154,
                    7.895846366882324,
                    9.292118072509766,
                    9.162494659423828,
                    8.933467864990234,
                    7.331389427185059,
                    7.114710807800293,
                    8.97240924835205,
                    9.61860179901123,
                    8.635610580444336,
                    9.6532621383667,
                    7.564487934112549,
                    9.011717796325684,
                    8.5669527053833,
                    7.267486572265625,
                    9.112117767333984,
                    8.601705551147461,
                    8.526302337646484,
                    7.5802903175354,
                    8.205709457397461,
                    7.516237258911133,
                    8.797261238098145,
                    8.619797706604004,
                    9.846967697143555
                  ],
                  "xaxis": "x",
                  "y": [
                    -0.13275153934955597,
                    0.0728372186422348,
                    0.3976290225982666,
                    -0.33722299337387085,
                    0.4071251153945923,
                    0.20417027175426483,
                    -0.5365185141563416,
                    0.09252039343118668,
                    -0.0856848657131195,
                    -0.5103926062583923,
                    0.4685322344303131,
                    0.3809366226196289,
                    0.11006546765565872,
                    0.07857757061719894,
                    -0.0482182539999485,
                    -0.4187484681606293,
                    0.1722470223903656,
                    -0.3163965344429016,
                    0.9953336715698242,
                    1.0373659133911133,
                    0.6763173341751099,
                    0.7140410542488098,
                    1.2139617204666138,
                    0.48593100905418396,
                    0.5734900832176208,
                    0.935187041759491,
                    1.286710262298584,
                    1.4095487594604492,
                    0.4507684111595154,
                    3.2089149951934814,
                    3.2329559326171875,
                    2.752472400665283,
                    3.570657730102539,
                    3.285693407058716,
                    3.8586132526397705,
                    3.5875043869018555,
                    3.718221664428711,
                    3.272447109222412,
                    2.5988802909851074,
                    2.5291101932525635,
                    2.914696455001831,
                    1.369435429573059,
                    3.1134274005889893,
                    3.0639774799346924,
                    1.7218414545059204,
                    2.753798723220825,
                    1.9506853818893433,
                    3.3451385498046875,
                    3.761812448501587,
                    3.9338276386260986,
                    3.7627274990081787,
                    3.576835870742798,
                    0.8485792279243469,
                    1.1929618120193481,
                    0.9485675096511841
                  ],
                  "yaxis": "y"
                }
              ],
              "layout": {
                "coloraxis": {
                  "colorbar": {
                    "title": {
                      "text": "DBSCAN_Cluster"
                    }
                  },
                  "colorscale": [
                    [
                      0,
                      "#0d0887"
                    ],
                    [
                      0.1111111111111111,
                      "#46039f"
                    ],
                    [
                      0.2222222222222222,
                      "#7201a8"
                    ],
                    [
                      0.3333333333333333,
                      "#9c179e"
                    ],
                    [
                      0.4444444444444444,
                      "#bd3786"
                    ],
                    [
                      0.5555555555555556,
                      "#d8576b"
                    ],
                    [
                      0.6666666666666666,
                      "#ed7953"
                    ],
                    [
                      0.7777777777777778,
                      "#fb9f3a"
                    ],
                    [
                      0.8888888888888888,
                      "#fdca26"
                    ],
                    [
                      1,
                      "#f0f921"
                    ]
                  ]
                },
                "legend": {
                  "tracegroupgap": 0
                },
                "template": {
                  "data": {
                    "bar": [
                      {
                        "error_x": {
                          "color": "#2a3f5f"
                        },
                        "error_y": {
                          "color": "#2a3f5f"
                        },
                        "marker": {
                          "line": {
                            "color": "#E5ECF6",
                            "width": 0.5
                          },
                          "pattern": {
                            "fillmode": "overlay",
                            "size": 10,
                            "solidity": 0.2
                          }
                        },
                        "type": "bar"
                      }
                    ],
                    "barpolar": [
                      {
                        "marker": {
                          "line": {
                            "color": "#E5ECF6",
                            "width": 0.5
                          },
                          "pattern": {
                            "fillmode": "overlay",
                            "size": 10,
                            "solidity": 0.2
                          }
                        },
                        "type": "barpolar"
                      }
                    ],
                    "carpet": [
                      {
                        "aaxis": {
                          "endlinecolor": "#2a3f5f",
                          "gridcolor": "white",
                          "linecolor": "white",
                          "minorgridcolor": "white",
                          "startlinecolor": "#2a3f5f"
                        },
                        "baxis": {
                          "endlinecolor": "#2a3f5f",
                          "gridcolor": "white",
                          "linecolor": "white",
                          "minorgridcolor": "white",
                          "startlinecolor": "#2a3f5f"
                        },
                        "type": "carpet"
                      }
                    ],
                    "choropleth": [
                      {
                        "colorbar": {
                          "outlinewidth": 0,
                          "ticks": ""
                        },
                        "type": "choropleth"
                      }
                    ],
                    "contour": [
                      {
                        "colorbar": {
                          "outlinewidth": 0,
                          "ticks": ""
                        },
                        "colorscale": [
                          [
                            0,
                            "#0d0887"
                          ],
                          [
                            0.1111111111111111,
                            "#46039f"
                          ],
                          [
                            0.2222222222222222,
                            "#7201a8"
                          ],
                          [
                            0.3333333333333333,
                            "#9c179e"
                          ],
                          [
                            0.4444444444444444,
                            "#bd3786"
                          ],
                          [
                            0.5555555555555556,
                            "#d8576b"
                          ],
                          [
                            0.6666666666666666,
                            "#ed7953"
                          ],
                          [
                            0.7777777777777778,
                            "#fb9f3a"
                          ],
                          [
                            0.8888888888888888,
                            "#fdca26"
                          ],
                          [
                            1,
                            "#f0f921"
                          ]
                        ],
                        "type": "contour"
                      }
                    ],
                    "contourcarpet": [
                      {
                        "colorbar": {
                          "outlinewidth": 0,
                          "ticks": ""
                        },
                        "type": "contourcarpet"
                      }
                    ],
                    "heatmap": [
                      {
                        "colorbar": {
                          "outlinewidth": 0,
                          "ticks": ""
                        },
                        "colorscale": [
                          [
                            0,
                            "#0d0887"
                          ],
                          [
                            0.1111111111111111,
                            "#46039f"
                          ],
                          [
                            0.2222222222222222,
                            "#7201a8"
                          ],
                          [
                            0.3333333333333333,
                            "#9c179e"
                          ],
                          [
                            0.4444444444444444,
                            "#bd3786"
                          ],
                          [
                            0.5555555555555556,
                            "#d8576b"
                          ],
                          [
                            0.6666666666666666,
                            "#ed7953"
                          ],
                          [
                            0.7777777777777778,
                            "#fb9f3a"
                          ],
                          [
                            0.8888888888888888,
                            "#fdca26"
                          ],
                          [
                            1,
                            "#f0f921"
                          ]
                        ],
                        "type": "heatmap"
                      }
                    ],
                    "heatmapgl": [
                      {
                        "colorbar": {
                          "outlinewidth": 0,
                          "ticks": ""
                        },
                        "colorscale": [
                          [
                            0,
                            "#0d0887"
                          ],
                          [
                            0.1111111111111111,
                            "#46039f"
                          ],
                          [
                            0.2222222222222222,
                            "#7201a8"
                          ],
                          [
                            0.3333333333333333,
                            "#9c179e"
                          ],
                          [
                            0.4444444444444444,
                            "#bd3786"
                          ],
                          [
                            0.5555555555555556,
                            "#d8576b"
                          ],
                          [
                            0.6666666666666666,
                            "#ed7953"
                          ],
                          [
                            0.7777777777777778,
                            "#fb9f3a"
                          ],
                          [
                            0.8888888888888888,
                            "#fdca26"
                          ],
                          [
                            1,
                            "#f0f921"
                          ]
                        ],
                        "type": "heatmapgl"
                      }
                    ],
                    "histogram": [
                      {
                        "marker": {
                          "pattern": {
                            "fillmode": "overlay",
                            "size": 10,
                            "solidity": 0.2
                          }
                        },
                        "type": "histogram"
                      }
                    ],
                    "histogram2d": [
                      {
                        "colorbar": {
                          "outlinewidth": 0,
                          "ticks": ""
                        },
                        "colorscale": [
                          [
                            0,
                            "#0d0887"
                          ],
                          [
                            0.1111111111111111,
                            "#46039f"
                          ],
                          [
                            0.2222222222222222,
                            "#7201a8"
                          ],
                          [
                            0.3333333333333333,
                            "#9c179e"
                          ],
                          [
                            0.4444444444444444,
                            "#bd3786"
                          ],
                          [
                            0.5555555555555556,
                            "#d8576b"
                          ],
                          [
                            0.6666666666666666,
                            "#ed7953"
                          ],
                          [
                            0.7777777777777778,
                            "#fb9f3a"
                          ],
                          [
                            0.8888888888888888,
                            "#fdca26"
                          ],
                          [
                            1,
                            "#f0f921"
                          ]
                        ],
                        "type": "histogram2d"
                      }
                    ],
                    "histogram2dcontour": [
                      {
                        "colorbar": {
                          "outlinewidth": 0,
                          "ticks": ""
                        },
                        "colorscale": [
                          [
                            0,
                            "#0d0887"
                          ],
                          [
                            0.1111111111111111,
                            "#46039f"
                          ],
                          [
                            0.2222222222222222,
                            "#7201a8"
                          ],
                          [
                            0.3333333333333333,
                            "#9c179e"
                          ],
                          [
                            0.4444444444444444,
                            "#bd3786"
                          ],
                          [
                            0.5555555555555556,
                            "#d8576b"
                          ],
                          [
                            0.6666666666666666,
                            "#ed7953"
                          ],
                          [
                            0.7777777777777778,
                            "#fb9f3a"
                          ],
                          [
                            0.8888888888888888,
                            "#fdca26"
                          ],
                          [
                            1,
                            "#f0f921"
                          ]
                        ],
                        "type": "histogram2dcontour"
                      }
                    ],
                    "mesh3d": [
                      {
                        "colorbar": {
                          "outlinewidth": 0,
                          "ticks": ""
                        },
                        "type": "mesh3d"
                      }
                    ],
                    "parcoords": [
                      {
                        "line": {
                          "colorbar": {
                            "outlinewidth": 0,
                            "ticks": ""
                          }
                        },
                        "type": "parcoords"
                      }
                    ],
                    "pie": [
                      {
                        "automargin": true,
                        "type": "pie"
                      }
                    ],
                    "scatter": [
                      {
                        "fillpattern": {
                          "fillmode": "overlay",
                          "size": 10,
                          "solidity": 0.2
                        },
                        "type": "scatter"
                      }
                    ],
                    "scatter3d": [
                      {
                        "line": {
                          "colorbar": {
                            "outlinewidth": 0,
                            "ticks": ""
                          }
                        },
                        "marker": {
                          "colorbar": {
                            "outlinewidth": 0,
                            "ticks": ""
                          }
                        },
                        "type": "scatter3d"
                      }
                    ],
                    "scattercarpet": [
                      {
                        "marker": {
                          "colorbar": {
                            "outlinewidth": 0,
                            "ticks": ""
                          }
                        },
                        "type": "scattercarpet"
                      }
                    ],
                    "scattergeo": [
                      {
                        "marker": {
                          "colorbar": {
                            "outlinewidth": 0,
                            "ticks": ""
                          }
                        },
                        "type": "scattergeo"
                      }
                    ],
                    "scattergl": [
                      {
                        "marker": {
                          "colorbar": {
                            "outlinewidth": 0,
                            "ticks": ""
                          }
                        },
                        "type": "scattergl"
                      }
                    ],
                    "scattermapbox": [
                      {
                        "marker": {
                          "colorbar": {
                            "outlinewidth": 0,
                            "ticks": ""
                          }
                        },
                        "type": "scattermapbox"
                      }
                    ],
                    "scatterpolar": [
                      {
                        "marker": {
                          "colorbar": {
                            "outlinewidth": 0,
                            "ticks": ""
                          }
                        },
                        "type": "scatterpolar"
                      }
                    ],
                    "scatterpolargl": [
                      {
                        "marker": {
                          "colorbar": {
                            "outlinewidth": 0,
                            "ticks": ""
                          }
                        },
                        "type": "scatterpolargl"
                      }
                    ],
                    "scatterternary": [
                      {
                        "marker": {
                          "colorbar": {
                            "outlinewidth": 0,
                            "ticks": ""
                          }
                        },
                        "type": "scatterternary"
                      }
                    ],
                    "surface": [
                      {
                        "colorbar": {
                          "outlinewidth": 0,
                          "ticks": ""
                        },
                        "colorscale": [
                          [
                            0,
                            "#0d0887"
                          ],
                          [
                            0.1111111111111111,
                            "#46039f"
                          ],
                          [
                            0.2222222222222222,
                            "#7201a8"
                          ],
                          [
                            0.3333333333333333,
                            "#9c179e"
                          ],
                          [
                            0.4444444444444444,
                            "#bd3786"
                          ],
                          [
                            0.5555555555555556,
                            "#d8576b"
                          ],
                          [
                            0.6666666666666666,
                            "#ed7953"
                          ],
                          [
                            0.7777777777777778,
                            "#fb9f3a"
                          ],
                          [
                            0.8888888888888888,
                            "#fdca26"
                          ],
                          [
                            1,
                            "#f0f921"
                          ]
                        ],
                        "type": "surface"
                      }
                    ],
                    "table": [
                      {
                        "cells": {
                          "fill": {
                            "color": "#EBF0F8"
                          },
                          "line": {
                            "color": "white"
                          }
                        },
                        "header": {
                          "fill": {
                            "color": "#C8D4E3"
                          },
                          "line": {
                            "color": "white"
                          }
                        },
                        "type": "table"
                      }
                    ]
                  },
                  "layout": {
                    "annotationdefaults": {
                      "arrowcolor": "#2a3f5f",
                      "arrowhead": 0,
                      "arrowwidth": 1
                    },
                    "autotypenumbers": "strict",
                    "coloraxis": {
                      "colorbar": {
                        "outlinewidth": 0,
                        "ticks": ""
                      }
                    },
                    "colorscale": {
                      "diverging": [
                        [
                          0,
                          "#8e0152"
                        ],
                        [
                          0.1,
                          "#c51b7d"
                        ],
                        [
                          0.2,
                          "#de77ae"
                        ],
                        [
                          0.3,
                          "#f1b6da"
                        ],
                        [
                          0.4,
                          "#fde0ef"
                        ],
                        [
                          0.5,
                          "#f7f7f7"
                        ],
                        [
                          0.6,
                          "#e6f5d0"
                        ],
                        [
                          0.7,
                          "#b8e186"
                        ],
                        [
                          0.8,
                          "#7fbc41"
                        ],
                        [
                          0.9,
                          "#4d9221"
                        ],
                        [
                          1,
                          "#276419"
                        ]
                      ],
                      "sequential": [
                        [
                          0,
                          "#0d0887"
                        ],
                        [
                          0.1111111111111111,
                          "#46039f"
                        ],
                        [
                          0.2222222222222222,
                          "#7201a8"
                        ],
                        [
                          0.3333333333333333,
                          "#9c179e"
                        ],
                        [
                          0.4444444444444444,
                          "#bd3786"
                        ],
                        [
                          0.5555555555555556,
                          "#d8576b"
                        ],
                        [
                          0.6666666666666666,
                          "#ed7953"
                        ],
                        [
                          0.7777777777777778,
                          "#fb9f3a"
                        ],
                        [
                          0.8888888888888888,
                          "#fdca26"
                        ],
                        [
                          1,
                          "#f0f921"
                        ]
                      ],
                      "sequentialminus": [
                        [
                          0,
                          "#0d0887"
                        ],
                        [
                          0.1111111111111111,
                          "#46039f"
                        ],
                        [
                          0.2222222222222222,
                          "#7201a8"
                        ],
                        [
                          0.3333333333333333,
                          "#9c179e"
                        ],
                        [
                          0.4444444444444444,
                          "#bd3786"
                        ],
                        [
                          0.5555555555555556,
                          "#d8576b"
                        ],
                        [
                          0.6666666666666666,
                          "#ed7953"
                        ],
                        [
                          0.7777777777777778,
                          "#fb9f3a"
                        ],
                        [
                          0.8888888888888888,
                          "#fdca26"
                        ],
                        [
                          1,
                          "#f0f921"
                        ]
                      ]
                    },
                    "colorway": [
                      "#636efa",
                      "#EF553B",
                      "#00cc96",
                      "#ab63fa",
                      "#FFA15A",
                      "#19d3f3",
                      "#FF6692",
                      "#B6E880",
                      "#FF97FF",
                      "#FECB52"
                    ],
                    "font": {
                      "color": "#2a3f5f"
                    },
                    "geo": {
                      "bgcolor": "white",
                      "lakecolor": "white",
                      "landcolor": "#E5ECF6",
                      "showlakes": true,
                      "showland": true,
                      "subunitcolor": "white"
                    },
                    "hoverlabel": {
                      "align": "left"
                    },
                    "hovermode": "closest",
                    "mapbox": {
                      "style": "light"
                    },
                    "paper_bgcolor": "white",
                    "plot_bgcolor": "#E5ECF6",
                    "polar": {
                      "angularaxis": {
                        "gridcolor": "white",
                        "linecolor": "white",
                        "ticks": ""
                      },
                      "bgcolor": "#E5ECF6",
                      "radialaxis": {
                        "gridcolor": "white",
                        "linecolor": "white",
                        "ticks": ""
                      }
                    },
                    "scene": {
                      "xaxis": {
                        "backgroundcolor": "#E5ECF6",
                        "gridcolor": "white",
                        "gridwidth": 2,
                        "linecolor": "white",
                        "showbackground": true,
                        "ticks": "",
                        "zerolinecolor": "white"
                      },
                      "yaxis": {
                        "backgroundcolor": "#E5ECF6",
                        "gridcolor": "white",
                        "gridwidth": 2,
                        "linecolor": "white",
                        "showbackground": true,
                        "ticks": "",
                        "zerolinecolor": "white"
                      },
                      "zaxis": {
                        "backgroundcolor": "#E5ECF6",
                        "gridcolor": "white",
                        "gridwidth": 2,
                        "linecolor": "white",
                        "showbackground": true,
                        "ticks": "",
                        "zerolinecolor": "white"
                      }
                    },
                    "shapedefaults": {
                      "line": {
                        "color": "#2a3f5f"
                      }
                    },
                    "ternary": {
                      "aaxis": {
                        "gridcolor": "white",
                        "linecolor": "white",
                        "ticks": ""
                      },
                      "baxis": {
                        "gridcolor": "white",
                        "linecolor": "white",
                        "ticks": ""
                      },
                      "bgcolor": "#E5ECF6",
                      "caxis": {
                        "gridcolor": "white",
                        "linecolor": "white",
                        "ticks": ""
                      }
                    },
                    "title": {
                      "x": 0.05
                    },
                    "xaxis": {
                      "automargin": true,
                      "gridcolor": "white",
                      "linecolor": "white",
                      "ticks": "",
                      "title": {
                        "standoff": 15
                      },
                      "zerolinecolor": "white",
                      "zerolinewidth": 2
                    },
                    "yaxis": {
                      "automargin": true,
                      "gridcolor": "white",
                      "linecolor": "white",
                      "ticks": "",
                      "title": {
                        "standoff": 15
                      },
                      "zerolinecolor": "white",
                      "zerolinewidth": 2
                    }
                  }
                },
                "title": {
                  "text": "UMAP Projection (DBSCAN Clusters)"
                },
                "xaxis": {
                  "anchor": "y",
                  "domain": [
                    0,
                    1
                  ],
                  "title": {
                    "text": "UMAP_1"
                  }
                },
                "yaxis": {
                  "anchor": "x",
                  "domain": [
                    0,
                    1
                  ],
                  "title": {
                    "text": "UMAP_2"
                  }
                }
              }
            }
          },
          "metadata": {},
          "output_type": "display_data"
        },
        {
          "data": {
            "application/vnd.plotly.v1+json": {
              "config": {
                "plotlyServerURL": "https://plot.ly"
              },
              "data": [
                {
                  "customdata": [
                    [
                      1,
                      "203"
                    ],
                    [
                      2,
                      "203"
                    ],
                    [
                      3,
                      "203"
                    ],
                    [
                      4,
                      "203"
                    ],
                    [
                      5,
                      "203"
                    ],
                    [
                      6,
                      "203"
                    ],
                    [
                      7,
                      "203"
                    ],
                    [
                      8,
                      "203"
                    ],
                    [
                      9,
                      "203"
                    ],
                    [
                      10,
                      "203"
                    ],
                    [
                      11,
                      "203"
                    ],
                    [
                      12,
                      "203"
                    ],
                    [
                      13,
                      "203"
                    ],
                    [
                      14,
                      "203"
                    ],
                    [
                      15,
                      "203"
                    ],
                    [
                      16,
                      "203"
                    ],
                    [
                      17,
                      "203"
                    ],
                    [
                      18,
                      "203"
                    ],
                    [
                      19,
                      "203"
                    ],
                    [
                      20,
                      "203"
                    ],
                    [
                      21,
                      "203"
                    ],
                    [
                      22,
                      "203"
                    ],
                    [
                      23,
                      "203"
                    ],
                    [
                      24,
                      "203"
                    ],
                    [
                      25,
                      "203"
                    ],
                    [
                      26,
                      "203"
                    ],
                    [
                      27,
                      "203"
                    ],
                    [
                      28,
                      "203"
                    ],
                    [
                      29,
                      "203"
                    ],
                    [
                      30,
                      "204"
                    ],
                    [
                      31,
                      "204"
                    ],
                    [
                      32,
                      "204"
                    ],
                    [
                      33,
                      "204"
                    ],
                    [
                      34,
                      "204"
                    ],
                    [
                      35,
                      "204"
                    ],
                    [
                      36,
                      "204"
                    ],
                    [
                      37,
                      "204"
                    ],
                    [
                      38,
                      "204"
                    ],
                    [
                      39,
                      "204"
                    ],
                    [
                      40,
                      "204"
                    ],
                    [
                      41,
                      "204"
                    ],
                    [
                      42,
                      "204"
                    ],
                    [
                      43,
                      "204"
                    ],
                    [
                      44,
                      "204"
                    ],
                    [
                      45,
                      "204"
                    ],
                    [
                      46,
                      "204"
                    ],
                    [
                      47,
                      "204"
                    ],
                    [
                      48,
                      "204"
                    ],
                    [
                      49,
                      "204"
                    ],
                    [
                      50,
                      "204"
                    ],
                    [
                      51,
                      "204"
                    ],
                    [
                      52,
                      "204"
                    ],
                    [
                      53,
                      "Outside"
                    ],
                    [
                      54,
                      "Outside"
                    ],
                    [
                      55,
                      "Outside"
                    ]
                  ],
                  "hovertemplate": "tSNE_1=%{x}<br>tSNE_2=%{y}<br>entryId=%{customdata[0]}<br>roomNo=%{customdata[1]}<br>DBSCAN_Cluster=%{marker.color}<extra></extra>",
                  "legendgroup": "",
                  "marker": {
                    "color": [
                      0,
                      0,
                      1,
                      0,
                      0,
                      0,
                      0,
                      0,
                      0,
                      0,
                      1,
                      0,
                      0,
                      0,
                      0,
                      0,
                      0,
                      0,
                      0,
                      0,
                      0,
                      0,
                      0,
                      0,
                      2,
                      1,
                      2,
                      0,
                      0,
                      0,
                      0,
                      2,
                      0,
                      0,
                      0,
                      0,
                      2,
                      0,
                      0,
                      2,
                      0,
                      2,
                      0,
                      0,
                      0,
                      2,
                      0,
                      2,
                      0,
                      2,
                      0,
                      0,
                      0,
                      0,
                      2
                    ],
                    "coloraxis": "coloraxis",
                    "symbol": "circle"
                  },
                  "mode": "markers",
                  "name": "",
                  "orientation": "v",
                  "showlegend": false,
                  "type": "scatter",
                  "x": [
                    21.610471725463867,
                    26.8509578704834,
                    39.19892501831055,
                    21.888328552246094,
                    27.094873428344727,
                    12.654875755310059,
                    23.699129104614258,
                    22.391223907470703,
                    19.873136520385742,
                    19.79899024963379,
                    36.87477493286133,
                    7.938395977020264,
                    24.45916175842285,
                    9.907477378845215,
                    19.661375045776367,
                    16.263301849365234,
                    28.991430282592773,
                    29.24930763244629,
                    9.896224975585938,
                    -2.1931042671203613,
                    2.5848827362060547,
                    6.445431709289551,
                    0.03832947462797165,
                    16.98736000061035,
                    32.253353118896484,
                    36.13496780395508,
                    1.2711622714996338,
                    0.10528334975242615,
                    9.4105863571167,
                    -15.39244556427002,
                    -31.834735870361328,
                    -30.89188003540039,
                    -33.89338302612305,
                    -16.872737884521484,
                    -18.13303565979004,
                    -22.434545516967773,
                    -45.619808197021484,
                    -42.78266906738281,
                    -18.96457290649414,
                    -4.331343173980713,
                    -22.51653480529785,
                    14.141656875610352,
                    -38.79025650024414,
                    -12.37332534790039,
                    3.8286116123199463,
                    -43.99649429321289,
                    -17.22732925415039,
                    -26.239803314208984,
                    -24.040313720703125,
                    -41.13957595825195,
                    -31.039335250854492,
                    -41.581546783447266,
                    7.3868560791015625,
                    6.329433441162109,
                    15.223271369934082
                  ],
                  "xaxis": "x",
                  "y": [
                    -2.398491382598877,
                    -11.51152229309082,
                    19.72939109802246,
                    7.613289833068848,
                    12.771308898925781,
                    4.168270587921143,
                    -1.3051751852035522,
                    -11.399542808532715,
                    10.437447547912598,
                    5.329017639160156,
                    19.981250762939453,
                    9.268411636352539,
                    7.92479133605957,
                    10.589700698852539,
                    -6.641295909881592,
                    4.6225080490112305,
                    9.271995544433594,
                    -10.683351516723633,
                    -16.811607360839844,
                    15.643342971801758,
                    7.881393909454346,
                    -14.597253799438477,
                    7.649326801300049,
                    -7.914125919342041,
                    15.955044746398926,
                    22.93146514892578,
                    17.689651489257812,
                    12.80224323272705,
                    2.4934403896331787,
                    -10.77747631072998,
                    -16.428129196166992,
                    -20.237838745117188,
                    -14.477165222167969,
                    -7.423893451690674,
                    -14.139518737792969,
                    -8.024531364440918,
                    -11.166010856628418,
                    -16.42267608642578,
                    -2.5064480304718018,
                    4.884734153747559,
                    -4.549614906311035,
                    21.018409729003906,
                    -13.975106239318848,
                    -7.668260097503662,
                    -18.65655517578125,
                    -19.77008056640625,
                    0.15777172148227692,
                    -2.695251226425171,
                    -10.021427154541016,
                    -8.811625480651855,
                    -12.226068496704102,
                    -12.808438301086426,
                    -22.57575225830078,
                    -19.852310180664062,
                    17.652639389038086
                  ],
                  "yaxis": "y"
                }
              ],
              "layout": {
                "coloraxis": {
                  "colorbar": {
                    "title": {
                      "text": "DBSCAN_Cluster"
                    }
                  },
                  "colorscale": [
                    [
                      0,
                      "#0d0887"
                    ],
                    [
                      0.1111111111111111,
                      "#46039f"
                    ],
                    [
                      0.2222222222222222,
                      "#7201a8"
                    ],
                    [
                      0.3333333333333333,
                      "#9c179e"
                    ],
                    [
                      0.4444444444444444,
                      "#bd3786"
                    ],
                    [
                      0.5555555555555556,
                      "#d8576b"
                    ],
                    [
                      0.6666666666666666,
                      "#ed7953"
                    ],
                    [
                      0.7777777777777778,
                      "#fb9f3a"
                    ],
                    [
                      0.8888888888888888,
                      "#fdca26"
                    ],
                    [
                      1,
                      "#f0f921"
                    ]
                  ]
                },
                "legend": {
                  "tracegroupgap": 0
                },
                "template": {
                  "data": {
                    "bar": [
                      {
                        "error_x": {
                          "color": "#2a3f5f"
                        },
                        "error_y": {
                          "color": "#2a3f5f"
                        },
                        "marker": {
                          "line": {
                            "color": "#E5ECF6",
                            "width": 0.5
                          },
                          "pattern": {
                            "fillmode": "overlay",
                            "size": 10,
                            "solidity": 0.2
                          }
                        },
                        "type": "bar"
                      }
                    ],
                    "barpolar": [
                      {
                        "marker": {
                          "line": {
                            "color": "#E5ECF6",
                            "width": 0.5
                          },
                          "pattern": {
                            "fillmode": "overlay",
                            "size": 10,
                            "solidity": 0.2
                          }
                        },
                        "type": "barpolar"
                      }
                    ],
                    "carpet": [
                      {
                        "aaxis": {
                          "endlinecolor": "#2a3f5f",
                          "gridcolor": "white",
                          "linecolor": "white",
                          "minorgridcolor": "white",
                          "startlinecolor": "#2a3f5f"
                        },
                        "baxis": {
                          "endlinecolor": "#2a3f5f",
                          "gridcolor": "white",
                          "linecolor": "white",
                          "minorgridcolor": "white",
                          "startlinecolor": "#2a3f5f"
                        },
                        "type": "carpet"
                      }
                    ],
                    "choropleth": [
                      {
                        "colorbar": {
                          "outlinewidth": 0,
                          "ticks": ""
                        },
                        "type": "choropleth"
                      }
                    ],
                    "contour": [
                      {
                        "colorbar": {
                          "outlinewidth": 0,
                          "ticks": ""
                        },
                        "colorscale": [
                          [
                            0,
                            "#0d0887"
                          ],
                          [
                            0.1111111111111111,
                            "#46039f"
                          ],
                          [
                            0.2222222222222222,
                            "#7201a8"
                          ],
                          [
                            0.3333333333333333,
                            "#9c179e"
                          ],
                          [
                            0.4444444444444444,
                            "#bd3786"
                          ],
                          [
                            0.5555555555555556,
                            "#d8576b"
                          ],
                          [
                            0.6666666666666666,
                            "#ed7953"
                          ],
                          [
                            0.7777777777777778,
                            "#fb9f3a"
                          ],
                          [
                            0.8888888888888888,
                            "#fdca26"
                          ],
                          [
                            1,
                            "#f0f921"
                          ]
                        ],
                        "type": "contour"
                      }
                    ],
                    "contourcarpet": [
                      {
                        "colorbar": {
                          "outlinewidth": 0,
                          "ticks": ""
                        },
                        "type": "contourcarpet"
                      }
                    ],
                    "heatmap": [
                      {
                        "colorbar": {
                          "outlinewidth": 0,
                          "ticks": ""
                        },
                        "colorscale": [
                          [
                            0,
                            "#0d0887"
                          ],
                          [
                            0.1111111111111111,
                            "#46039f"
                          ],
                          [
                            0.2222222222222222,
                            "#7201a8"
                          ],
                          [
                            0.3333333333333333,
                            "#9c179e"
                          ],
                          [
                            0.4444444444444444,
                            "#bd3786"
                          ],
                          [
                            0.5555555555555556,
                            "#d8576b"
                          ],
                          [
                            0.6666666666666666,
                            "#ed7953"
                          ],
                          [
                            0.7777777777777778,
                            "#fb9f3a"
                          ],
                          [
                            0.8888888888888888,
                            "#fdca26"
                          ],
                          [
                            1,
                            "#f0f921"
                          ]
                        ],
                        "type": "heatmap"
                      }
                    ],
                    "heatmapgl": [
                      {
                        "colorbar": {
                          "outlinewidth": 0,
                          "ticks": ""
                        },
                        "colorscale": [
                          [
                            0,
                            "#0d0887"
                          ],
                          [
                            0.1111111111111111,
                            "#46039f"
                          ],
                          [
                            0.2222222222222222,
                            "#7201a8"
                          ],
                          [
                            0.3333333333333333,
                            "#9c179e"
                          ],
                          [
                            0.4444444444444444,
                            "#bd3786"
                          ],
                          [
                            0.5555555555555556,
                            "#d8576b"
                          ],
                          [
                            0.6666666666666666,
                            "#ed7953"
                          ],
                          [
                            0.7777777777777778,
                            "#fb9f3a"
                          ],
                          [
                            0.8888888888888888,
                            "#fdca26"
                          ],
                          [
                            1,
                            "#f0f921"
                          ]
                        ],
                        "type": "heatmapgl"
                      }
                    ],
                    "histogram": [
                      {
                        "marker": {
                          "pattern": {
                            "fillmode": "overlay",
                            "size": 10,
                            "solidity": 0.2
                          }
                        },
                        "type": "histogram"
                      }
                    ],
                    "histogram2d": [
                      {
                        "colorbar": {
                          "outlinewidth": 0,
                          "ticks": ""
                        },
                        "colorscale": [
                          [
                            0,
                            "#0d0887"
                          ],
                          [
                            0.1111111111111111,
                            "#46039f"
                          ],
                          [
                            0.2222222222222222,
                            "#7201a8"
                          ],
                          [
                            0.3333333333333333,
                            "#9c179e"
                          ],
                          [
                            0.4444444444444444,
                            "#bd3786"
                          ],
                          [
                            0.5555555555555556,
                            "#d8576b"
                          ],
                          [
                            0.6666666666666666,
                            "#ed7953"
                          ],
                          [
                            0.7777777777777778,
                            "#fb9f3a"
                          ],
                          [
                            0.8888888888888888,
                            "#fdca26"
                          ],
                          [
                            1,
                            "#f0f921"
                          ]
                        ],
                        "type": "histogram2d"
                      }
                    ],
                    "histogram2dcontour": [
                      {
                        "colorbar": {
                          "outlinewidth": 0,
                          "ticks": ""
                        },
                        "colorscale": [
                          [
                            0,
                            "#0d0887"
                          ],
                          [
                            0.1111111111111111,
                            "#46039f"
                          ],
                          [
                            0.2222222222222222,
                            "#7201a8"
                          ],
                          [
                            0.3333333333333333,
                            "#9c179e"
                          ],
                          [
                            0.4444444444444444,
                            "#bd3786"
                          ],
                          [
                            0.5555555555555556,
                            "#d8576b"
                          ],
                          [
                            0.6666666666666666,
                            "#ed7953"
                          ],
                          [
                            0.7777777777777778,
                            "#fb9f3a"
                          ],
                          [
                            0.8888888888888888,
                            "#fdca26"
                          ],
                          [
                            1,
                            "#f0f921"
                          ]
                        ],
                        "type": "histogram2dcontour"
                      }
                    ],
                    "mesh3d": [
                      {
                        "colorbar": {
                          "outlinewidth": 0,
                          "ticks": ""
                        },
                        "type": "mesh3d"
                      }
                    ],
                    "parcoords": [
                      {
                        "line": {
                          "colorbar": {
                            "outlinewidth": 0,
                            "ticks": ""
                          }
                        },
                        "type": "parcoords"
                      }
                    ],
                    "pie": [
                      {
                        "automargin": true,
                        "type": "pie"
                      }
                    ],
                    "scatter": [
                      {
                        "fillpattern": {
                          "fillmode": "overlay",
                          "size": 10,
                          "solidity": 0.2
                        },
                        "type": "scatter"
                      }
                    ],
                    "scatter3d": [
                      {
                        "line": {
                          "colorbar": {
                            "outlinewidth": 0,
                            "ticks": ""
                          }
                        },
                        "marker": {
                          "colorbar": {
                            "outlinewidth": 0,
                            "ticks": ""
                          }
                        },
                        "type": "scatter3d"
                      }
                    ],
                    "scattercarpet": [
                      {
                        "marker": {
                          "colorbar": {
                            "outlinewidth": 0,
                            "ticks": ""
                          }
                        },
                        "type": "scattercarpet"
                      }
                    ],
                    "scattergeo": [
                      {
                        "marker": {
                          "colorbar": {
                            "outlinewidth": 0,
                            "ticks": ""
                          }
                        },
                        "type": "scattergeo"
                      }
                    ],
                    "scattergl": [
                      {
                        "marker": {
                          "colorbar": {
                            "outlinewidth": 0,
                            "ticks": ""
                          }
                        },
                        "type": "scattergl"
                      }
                    ],
                    "scattermapbox": [
                      {
                        "marker": {
                          "colorbar": {
                            "outlinewidth": 0,
                            "ticks": ""
                          }
                        },
                        "type": "scattermapbox"
                      }
                    ],
                    "scatterpolar": [
                      {
                        "marker": {
                          "colorbar": {
                            "outlinewidth": 0,
                            "ticks": ""
                          }
                        },
                        "type": "scatterpolar"
                      }
                    ],
                    "scatterpolargl": [
                      {
                        "marker": {
                          "colorbar": {
                            "outlinewidth": 0,
                            "ticks": ""
                          }
                        },
                        "type": "scatterpolargl"
                      }
                    ],
                    "scatterternary": [
                      {
                        "marker": {
                          "colorbar": {
                            "outlinewidth": 0,
                            "ticks": ""
                          }
                        },
                        "type": "scatterternary"
                      }
                    ],
                    "surface": [
                      {
                        "colorbar": {
                          "outlinewidth": 0,
                          "ticks": ""
                        },
                        "colorscale": [
                          [
                            0,
                            "#0d0887"
                          ],
                          [
                            0.1111111111111111,
                            "#46039f"
                          ],
                          [
                            0.2222222222222222,
                            "#7201a8"
                          ],
                          [
                            0.3333333333333333,
                            "#9c179e"
                          ],
                          [
                            0.4444444444444444,
                            "#bd3786"
                          ],
                          [
                            0.5555555555555556,
                            "#d8576b"
                          ],
                          [
                            0.6666666666666666,
                            "#ed7953"
                          ],
                          [
                            0.7777777777777778,
                            "#fb9f3a"
                          ],
                          [
                            0.8888888888888888,
                            "#fdca26"
                          ],
                          [
                            1,
                            "#f0f921"
                          ]
                        ],
                        "type": "surface"
                      }
                    ],
                    "table": [
                      {
                        "cells": {
                          "fill": {
                            "color": "#EBF0F8"
                          },
                          "line": {
                            "color": "white"
                          }
                        },
                        "header": {
                          "fill": {
                            "color": "#C8D4E3"
                          },
                          "line": {
                            "color": "white"
                          }
                        },
                        "type": "table"
                      }
                    ]
                  },
                  "layout": {
                    "annotationdefaults": {
                      "arrowcolor": "#2a3f5f",
                      "arrowhead": 0,
                      "arrowwidth": 1
                    },
                    "autotypenumbers": "strict",
                    "coloraxis": {
                      "colorbar": {
                        "outlinewidth": 0,
                        "ticks": ""
                      }
                    },
                    "colorscale": {
                      "diverging": [
                        [
                          0,
                          "#8e0152"
                        ],
                        [
                          0.1,
                          "#c51b7d"
                        ],
                        [
                          0.2,
                          "#de77ae"
                        ],
                        [
                          0.3,
                          "#f1b6da"
                        ],
                        [
                          0.4,
                          "#fde0ef"
                        ],
                        [
                          0.5,
                          "#f7f7f7"
                        ],
                        [
                          0.6,
                          "#e6f5d0"
                        ],
                        [
                          0.7,
                          "#b8e186"
                        ],
                        [
                          0.8,
                          "#7fbc41"
                        ],
                        [
                          0.9,
                          "#4d9221"
                        ],
                        [
                          1,
                          "#276419"
                        ]
                      ],
                      "sequential": [
                        [
                          0,
                          "#0d0887"
                        ],
                        [
                          0.1111111111111111,
                          "#46039f"
                        ],
                        [
                          0.2222222222222222,
                          "#7201a8"
                        ],
                        [
                          0.3333333333333333,
                          "#9c179e"
                        ],
                        [
                          0.4444444444444444,
                          "#bd3786"
                        ],
                        [
                          0.5555555555555556,
                          "#d8576b"
                        ],
                        [
                          0.6666666666666666,
                          "#ed7953"
                        ],
                        [
                          0.7777777777777778,
                          "#fb9f3a"
                        ],
                        [
                          0.8888888888888888,
                          "#fdca26"
                        ],
                        [
                          1,
                          "#f0f921"
                        ]
                      ],
                      "sequentialminus": [
                        [
                          0,
                          "#0d0887"
                        ],
                        [
                          0.1111111111111111,
                          "#46039f"
                        ],
                        [
                          0.2222222222222222,
                          "#7201a8"
                        ],
                        [
                          0.3333333333333333,
                          "#9c179e"
                        ],
                        [
                          0.4444444444444444,
                          "#bd3786"
                        ],
                        [
                          0.5555555555555556,
                          "#d8576b"
                        ],
                        [
                          0.6666666666666666,
                          "#ed7953"
                        ],
                        [
                          0.7777777777777778,
                          "#fb9f3a"
                        ],
                        [
                          0.8888888888888888,
                          "#fdca26"
                        ],
                        [
                          1,
                          "#f0f921"
                        ]
                      ]
                    },
                    "colorway": [
                      "#636efa",
                      "#EF553B",
                      "#00cc96",
                      "#ab63fa",
                      "#FFA15A",
                      "#19d3f3",
                      "#FF6692",
                      "#B6E880",
                      "#FF97FF",
                      "#FECB52"
                    ],
                    "font": {
                      "color": "#2a3f5f"
                    },
                    "geo": {
                      "bgcolor": "white",
                      "lakecolor": "white",
                      "landcolor": "#E5ECF6",
                      "showlakes": true,
                      "showland": true,
                      "subunitcolor": "white"
                    },
                    "hoverlabel": {
                      "align": "left"
                    },
                    "hovermode": "closest",
                    "mapbox": {
                      "style": "light"
                    },
                    "paper_bgcolor": "white",
                    "plot_bgcolor": "#E5ECF6",
                    "polar": {
                      "angularaxis": {
                        "gridcolor": "white",
                        "linecolor": "white",
                        "ticks": ""
                      },
                      "bgcolor": "#E5ECF6",
                      "radialaxis": {
                        "gridcolor": "white",
                        "linecolor": "white",
                        "ticks": ""
                      }
                    },
                    "scene": {
                      "xaxis": {
                        "backgroundcolor": "#E5ECF6",
                        "gridcolor": "white",
                        "gridwidth": 2,
                        "linecolor": "white",
                        "showbackground": true,
                        "ticks": "",
                        "zerolinecolor": "white"
                      },
                      "yaxis": {
                        "backgroundcolor": "#E5ECF6",
                        "gridcolor": "white",
                        "gridwidth": 2,
                        "linecolor": "white",
                        "showbackground": true,
                        "ticks": "",
                        "zerolinecolor": "white"
                      },
                      "zaxis": {
                        "backgroundcolor": "#E5ECF6",
                        "gridcolor": "white",
                        "gridwidth": 2,
                        "linecolor": "white",
                        "showbackground": true,
                        "ticks": "",
                        "zerolinecolor": "white"
                      }
                    },
                    "shapedefaults": {
                      "line": {
                        "color": "#2a3f5f"
                      }
                    },
                    "ternary": {
                      "aaxis": {
                        "gridcolor": "white",
                        "linecolor": "white",
                        "ticks": ""
                      },
                      "baxis": {
                        "gridcolor": "white",
                        "linecolor": "white",
                        "ticks": ""
                      },
                      "bgcolor": "#E5ECF6",
                      "caxis": {
                        "gridcolor": "white",
                        "linecolor": "white",
                        "ticks": ""
                      }
                    },
                    "title": {
                      "x": 0.05
                    },
                    "xaxis": {
                      "automargin": true,
                      "gridcolor": "white",
                      "linecolor": "white",
                      "ticks": "",
                      "title": {
                        "standoff": 15
                      },
                      "zerolinecolor": "white",
                      "zerolinewidth": 2
                    },
                    "yaxis": {
                      "automargin": true,
                      "gridcolor": "white",
                      "linecolor": "white",
                      "ticks": "",
                      "title": {
                        "standoff": 15
                      },
                      "zerolinecolor": "white",
                      "zerolinewidth": 2
                    }
                  }
                },
                "title": {
                  "text": "t-SNE Projection (DBSCAN Clusters)"
                },
                "xaxis": {
                  "anchor": "y",
                  "domain": [
                    0,
                    1
                  ],
                  "title": {
                    "text": "tSNE_1"
                  }
                },
                "yaxis": {
                  "anchor": "x",
                  "domain": [
                    0,
                    1
                  ],
                  "title": {
                    "text": "tSNE_2"
                  }
                }
              }
            }
          },
          "metadata": {},
          "output_type": "display_data"
        }
      ],
      "source": [
        "import pandas as pd\n",
        "import numpy as np\n",
        "import plotly.express as px\n",
        "from sklearn.preprocessing import StandardScaler\n",
        "from sklearn.cluster import DBSCAN\n",
        "from sklearn.manifold import TSNE\n",
        "from umap import UMAP\n",
        "\n",
        "# Load your data\n",
        "data = pd.read_csv(folder + \"matrix.csv\")\n",
        "\n",
        "# Extract features (columns starting from the 3rd)\n",
        "features = data.iloc[:, 2:].values\n",
        "\n",
        "# Normalize features\n",
        "scaler = StandardScaler()\n",
        "features_scaled = scaler.fit_transform(features)\n",
        "\n",
        "# Perform DBSCAN clustering with adjusted parameters to ensure clustering\n",
        "dbscan = DBSCAN(eps=4.6, min_samples=2)  # Adjust parameters as needed\n",
        "dbscan_labels = dbscan.fit_predict(features_scaled)\n",
        "\n",
        "# Assign new labels to clusters if DBSCAN identifies any outliers (-1)\n",
        "unique_labels = set(dbscan_labels)\n",
        "if -1 in unique_labels:\n",
        "    dbscan_labels = np.where(dbscan_labels == -1, max(unique_labels) + 1, dbscan_labels)\n",
        "\n",
        "# Add DBSCAN labels to the DataFrame\n",
        "data['DBSCAN_Cluster'] = dbscan_labels\n",
        "\n",
        "# Generate UMAP embeddings\n",
        "umap_reducer = UMAP(random_state=42)\n",
        "umap_embedding = umap_reducer.fit_transform(features_scaled)\n",
        "\n",
        "# Generate t-SNE embeddings\n",
        "tsne = TSNE(n_components=2, random_state=42, perplexity=5)\n",
        "tsne_embedding = tsne.fit_transform(features_scaled)\n",
        "\n",
        "# Add embeddings to the DataFrame\n",
        "data['UMAP_1'] = umap_embedding[:, 0]\n",
        "data['UMAP_2'] = umap_embedding[:, 1]\n",
        "data['tSNE_1'] = tsne_embedding[:, 0]\n",
        "data['tSNE_2'] = tsne_embedding[:, 1]\n",
        "\n",
        "# Define color mapping for DBSCAN clusters\n",
        "dbscan_palette = {label: plt.cm.tab20(i / len(unique_labels)) for i, label in enumerate(unique_labels)}\n",
        "\n",
        "# Plot with Plotly\n",
        "# Original labels in UMAP and t-SNE\n",
        "fig_umap_original = px.scatter(\n",
        "    data,\n",
        "    x=\"UMAP_1\",\n",
        "    y=\"UMAP_2\",\n",
        "    color=\"roomNo\",\n",
        "    hover_data=data.columns[0:2],\n",
        "    title=\"UMAP Projection (Original Labels)\",\n",
        "    color_discrete_map={\n",
        "        '203': 'red',\n",
        "        '204': 'green',\n",
        "        'Outside': 'blue',\n",
        "        '203unk': 'yellow',\n",
        "        '204unk': 'purple',\n",
        "        '205unk': 'black'\n",
        "    }\n",
        ")\n",
        "\n",
        "fig_tsne_original = px.scatter(\n",
        "    data,\n",
        "    x=\"tSNE_1\",\n",
        "    y=\"tSNE_2\",\n",
        "    color=\"roomNo\",\n",
        "    hover_data=data.columns[0:2],\n",
        "    title=\"t-SNE Projection (Original Labels)\",\n",
        "    color_discrete_map={\n",
        "        '203': 'red',\n",
        "        '204': 'green',\n",
        "        'Outside': 'blue',\n",
        "        '203unk': 'yellow',\n",
        "        '204unk': 'purple',\n",
        "        '205unk': 'black'\n",
        "    }\n",
        ")\n",
        "\n",
        "# DBSCAN clusters in UMAP and t-SNE\n",
        "fig_umap_dbscan = px.scatter(\n",
        "    data,\n",
        "    x=\"UMAP_1\",\n",
        "    y=\"UMAP_2\",\n",
        "    color=\"DBSCAN_Cluster\",\n",
        "    hover_data=data.columns[0:2],\n",
        "    title=\"UMAP Projection (DBSCAN Clusters)\",\n",
        "    color_discrete_sequence=px.colors.qualitative.Plotly\n",
        ")\n",
        "\n",
        "fig_tsne_dbscan = px.scatter(\n",
        "    data,\n",
        "    x=\"tSNE_1\",\n",
        "    y=\"tSNE_2\",\n",
        "    color=\"DBSCAN_Cluster\",\n",
        "    hover_data=data.columns[0:2],\n",
        "    title=\"t-SNE Projection (DBSCAN Clusters)\",\n",
        "    color_discrete_sequence=px.colors.qualitative.Plotly\n",
        ")\n",
        "\n",
        "# Display all plots\n",
        "fig_umap_original.show()\n",
        "fig_tsne_original.show()\n",
        "fig_umap_dbscan.show()\n",
        "fig_tsne_dbscan.show()\n"
      ]
    },
    {
      "cell_type": "code",
      "execution_count": null,
      "metadata": {},
      "outputs": [
        {
          "name": "stdout",
          "output_type": "stream",
          "text": [
            "[[7.28586658 7.48196731 7.61132051]\n",
            " [4.70196189 6.3136011  6.41882474]\n",
            " [7.10914004 7.30195916 7.30721943]]\n",
            "[[24.75089015 25.0131841  28.65699131]\n",
            " [16.35597698 19.73792649 22.47613989]\n",
            " [21.92150822 24.84402544 24.84916104]]\n",
            "\n",
            "Euclidean Distance Statistics:\n",
            "Min Distance: [2.3368427322285474, 2.471599042993295, 3.153819078036211]\n",
            "Max Distance: [7.282711013276116, 7.4934360784477105, 7.709076937675937]\n",
            "Avg Distance per Neighbor: [4.050095605647108, 4.582746490839594, 4.907649654237927]\n",
            "Std Dev per Neighbor: [1.2491990383380775, 1.1350728189340422, 1.1090465225838795]\n",
            "Overall Avg Distance: 4.513497250241543\n",
            "Overall Std Dev: 1.2184368934602792\n",
            "Outside Top 3 Avg: [6.365656169546344, 7.032509191102476, 7.1124548954467635]\n",
            "Outside Top 3 Std Dev: [1.1786198283567524, 0.5136291548905464, 0.5059390369880584]\n",
            "\n",
            "Manhattan Distance Statistics:\n",
            "Min Distance: [4.667947123583938, 6.926036753433702, 9.481114323898872]\n",
            "Max Distance: [21.768358898033217, 23.24982930014012, 26.327180365540077]\n",
            "Avg Distance per Neighbor: [11.691180657852442, 13.54724289638602, 14.650022711698437]\n",
            "Std Dev per Neighbor: [4.468114716742872, 3.925516481681677, 3.798208414195591]\n",
            "Overall Avg Distance: 13.2961487553123\n",
            "Overall Std Dev: 4.253314843700187\n",
            "Outside Top 3 Avg: [21.009458450580283, 23.198378674997922, 25.32743074690684]\n",
            "Outside Top 3 Std Dev: [3.487359829912004, 2.4478835298322847, 2.545883933911924]\n"
          ]
        }
      ],
      "source": [
        "import numpy as np\n",
        "import pandas as pd\n",
        "from scipy.spatial.distance import cdist\n",
        "\n",
        "# Load your data\n",
        "data = pd.read_csv(folder + \"matrix.csv\")\n",
        "\n",
        "# Separate data based on labels\n",
        "data_203 = data[data['roomNo'] == '203'].iloc[:, 2:].values  # Only features for '203'\n",
        "data_outside = data[data['roomNo'] == 'Outside'].iloc[:, 2:].values  # Only features for 'Outside'\n",
        "\n",
        "# Scale the data\n",
        "scaler = StandardScaler()\n",
        "data_203 = scaler.fit_transform(data_203)\n",
        "data_outside = scaler.transform(data_outside)\n",
        "\n",
        "# Calculate pairwise distances within '203' data\n",
        "euclidean_distances_203 = cdist(data_203, data_203, metric='euclidean')\n",
        "manhattan_distances_203 = cdist(data_203, data_203, metric='cityblock')\n",
        "\n",
        "# For each point, find the top 3 nearest neighbors (excluding itself)\n",
        "k = 3\n",
        "euclidean_neighbors = np.sort(euclidean_distances_203, axis=1)[:, 1:k+1]  # Exclude self-distance\n",
        "manhattan_neighbors = np.sort(manhattan_distances_203, axis=1)[:, 1:k+1]\n",
        "\n",
        "# Calculate statistics for Euclidean distances within '203'\n",
        "euclidean_avg = np.mean(euclidean_neighbors, axis=0)\n",
        "euclidean_std = np.std(euclidean_neighbors, axis=0)\n",
        "euclidean_avg_overall = np.mean(euclidean_neighbors)\n",
        "euclidean_std_overall = np.std(euclidean_neighbors)\n",
        "\n",
        "# Calculate statistics for Manhattan distances within '203'\n",
        "manhattan_avg = np.mean(manhattan_neighbors, axis=0)\n",
        "manhattan_std = np.std(manhattan_neighbors, axis=0)\n",
        "manhattan_avg_overall = np.mean(manhattan_neighbors)\n",
        "manhattan_std_overall = np.std(manhattan_neighbors)\n",
        "\n",
        "# Calculate distances from 'Outside' points to '203' points\n",
        "outside_to_203_euclidean = cdist(data_outside, data_203, metric='euclidean')\n",
        "outside_to_203_manhattan = cdist(data_outside, data_203, metric='cityblock')\n",
        "\n",
        "# Find top 3 nearest distances for 'Outside' points\n",
        "outside_euclidean_neighbors = np.sort(outside_to_203_euclidean, axis=1)[:, :k]\n",
        "outside_manhattan_neighbors = np.sort(outside_to_203_manhattan, axis=1)[:, :k]\n",
        "\n",
        "print(outside_euclidean_neighbors)\n",
        "print(outside_manhattan_neighbors)\n",
        "\n",
        "# Summary of results\n",
        "results = {\n",
        "    \"Euclidean\": {\n",
        "        \"Min Distance\": euclidean_neighbors.min(axis=0).tolist(),\n",
        "        \"Max Distance\": euclidean_neighbors.max(axis=0).tolist(),\n",
        "        \"Avg Distance per Neighbor\": euclidean_avg.tolist(),\n",
        "        \"Std Dev per Neighbor\": euclidean_std.tolist(),\n",
        "        \"Overall Avg Distance\": euclidean_avg_overall,\n",
        "        \"Overall Std Dev\": euclidean_std_overall,\n",
        "        \"Outside Top 3 Avg\": np.mean(outside_euclidean_neighbors, axis=0).tolist(),\n",
        "        \"Outside Top 3 Std Dev\": np.std(outside_euclidean_neighbors, axis=0).tolist(),\n",
        "    },\n",
        "    \"Manhattan\": {\n",
        "        \"Min Distance\": manhattan_neighbors.min(axis=0).tolist(),\n",
        "        \"Max Distance\": manhattan_neighbors.max(axis=0).tolist(),\n",
        "        \"Avg Distance per Neighbor\": manhattan_avg.tolist(),\n",
        "        \"Std Dev per Neighbor\": manhattan_std.tolist(),\n",
        "        \"Overall Avg Distance\": manhattan_avg_overall,\n",
        "        \"Overall Std Dev\": manhattan_std_overall,\n",
        "        \"Outside Top 3 Avg\": np.mean(outside_manhattan_neighbors, axis=0).tolist(),\n",
        "        \"Outside Top 3 Std Dev\": np.std(outside_manhattan_neighbors, axis=0).tolist(),\n",
        "    }\n",
        "}\n",
        "\n",
        "# Print results\n",
        "for metric, stats in results.items():\n",
        "    print(f\"\\n{metric} Distance Statistics:\")\n",
        "    for stat_name, value in stats.items():\n",
        "        print(f\"{stat_name}: {value}\")\n"
      ]
    },
    {
      "cell_type": "code",
      "execution_count": null,
      "metadata": {},
      "outputs": [
        {
          "name": "stderr",
          "output_type": "stream",
          "text": [
            "/home/nahin/anaconda3/envs/image_ml/lib/python3.9/site-packages/umap/umap_.py:1952: UserWarning:\n",
            "\n",
            "n_jobs value 1 overridden to 1 by setting random_state. Use no seed for parallelism.\n",
            "\n"
          ]
        },
        {
          "data": {
            "application/vnd.plotly.v1+json": {
              "config": {
                "plotlyServerURL": "https://plot.ly"
              },
              "data": [
                {
                  "customdata": [
                    [
                      1,
                      "203"
                    ],
                    [
                      2,
                      "203"
                    ],
                    [
                      3,
                      "203"
                    ],
                    [
                      4,
                      "203"
                    ],
                    [
                      5,
                      "203"
                    ],
                    [
                      6,
                      "203"
                    ],
                    [
                      7,
                      "203"
                    ],
                    [
                      8,
                      "203"
                    ],
                    [
                      9,
                      "203"
                    ],
                    [
                      10,
                      "203"
                    ],
                    [
                      11,
                      "203"
                    ],
                    [
                      12,
                      "203"
                    ],
                    [
                      13,
                      "203"
                    ],
                    [
                      14,
                      "203"
                    ],
                    [
                      15,
                      "203"
                    ],
                    [
                      16,
                      "203"
                    ],
                    [
                      17,
                      "203"
                    ],
                    [
                      18,
                      "203"
                    ],
                    [
                      19,
                      "203"
                    ],
                    [
                      20,
                      "203"
                    ],
                    [
                      21,
                      "203"
                    ],
                    [
                      22,
                      "203"
                    ],
                    [
                      23,
                      "203"
                    ],
                    [
                      24,
                      "203"
                    ],
                    [
                      25,
                      "203"
                    ],
                    [
                      26,
                      "203"
                    ],
                    [
                      27,
                      "203"
                    ],
                    [
                      28,
                      "203"
                    ],
                    [
                      29,
                      "203"
                    ],
                    [
                      30,
                      "204"
                    ],
                    [
                      31,
                      "204"
                    ],
                    [
                      32,
                      "204"
                    ],
                    [
                      33,
                      "204"
                    ],
                    [
                      34,
                      "204"
                    ],
                    [
                      35,
                      "204"
                    ],
                    [
                      36,
                      "204"
                    ],
                    [
                      37,
                      "204"
                    ],
                    [
                      38,
                      "204"
                    ],
                    [
                      39,
                      "204"
                    ],
                    [
                      40,
                      "204"
                    ],
                    [
                      41,
                      "204"
                    ],
                    [
                      42,
                      "204"
                    ],
                    [
                      43,
                      "204"
                    ],
                    [
                      44,
                      "204"
                    ],
                    [
                      45,
                      "204"
                    ],
                    [
                      46,
                      "204"
                    ],
                    [
                      47,
                      "204"
                    ],
                    [
                      48,
                      "204"
                    ],
                    [
                      49,
                      "204"
                    ],
                    [
                      50,
                      "204"
                    ],
                    [
                      51,
                      "204"
                    ],
                    [
                      52,
                      "204"
                    ],
                    [
                      53,
                      "Outside"
                    ],
                    [
                      54,
                      "Outside"
                    ],
                    [
                      55,
                      "Outside"
                    ]
                  ],
                  "hovertemplate": "UMAP_1=%{x}<br>UMAP_2=%{y}<br>entryId=%{customdata[0]}<br>roomNo=%{customdata[1]}<br>DBSCAN_UMAP=%{marker.color}<extra></extra>",
                  "legendgroup": "",
                  "marker": {
                    "color": [
                      0,
                      0,
                      0,
                      0,
                      0,
                      0,
                      0,
                      0,
                      0,
                      1,
                      0,
                      0,
                      0,
                      0,
                      0,
                      1,
                      0,
                      0,
                      2,
                      3,
                      5,
                      2,
                      3,
                      0,
                      0,
                      5,
                      3,
                      3,
                      0,
                      4,
                      4,
                      5,
                      4,
                      4,
                      4,
                      4,
                      4,
                      5,
                      5,
                      5,
                      4,
                      5,
                      5,
                      4,
                      5,
                      5,
                      5,
                      4,
                      4,
                      4,
                      4,
                      4,
                      2,
                      2,
                      5
                    ],
                    "coloraxis": "coloraxis",
                    "symbol": "circle"
                  },
                  "mode": "markers",
                  "name": "",
                  "orientation": "v",
                  "showlegend": false,
                  "type": "scatter",
                  "x": [
                    10.046041488647461,
                    8.939360618591309,
                    12.584162712097168,
                    11.32838249206543,
                    11.742972373962402,
                    10.887301445007324,
                    10.09565544128418,
                    9.346662521362305,
                    11.227107048034668,
                    10.559525489807129,
                    12.381431579589844,
                    10.546316146850586,
                    11.386215209960938,
                    10.265570640563965,
                    9.658507347106934,
                    10.782293319702148,
                    11.823545455932617,
                    9.243544578552246,
                    9.185349464416504,
                    10.652024269104004,
                    11.180085182189941,
                    8.68399715423584,
                    11.416421890258789,
                    9.564105987548828,
                    12.070849418640137,
                    12.388897895812988,
                    11.028634071350098,
                    10.922699928283691,
                    10.701833724975586,
                    9.488629341125488,
                    8.095916748046875,
                    7.957839488983154,
                    7.895846366882324,
                    9.292118072509766,
                    9.162494659423828,
                    8.933467864990234,
                    7.331389427185059,
                    7.114710807800293,
                    8.97240924835205,
                    9.61860179901123,
                    8.635610580444336,
                    9.6532621383667,
                    7.564487934112549,
                    9.011717796325684,
                    8.5669527053833,
                    7.267486572265625,
                    9.112117767333984,
                    8.601705551147461,
                    8.526302337646484,
                    7.5802903175354,
                    8.205709457397461,
                    7.516237258911133,
                    8.797261238098145,
                    8.619797706604004,
                    9.846967697143555
                  ],
                  "xaxis": "x",
                  "y": [
                    -0.13275153934955597,
                    0.0728372186422348,
                    0.3976290225982666,
                    -0.33722299337387085,
                    0.4071251153945923,
                    0.20417027175426483,
                    -0.5365185141563416,
                    0.09252039343118668,
                    -0.0856848657131195,
                    -0.5103926062583923,
                    0.4685322344303131,
                    0.3809366226196289,
                    0.11006546765565872,
                    0.07857757061719894,
                    -0.0482182539999485,
                    -0.4187484681606293,
                    0.1722470223903656,
                    -0.3163965344429016,
                    0.9953336715698242,
                    1.0373659133911133,
                    0.6763173341751099,
                    0.7140410542488098,
                    1.2139617204666138,
                    0.48593100905418396,
                    0.5734900832176208,
                    0.935187041759491,
                    1.286710262298584,
                    1.4095487594604492,
                    0.4507684111595154,
                    3.2089149951934814,
                    3.2329559326171875,
                    2.752472400665283,
                    3.570657730102539,
                    3.285693407058716,
                    3.8586132526397705,
                    3.5875043869018555,
                    3.718221664428711,
                    3.272447109222412,
                    2.5988802909851074,
                    2.5291101932525635,
                    2.914696455001831,
                    1.369435429573059,
                    3.1134274005889893,
                    3.0639774799346924,
                    1.7218414545059204,
                    2.753798723220825,
                    1.9506853818893433,
                    3.3451385498046875,
                    3.761812448501587,
                    3.9338276386260986,
                    3.7627274990081787,
                    3.576835870742798,
                    0.8485792279243469,
                    1.1929618120193481,
                    0.9485675096511841
                  ],
                  "yaxis": "y"
                }
              ],
              "layout": {
                "coloraxis": {
                  "colorbar": {
                    "title": {
                      "text": "DBSCAN_UMAP"
                    }
                  },
                  "colorscale": [
                    [
                      0,
                      "#0d0887"
                    ],
                    [
                      0.1111111111111111,
                      "#46039f"
                    ],
                    [
                      0.2222222222222222,
                      "#7201a8"
                    ],
                    [
                      0.3333333333333333,
                      "#9c179e"
                    ],
                    [
                      0.4444444444444444,
                      "#bd3786"
                    ],
                    [
                      0.5555555555555556,
                      "#d8576b"
                    ],
                    [
                      0.6666666666666666,
                      "#ed7953"
                    ],
                    [
                      0.7777777777777778,
                      "#fb9f3a"
                    ],
                    [
                      0.8888888888888888,
                      "#fdca26"
                    ],
                    [
                      1,
                      "#f0f921"
                    ]
                  ]
                },
                "legend": {
                  "tracegroupgap": 0
                },
                "template": {
                  "data": {
                    "bar": [
                      {
                        "error_x": {
                          "color": "#2a3f5f"
                        },
                        "error_y": {
                          "color": "#2a3f5f"
                        },
                        "marker": {
                          "line": {
                            "color": "#E5ECF6",
                            "width": 0.5
                          },
                          "pattern": {
                            "fillmode": "overlay",
                            "size": 10,
                            "solidity": 0.2
                          }
                        },
                        "type": "bar"
                      }
                    ],
                    "barpolar": [
                      {
                        "marker": {
                          "line": {
                            "color": "#E5ECF6",
                            "width": 0.5
                          },
                          "pattern": {
                            "fillmode": "overlay",
                            "size": 10,
                            "solidity": 0.2
                          }
                        },
                        "type": "barpolar"
                      }
                    ],
                    "carpet": [
                      {
                        "aaxis": {
                          "endlinecolor": "#2a3f5f",
                          "gridcolor": "white",
                          "linecolor": "white",
                          "minorgridcolor": "white",
                          "startlinecolor": "#2a3f5f"
                        },
                        "baxis": {
                          "endlinecolor": "#2a3f5f",
                          "gridcolor": "white",
                          "linecolor": "white",
                          "minorgridcolor": "white",
                          "startlinecolor": "#2a3f5f"
                        },
                        "type": "carpet"
                      }
                    ],
                    "choropleth": [
                      {
                        "colorbar": {
                          "outlinewidth": 0,
                          "ticks": ""
                        },
                        "type": "choropleth"
                      }
                    ],
                    "contour": [
                      {
                        "colorbar": {
                          "outlinewidth": 0,
                          "ticks": ""
                        },
                        "colorscale": [
                          [
                            0,
                            "#0d0887"
                          ],
                          [
                            0.1111111111111111,
                            "#46039f"
                          ],
                          [
                            0.2222222222222222,
                            "#7201a8"
                          ],
                          [
                            0.3333333333333333,
                            "#9c179e"
                          ],
                          [
                            0.4444444444444444,
                            "#bd3786"
                          ],
                          [
                            0.5555555555555556,
                            "#d8576b"
                          ],
                          [
                            0.6666666666666666,
                            "#ed7953"
                          ],
                          [
                            0.7777777777777778,
                            "#fb9f3a"
                          ],
                          [
                            0.8888888888888888,
                            "#fdca26"
                          ],
                          [
                            1,
                            "#f0f921"
                          ]
                        ],
                        "type": "contour"
                      }
                    ],
                    "contourcarpet": [
                      {
                        "colorbar": {
                          "outlinewidth": 0,
                          "ticks": ""
                        },
                        "type": "contourcarpet"
                      }
                    ],
                    "heatmap": [
                      {
                        "colorbar": {
                          "outlinewidth": 0,
                          "ticks": ""
                        },
                        "colorscale": [
                          [
                            0,
                            "#0d0887"
                          ],
                          [
                            0.1111111111111111,
                            "#46039f"
                          ],
                          [
                            0.2222222222222222,
                            "#7201a8"
                          ],
                          [
                            0.3333333333333333,
                            "#9c179e"
                          ],
                          [
                            0.4444444444444444,
                            "#bd3786"
                          ],
                          [
                            0.5555555555555556,
                            "#d8576b"
                          ],
                          [
                            0.6666666666666666,
                            "#ed7953"
                          ],
                          [
                            0.7777777777777778,
                            "#fb9f3a"
                          ],
                          [
                            0.8888888888888888,
                            "#fdca26"
                          ],
                          [
                            1,
                            "#f0f921"
                          ]
                        ],
                        "type": "heatmap"
                      }
                    ],
                    "heatmapgl": [
                      {
                        "colorbar": {
                          "outlinewidth": 0,
                          "ticks": ""
                        },
                        "colorscale": [
                          [
                            0,
                            "#0d0887"
                          ],
                          [
                            0.1111111111111111,
                            "#46039f"
                          ],
                          [
                            0.2222222222222222,
                            "#7201a8"
                          ],
                          [
                            0.3333333333333333,
                            "#9c179e"
                          ],
                          [
                            0.4444444444444444,
                            "#bd3786"
                          ],
                          [
                            0.5555555555555556,
                            "#d8576b"
                          ],
                          [
                            0.6666666666666666,
                            "#ed7953"
                          ],
                          [
                            0.7777777777777778,
                            "#fb9f3a"
                          ],
                          [
                            0.8888888888888888,
                            "#fdca26"
                          ],
                          [
                            1,
                            "#f0f921"
                          ]
                        ],
                        "type": "heatmapgl"
                      }
                    ],
                    "histogram": [
                      {
                        "marker": {
                          "pattern": {
                            "fillmode": "overlay",
                            "size": 10,
                            "solidity": 0.2
                          }
                        },
                        "type": "histogram"
                      }
                    ],
                    "histogram2d": [
                      {
                        "colorbar": {
                          "outlinewidth": 0,
                          "ticks": ""
                        },
                        "colorscale": [
                          [
                            0,
                            "#0d0887"
                          ],
                          [
                            0.1111111111111111,
                            "#46039f"
                          ],
                          [
                            0.2222222222222222,
                            "#7201a8"
                          ],
                          [
                            0.3333333333333333,
                            "#9c179e"
                          ],
                          [
                            0.4444444444444444,
                            "#bd3786"
                          ],
                          [
                            0.5555555555555556,
                            "#d8576b"
                          ],
                          [
                            0.6666666666666666,
                            "#ed7953"
                          ],
                          [
                            0.7777777777777778,
                            "#fb9f3a"
                          ],
                          [
                            0.8888888888888888,
                            "#fdca26"
                          ],
                          [
                            1,
                            "#f0f921"
                          ]
                        ],
                        "type": "histogram2d"
                      }
                    ],
                    "histogram2dcontour": [
                      {
                        "colorbar": {
                          "outlinewidth": 0,
                          "ticks": ""
                        },
                        "colorscale": [
                          [
                            0,
                            "#0d0887"
                          ],
                          [
                            0.1111111111111111,
                            "#46039f"
                          ],
                          [
                            0.2222222222222222,
                            "#7201a8"
                          ],
                          [
                            0.3333333333333333,
                            "#9c179e"
                          ],
                          [
                            0.4444444444444444,
                            "#bd3786"
                          ],
                          [
                            0.5555555555555556,
                            "#d8576b"
                          ],
                          [
                            0.6666666666666666,
                            "#ed7953"
                          ],
                          [
                            0.7777777777777778,
                            "#fb9f3a"
                          ],
                          [
                            0.8888888888888888,
                            "#fdca26"
                          ],
                          [
                            1,
                            "#f0f921"
                          ]
                        ],
                        "type": "histogram2dcontour"
                      }
                    ],
                    "mesh3d": [
                      {
                        "colorbar": {
                          "outlinewidth": 0,
                          "ticks": ""
                        },
                        "type": "mesh3d"
                      }
                    ],
                    "parcoords": [
                      {
                        "line": {
                          "colorbar": {
                            "outlinewidth": 0,
                            "ticks": ""
                          }
                        },
                        "type": "parcoords"
                      }
                    ],
                    "pie": [
                      {
                        "automargin": true,
                        "type": "pie"
                      }
                    ],
                    "scatter": [
                      {
                        "fillpattern": {
                          "fillmode": "overlay",
                          "size": 10,
                          "solidity": 0.2
                        },
                        "type": "scatter"
                      }
                    ],
                    "scatter3d": [
                      {
                        "line": {
                          "colorbar": {
                            "outlinewidth": 0,
                            "ticks": ""
                          }
                        },
                        "marker": {
                          "colorbar": {
                            "outlinewidth": 0,
                            "ticks": ""
                          }
                        },
                        "type": "scatter3d"
                      }
                    ],
                    "scattercarpet": [
                      {
                        "marker": {
                          "colorbar": {
                            "outlinewidth": 0,
                            "ticks": ""
                          }
                        },
                        "type": "scattercarpet"
                      }
                    ],
                    "scattergeo": [
                      {
                        "marker": {
                          "colorbar": {
                            "outlinewidth": 0,
                            "ticks": ""
                          }
                        },
                        "type": "scattergeo"
                      }
                    ],
                    "scattergl": [
                      {
                        "marker": {
                          "colorbar": {
                            "outlinewidth": 0,
                            "ticks": ""
                          }
                        },
                        "type": "scattergl"
                      }
                    ],
                    "scattermapbox": [
                      {
                        "marker": {
                          "colorbar": {
                            "outlinewidth": 0,
                            "ticks": ""
                          }
                        },
                        "type": "scattermapbox"
                      }
                    ],
                    "scatterpolar": [
                      {
                        "marker": {
                          "colorbar": {
                            "outlinewidth": 0,
                            "ticks": ""
                          }
                        },
                        "type": "scatterpolar"
                      }
                    ],
                    "scatterpolargl": [
                      {
                        "marker": {
                          "colorbar": {
                            "outlinewidth": 0,
                            "ticks": ""
                          }
                        },
                        "type": "scatterpolargl"
                      }
                    ],
                    "scatterternary": [
                      {
                        "marker": {
                          "colorbar": {
                            "outlinewidth": 0,
                            "ticks": ""
                          }
                        },
                        "type": "scatterternary"
                      }
                    ],
                    "surface": [
                      {
                        "colorbar": {
                          "outlinewidth": 0,
                          "ticks": ""
                        },
                        "colorscale": [
                          [
                            0,
                            "#0d0887"
                          ],
                          [
                            0.1111111111111111,
                            "#46039f"
                          ],
                          [
                            0.2222222222222222,
                            "#7201a8"
                          ],
                          [
                            0.3333333333333333,
                            "#9c179e"
                          ],
                          [
                            0.4444444444444444,
                            "#bd3786"
                          ],
                          [
                            0.5555555555555556,
                            "#d8576b"
                          ],
                          [
                            0.6666666666666666,
                            "#ed7953"
                          ],
                          [
                            0.7777777777777778,
                            "#fb9f3a"
                          ],
                          [
                            0.8888888888888888,
                            "#fdca26"
                          ],
                          [
                            1,
                            "#f0f921"
                          ]
                        ],
                        "type": "surface"
                      }
                    ],
                    "table": [
                      {
                        "cells": {
                          "fill": {
                            "color": "#EBF0F8"
                          },
                          "line": {
                            "color": "white"
                          }
                        },
                        "header": {
                          "fill": {
                            "color": "#C8D4E3"
                          },
                          "line": {
                            "color": "white"
                          }
                        },
                        "type": "table"
                      }
                    ]
                  },
                  "layout": {
                    "annotationdefaults": {
                      "arrowcolor": "#2a3f5f",
                      "arrowhead": 0,
                      "arrowwidth": 1
                    },
                    "autotypenumbers": "strict",
                    "coloraxis": {
                      "colorbar": {
                        "outlinewidth": 0,
                        "ticks": ""
                      }
                    },
                    "colorscale": {
                      "diverging": [
                        [
                          0,
                          "#8e0152"
                        ],
                        [
                          0.1,
                          "#c51b7d"
                        ],
                        [
                          0.2,
                          "#de77ae"
                        ],
                        [
                          0.3,
                          "#f1b6da"
                        ],
                        [
                          0.4,
                          "#fde0ef"
                        ],
                        [
                          0.5,
                          "#f7f7f7"
                        ],
                        [
                          0.6,
                          "#e6f5d0"
                        ],
                        [
                          0.7,
                          "#b8e186"
                        ],
                        [
                          0.8,
                          "#7fbc41"
                        ],
                        [
                          0.9,
                          "#4d9221"
                        ],
                        [
                          1,
                          "#276419"
                        ]
                      ],
                      "sequential": [
                        [
                          0,
                          "#0d0887"
                        ],
                        [
                          0.1111111111111111,
                          "#46039f"
                        ],
                        [
                          0.2222222222222222,
                          "#7201a8"
                        ],
                        [
                          0.3333333333333333,
                          "#9c179e"
                        ],
                        [
                          0.4444444444444444,
                          "#bd3786"
                        ],
                        [
                          0.5555555555555556,
                          "#d8576b"
                        ],
                        [
                          0.6666666666666666,
                          "#ed7953"
                        ],
                        [
                          0.7777777777777778,
                          "#fb9f3a"
                        ],
                        [
                          0.8888888888888888,
                          "#fdca26"
                        ],
                        [
                          1,
                          "#f0f921"
                        ]
                      ],
                      "sequentialminus": [
                        [
                          0,
                          "#0d0887"
                        ],
                        [
                          0.1111111111111111,
                          "#46039f"
                        ],
                        [
                          0.2222222222222222,
                          "#7201a8"
                        ],
                        [
                          0.3333333333333333,
                          "#9c179e"
                        ],
                        [
                          0.4444444444444444,
                          "#bd3786"
                        ],
                        [
                          0.5555555555555556,
                          "#d8576b"
                        ],
                        [
                          0.6666666666666666,
                          "#ed7953"
                        ],
                        [
                          0.7777777777777778,
                          "#fb9f3a"
                        ],
                        [
                          0.8888888888888888,
                          "#fdca26"
                        ],
                        [
                          1,
                          "#f0f921"
                        ]
                      ]
                    },
                    "colorway": [
                      "#636efa",
                      "#EF553B",
                      "#00cc96",
                      "#ab63fa",
                      "#FFA15A",
                      "#19d3f3",
                      "#FF6692",
                      "#B6E880",
                      "#FF97FF",
                      "#FECB52"
                    ],
                    "font": {
                      "color": "#2a3f5f"
                    },
                    "geo": {
                      "bgcolor": "white",
                      "lakecolor": "white",
                      "landcolor": "#E5ECF6",
                      "showlakes": true,
                      "showland": true,
                      "subunitcolor": "white"
                    },
                    "hoverlabel": {
                      "align": "left"
                    },
                    "hovermode": "closest",
                    "mapbox": {
                      "style": "light"
                    },
                    "paper_bgcolor": "white",
                    "plot_bgcolor": "#E5ECF6",
                    "polar": {
                      "angularaxis": {
                        "gridcolor": "white",
                        "linecolor": "white",
                        "ticks": ""
                      },
                      "bgcolor": "#E5ECF6",
                      "radialaxis": {
                        "gridcolor": "white",
                        "linecolor": "white",
                        "ticks": ""
                      }
                    },
                    "scene": {
                      "xaxis": {
                        "backgroundcolor": "#E5ECF6",
                        "gridcolor": "white",
                        "gridwidth": 2,
                        "linecolor": "white",
                        "showbackground": true,
                        "ticks": "",
                        "zerolinecolor": "white"
                      },
                      "yaxis": {
                        "backgroundcolor": "#E5ECF6",
                        "gridcolor": "white",
                        "gridwidth": 2,
                        "linecolor": "white",
                        "showbackground": true,
                        "ticks": "",
                        "zerolinecolor": "white"
                      },
                      "zaxis": {
                        "backgroundcolor": "#E5ECF6",
                        "gridcolor": "white",
                        "gridwidth": 2,
                        "linecolor": "white",
                        "showbackground": true,
                        "ticks": "",
                        "zerolinecolor": "white"
                      }
                    },
                    "shapedefaults": {
                      "line": {
                        "color": "#2a3f5f"
                      }
                    },
                    "ternary": {
                      "aaxis": {
                        "gridcolor": "white",
                        "linecolor": "white",
                        "ticks": ""
                      },
                      "baxis": {
                        "gridcolor": "white",
                        "linecolor": "white",
                        "ticks": ""
                      },
                      "bgcolor": "#E5ECF6",
                      "caxis": {
                        "gridcolor": "white",
                        "linecolor": "white",
                        "ticks": ""
                      }
                    },
                    "title": {
                      "x": 0.05
                    },
                    "xaxis": {
                      "automargin": true,
                      "gridcolor": "white",
                      "linecolor": "white",
                      "ticks": "",
                      "title": {
                        "standoff": 15
                      },
                      "zerolinecolor": "white",
                      "zerolinewidth": 2
                    },
                    "yaxis": {
                      "automargin": true,
                      "gridcolor": "white",
                      "linecolor": "white",
                      "ticks": "",
                      "title": {
                        "standoff": 15
                      },
                      "zerolinecolor": "white",
                      "zerolinewidth": 2
                    }
                  }
                },
                "title": {
                  "text": "UMAP Projection (DBSCAN Clusters After UMAP)"
                },
                "xaxis": {
                  "anchor": "y",
                  "domain": [
                    0,
                    1
                  ],
                  "title": {
                    "text": "UMAP_1"
                  }
                },
                "yaxis": {
                  "anchor": "x",
                  "domain": [
                    0,
                    1
                  ],
                  "title": {
                    "text": "UMAP_2"
                  }
                }
              }
            }
          },
          "metadata": {},
          "output_type": "display_data"
        },
        {
          "data": {
            "application/vnd.plotly.v1+json": {
              "config": {
                "plotlyServerURL": "https://plot.ly"
              },
              "data": [
                {
                  "customdata": [
                    [
                      1,
                      "203"
                    ],
                    [
                      2,
                      "203"
                    ],
                    [
                      3,
                      "203"
                    ],
                    [
                      4,
                      "203"
                    ],
                    [
                      5,
                      "203"
                    ],
                    [
                      6,
                      "203"
                    ],
                    [
                      7,
                      "203"
                    ],
                    [
                      8,
                      "203"
                    ],
                    [
                      9,
                      "203"
                    ],
                    [
                      10,
                      "203"
                    ],
                    [
                      11,
                      "203"
                    ],
                    [
                      12,
                      "203"
                    ],
                    [
                      13,
                      "203"
                    ],
                    [
                      14,
                      "203"
                    ],
                    [
                      15,
                      "203"
                    ],
                    [
                      16,
                      "203"
                    ],
                    [
                      17,
                      "203"
                    ],
                    [
                      18,
                      "203"
                    ],
                    [
                      19,
                      "203"
                    ],
                    [
                      20,
                      "203"
                    ],
                    [
                      21,
                      "203"
                    ],
                    [
                      22,
                      "203"
                    ],
                    [
                      23,
                      "203"
                    ],
                    [
                      24,
                      "203"
                    ],
                    [
                      25,
                      "203"
                    ],
                    [
                      26,
                      "203"
                    ],
                    [
                      27,
                      "203"
                    ],
                    [
                      28,
                      "203"
                    ],
                    [
                      29,
                      "203"
                    ],
                    [
                      30,
                      "204"
                    ],
                    [
                      31,
                      "204"
                    ],
                    [
                      32,
                      "204"
                    ],
                    [
                      33,
                      "204"
                    ],
                    [
                      34,
                      "204"
                    ],
                    [
                      35,
                      "204"
                    ],
                    [
                      36,
                      "204"
                    ],
                    [
                      37,
                      "204"
                    ],
                    [
                      38,
                      "204"
                    ],
                    [
                      39,
                      "204"
                    ],
                    [
                      40,
                      "204"
                    ],
                    [
                      41,
                      "204"
                    ],
                    [
                      42,
                      "204"
                    ],
                    [
                      43,
                      "204"
                    ],
                    [
                      44,
                      "204"
                    ],
                    [
                      45,
                      "204"
                    ],
                    [
                      46,
                      "204"
                    ],
                    [
                      47,
                      "204"
                    ],
                    [
                      48,
                      "204"
                    ],
                    [
                      49,
                      "204"
                    ],
                    [
                      50,
                      "204"
                    ],
                    [
                      51,
                      "204"
                    ],
                    [
                      52,
                      "204"
                    ],
                    [
                      53,
                      "Outside"
                    ],
                    [
                      54,
                      "Outside"
                    ],
                    [
                      55,
                      "Outside"
                    ]
                  ],
                  "hovertemplate": "tSNE_1=%{x}<br>tSNE_2=%{y}<br>entryId=%{customdata[0]}<br>roomNo=%{customdata[1]}<br>DBSCAN_tSNE=%{marker.color}<extra></extra>",
                  "legendgroup": "",
                  "marker": {
                    "color": [
                      0,
                      0,
                      1,
                      2,
                      2,
                      2,
                      0,
                      0,
                      2,
                      2,
                      1,
                      3,
                      2,
                      3,
                      0,
                      2,
                      2,
                      0,
                      4,
                      5,
                      5,
                      4,
                      5,
                      0,
                      9,
                      1,
                      5,
                      5,
                      2,
                      6,
                      7,
                      7,
                      7,
                      6,
                      6,
                      6,
                      7,
                      7,
                      6,
                      5,
                      6,
                      8,
                      7,
                      6,
                      4,
                      7,
                      6,
                      6,
                      6,
                      7,
                      7,
                      7,
                      4,
                      4,
                      8
                    ],
                    "coloraxis": "coloraxis",
                    "symbol": "circle"
                  },
                  "mode": "markers",
                  "name": "",
                  "orientation": "v",
                  "showlegend": false,
                  "type": "scatter",
                  "x": [
                    21.610471725463867,
                    26.8509578704834,
                    39.19892501831055,
                    21.888328552246094,
                    27.094873428344727,
                    12.654875755310059,
                    23.699129104614258,
                    22.391223907470703,
                    19.873136520385742,
                    19.79899024963379,
                    36.87477493286133,
                    7.938395977020264,
                    24.45916175842285,
                    9.907477378845215,
                    19.661375045776367,
                    16.263301849365234,
                    28.991430282592773,
                    29.24930763244629,
                    9.896224975585938,
                    -2.1931042671203613,
                    2.5848827362060547,
                    6.445431709289551,
                    0.03832947462797165,
                    16.98736000061035,
                    32.253353118896484,
                    36.13496780395508,
                    1.2711622714996338,
                    0.10528334975242615,
                    9.4105863571167,
                    -15.39244556427002,
                    -31.834735870361328,
                    -30.89188003540039,
                    -33.89338302612305,
                    -16.872737884521484,
                    -18.13303565979004,
                    -22.434545516967773,
                    -45.619808197021484,
                    -42.78266906738281,
                    -18.96457290649414,
                    -4.331343173980713,
                    -22.51653480529785,
                    14.141656875610352,
                    -38.79025650024414,
                    -12.37332534790039,
                    3.8286116123199463,
                    -43.99649429321289,
                    -17.22732925415039,
                    -26.239803314208984,
                    -24.040313720703125,
                    -41.13957595825195,
                    -31.039335250854492,
                    -41.581546783447266,
                    7.3868560791015625,
                    6.329433441162109,
                    15.223271369934082
                  ],
                  "xaxis": "x",
                  "y": [
                    -2.398491382598877,
                    -11.51152229309082,
                    19.72939109802246,
                    7.613289833068848,
                    12.771308898925781,
                    4.168270587921143,
                    -1.3051751852035522,
                    -11.399542808532715,
                    10.437447547912598,
                    5.329017639160156,
                    19.981250762939453,
                    9.268411636352539,
                    7.92479133605957,
                    10.589700698852539,
                    -6.641295909881592,
                    4.6225080490112305,
                    9.271995544433594,
                    -10.683351516723633,
                    -16.811607360839844,
                    15.643342971801758,
                    7.881393909454346,
                    -14.597253799438477,
                    7.649326801300049,
                    -7.914125919342041,
                    15.955044746398926,
                    22.93146514892578,
                    17.689651489257812,
                    12.80224323272705,
                    2.4934403896331787,
                    -10.77747631072998,
                    -16.428129196166992,
                    -20.237838745117188,
                    -14.477165222167969,
                    -7.423893451690674,
                    -14.139518737792969,
                    -8.024531364440918,
                    -11.166010856628418,
                    -16.42267608642578,
                    -2.5064480304718018,
                    4.884734153747559,
                    -4.549614906311035,
                    21.018409729003906,
                    -13.975106239318848,
                    -7.668260097503662,
                    -18.65655517578125,
                    -19.77008056640625,
                    0.15777172148227692,
                    -2.695251226425171,
                    -10.021427154541016,
                    -8.811625480651855,
                    -12.226068496704102,
                    -12.808438301086426,
                    -22.57575225830078,
                    -19.852310180664062,
                    17.652639389038086
                  ],
                  "yaxis": "y"
                }
              ],
              "layout": {
                "coloraxis": {
                  "colorbar": {
                    "title": {
                      "text": "DBSCAN_tSNE"
                    }
                  },
                  "colorscale": [
                    [
                      0,
                      "#0d0887"
                    ],
                    [
                      0.1111111111111111,
                      "#46039f"
                    ],
                    [
                      0.2222222222222222,
                      "#7201a8"
                    ],
                    [
                      0.3333333333333333,
                      "#9c179e"
                    ],
                    [
                      0.4444444444444444,
                      "#bd3786"
                    ],
                    [
                      0.5555555555555556,
                      "#d8576b"
                    ],
                    [
                      0.6666666666666666,
                      "#ed7953"
                    ],
                    [
                      0.7777777777777778,
                      "#fb9f3a"
                    ],
                    [
                      0.8888888888888888,
                      "#fdca26"
                    ],
                    [
                      1,
                      "#f0f921"
                    ]
                  ]
                },
                "legend": {
                  "tracegroupgap": 0
                },
                "template": {
                  "data": {
                    "bar": [
                      {
                        "error_x": {
                          "color": "#2a3f5f"
                        },
                        "error_y": {
                          "color": "#2a3f5f"
                        },
                        "marker": {
                          "line": {
                            "color": "#E5ECF6",
                            "width": 0.5
                          },
                          "pattern": {
                            "fillmode": "overlay",
                            "size": 10,
                            "solidity": 0.2
                          }
                        },
                        "type": "bar"
                      }
                    ],
                    "barpolar": [
                      {
                        "marker": {
                          "line": {
                            "color": "#E5ECF6",
                            "width": 0.5
                          },
                          "pattern": {
                            "fillmode": "overlay",
                            "size": 10,
                            "solidity": 0.2
                          }
                        },
                        "type": "barpolar"
                      }
                    ],
                    "carpet": [
                      {
                        "aaxis": {
                          "endlinecolor": "#2a3f5f",
                          "gridcolor": "white",
                          "linecolor": "white",
                          "minorgridcolor": "white",
                          "startlinecolor": "#2a3f5f"
                        },
                        "baxis": {
                          "endlinecolor": "#2a3f5f",
                          "gridcolor": "white",
                          "linecolor": "white",
                          "minorgridcolor": "white",
                          "startlinecolor": "#2a3f5f"
                        },
                        "type": "carpet"
                      }
                    ],
                    "choropleth": [
                      {
                        "colorbar": {
                          "outlinewidth": 0,
                          "ticks": ""
                        },
                        "type": "choropleth"
                      }
                    ],
                    "contour": [
                      {
                        "colorbar": {
                          "outlinewidth": 0,
                          "ticks": ""
                        },
                        "colorscale": [
                          [
                            0,
                            "#0d0887"
                          ],
                          [
                            0.1111111111111111,
                            "#46039f"
                          ],
                          [
                            0.2222222222222222,
                            "#7201a8"
                          ],
                          [
                            0.3333333333333333,
                            "#9c179e"
                          ],
                          [
                            0.4444444444444444,
                            "#bd3786"
                          ],
                          [
                            0.5555555555555556,
                            "#d8576b"
                          ],
                          [
                            0.6666666666666666,
                            "#ed7953"
                          ],
                          [
                            0.7777777777777778,
                            "#fb9f3a"
                          ],
                          [
                            0.8888888888888888,
                            "#fdca26"
                          ],
                          [
                            1,
                            "#f0f921"
                          ]
                        ],
                        "type": "contour"
                      }
                    ],
                    "contourcarpet": [
                      {
                        "colorbar": {
                          "outlinewidth": 0,
                          "ticks": ""
                        },
                        "type": "contourcarpet"
                      }
                    ],
                    "heatmap": [
                      {
                        "colorbar": {
                          "outlinewidth": 0,
                          "ticks": ""
                        },
                        "colorscale": [
                          [
                            0,
                            "#0d0887"
                          ],
                          [
                            0.1111111111111111,
                            "#46039f"
                          ],
                          [
                            0.2222222222222222,
                            "#7201a8"
                          ],
                          [
                            0.3333333333333333,
                            "#9c179e"
                          ],
                          [
                            0.4444444444444444,
                            "#bd3786"
                          ],
                          [
                            0.5555555555555556,
                            "#d8576b"
                          ],
                          [
                            0.6666666666666666,
                            "#ed7953"
                          ],
                          [
                            0.7777777777777778,
                            "#fb9f3a"
                          ],
                          [
                            0.8888888888888888,
                            "#fdca26"
                          ],
                          [
                            1,
                            "#f0f921"
                          ]
                        ],
                        "type": "heatmap"
                      }
                    ],
                    "heatmapgl": [
                      {
                        "colorbar": {
                          "outlinewidth": 0,
                          "ticks": ""
                        },
                        "colorscale": [
                          [
                            0,
                            "#0d0887"
                          ],
                          [
                            0.1111111111111111,
                            "#46039f"
                          ],
                          [
                            0.2222222222222222,
                            "#7201a8"
                          ],
                          [
                            0.3333333333333333,
                            "#9c179e"
                          ],
                          [
                            0.4444444444444444,
                            "#bd3786"
                          ],
                          [
                            0.5555555555555556,
                            "#d8576b"
                          ],
                          [
                            0.6666666666666666,
                            "#ed7953"
                          ],
                          [
                            0.7777777777777778,
                            "#fb9f3a"
                          ],
                          [
                            0.8888888888888888,
                            "#fdca26"
                          ],
                          [
                            1,
                            "#f0f921"
                          ]
                        ],
                        "type": "heatmapgl"
                      }
                    ],
                    "histogram": [
                      {
                        "marker": {
                          "pattern": {
                            "fillmode": "overlay",
                            "size": 10,
                            "solidity": 0.2
                          }
                        },
                        "type": "histogram"
                      }
                    ],
                    "histogram2d": [
                      {
                        "colorbar": {
                          "outlinewidth": 0,
                          "ticks": ""
                        },
                        "colorscale": [
                          [
                            0,
                            "#0d0887"
                          ],
                          [
                            0.1111111111111111,
                            "#46039f"
                          ],
                          [
                            0.2222222222222222,
                            "#7201a8"
                          ],
                          [
                            0.3333333333333333,
                            "#9c179e"
                          ],
                          [
                            0.4444444444444444,
                            "#bd3786"
                          ],
                          [
                            0.5555555555555556,
                            "#d8576b"
                          ],
                          [
                            0.6666666666666666,
                            "#ed7953"
                          ],
                          [
                            0.7777777777777778,
                            "#fb9f3a"
                          ],
                          [
                            0.8888888888888888,
                            "#fdca26"
                          ],
                          [
                            1,
                            "#f0f921"
                          ]
                        ],
                        "type": "histogram2d"
                      }
                    ],
                    "histogram2dcontour": [
                      {
                        "colorbar": {
                          "outlinewidth": 0,
                          "ticks": ""
                        },
                        "colorscale": [
                          [
                            0,
                            "#0d0887"
                          ],
                          [
                            0.1111111111111111,
                            "#46039f"
                          ],
                          [
                            0.2222222222222222,
                            "#7201a8"
                          ],
                          [
                            0.3333333333333333,
                            "#9c179e"
                          ],
                          [
                            0.4444444444444444,
                            "#bd3786"
                          ],
                          [
                            0.5555555555555556,
                            "#d8576b"
                          ],
                          [
                            0.6666666666666666,
                            "#ed7953"
                          ],
                          [
                            0.7777777777777778,
                            "#fb9f3a"
                          ],
                          [
                            0.8888888888888888,
                            "#fdca26"
                          ],
                          [
                            1,
                            "#f0f921"
                          ]
                        ],
                        "type": "histogram2dcontour"
                      }
                    ],
                    "mesh3d": [
                      {
                        "colorbar": {
                          "outlinewidth": 0,
                          "ticks": ""
                        },
                        "type": "mesh3d"
                      }
                    ],
                    "parcoords": [
                      {
                        "line": {
                          "colorbar": {
                            "outlinewidth": 0,
                            "ticks": ""
                          }
                        },
                        "type": "parcoords"
                      }
                    ],
                    "pie": [
                      {
                        "automargin": true,
                        "type": "pie"
                      }
                    ],
                    "scatter": [
                      {
                        "fillpattern": {
                          "fillmode": "overlay",
                          "size": 10,
                          "solidity": 0.2
                        },
                        "type": "scatter"
                      }
                    ],
                    "scatter3d": [
                      {
                        "line": {
                          "colorbar": {
                            "outlinewidth": 0,
                            "ticks": ""
                          }
                        },
                        "marker": {
                          "colorbar": {
                            "outlinewidth": 0,
                            "ticks": ""
                          }
                        },
                        "type": "scatter3d"
                      }
                    ],
                    "scattercarpet": [
                      {
                        "marker": {
                          "colorbar": {
                            "outlinewidth": 0,
                            "ticks": ""
                          }
                        },
                        "type": "scattercarpet"
                      }
                    ],
                    "scattergeo": [
                      {
                        "marker": {
                          "colorbar": {
                            "outlinewidth": 0,
                            "ticks": ""
                          }
                        },
                        "type": "scattergeo"
                      }
                    ],
                    "scattergl": [
                      {
                        "marker": {
                          "colorbar": {
                            "outlinewidth": 0,
                            "ticks": ""
                          }
                        },
                        "type": "scattergl"
                      }
                    ],
                    "scattermapbox": [
                      {
                        "marker": {
                          "colorbar": {
                            "outlinewidth": 0,
                            "ticks": ""
                          }
                        },
                        "type": "scattermapbox"
                      }
                    ],
                    "scatterpolar": [
                      {
                        "marker": {
                          "colorbar": {
                            "outlinewidth": 0,
                            "ticks": ""
                          }
                        },
                        "type": "scatterpolar"
                      }
                    ],
                    "scatterpolargl": [
                      {
                        "marker": {
                          "colorbar": {
                            "outlinewidth": 0,
                            "ticks": ""
                          }
                        },
                        "type": "scatterpolargl"
                      }
                    ],
                    "scatterternary": [
                      {
                        "marker": {
                          "colorbar": {
                            "outlinewidth": 0,
                            "ticks": ""
                          }
                        },
                        "type": "scatterternary"
                      }
                    ],
                    "surface": [
                      {
                        "colorbar": {
                          "outlinewidth": 0,
                          "ticks": ""
                        },
                        "colorscale": [
                          [
                            0,
                            "#0d0887"
                          ],
                          [
                            0.1111111111111111,
                            "#46039f"
                          ],
                          [
                            0.2222222222222222,
                            "#7201a8"
                          ],
                          [
                            0.3333333333333333,
                            "#9c179e"
                          ],
                          [
                            0.4444444444444444,
                            "#bd3786"
                          ],
                          [
                            0.5555555555555556,
                            "#d8576b"
                          ],
                          [
                            0.6666666666666666,
                            "#ed7953"
                          ],
                          [
                            0.7777777777777778,
                            "#fb9f3a"
                          ],
                          [
                            0.8888888888888888,
                            "#fdca26"
                          ],
                          [
                            1,
                            "#f0f921"
                          ]
                        ],
                        "type": "surface"
                      }
                    ],
                    "table": [
                      {
                        "cells": {
                          "fill": {
                            "color": "#EBF0F8"
                          },
                          "line": {
                            "color": "white"
                          }
                        },
                        "header": {
                          "fill": {
                            "color": "#C8D4E3"
                          },
                          "line": {
                            "color": "white"
                          }
                        },
                        "type": "table"
                      }
                    ]
                  },
                  "layout": {
                    "annotationdefaults": {
                      "arrowcolor": "#2a3f5f",
                      "arrowhead": 0,
                      "arrowwidth": 1
                    },
                    "autotypenumbers": "strict",
                    "coloraxis": {
                      "colorbar": {
                        "outlinewidth": 0,
                        "ticks": ""
                      }
                    },
                    "colorscale": {
                      "diverging": [
                        [
                          0,
                          "#8e0152"
                        ],
                        [
                          0.1,
                          "#c51b7d"
                        ],
                        [
                          0.2,
                          "#de77ae"
                        ],
                        [
                          0.3,
                          "#f1b6da"
                        ],
                        [
                          0.4,
                          "#fde0ef"
                        ],
                        [
                          0.5,
                          "#f7f7f7"
                        ],
                        [
                          0.6,
                          "#e6f5d0"
                        ],
                        [
                          0.7,
                          "#b8e186"
                        ],
                        [
                          0.8,
                          "#7fbc41"
                        ],
                        [
                          0.9,
                          "#4d9221"
                        ],
                        [
                          1,
                          "#276419"
                        ]
                      ],
                      "sequential": [
                        [
                          0,
                          "#0d0887"
                        ],
                        [
                          0.1111111111111111,
                          "#46039f"
                        ],
                        [
                          0.2222222222222222,
                          "#7201a8"
                        ],
                        [
                          0.3333333333333333,
                          "#9c179e"
                        ],
                        [
                          0.4444444444444444,
                          "#bd3786"
                        ],
                        [
                          0.5555555555555556,
                          "#d8576b"
                        ],
                        [
                          0.6666666666666666,
                          "#ed7953"
                        ],
                        [
                          0.7777777777777778,
                          "#fb9f3a"
                        ],
                        [
                          0.8888888888888888,
                          "#fdca26"
                        ],
                        [
                          1,
                          "#f0f921"
                        ]
                      ],
                      "sequentialminus": [
                        [
                          0,
                          "#0d0887"
                        ],
                        [
                          0.1111111111111111,
                          "#46039f"
                        ],
                        [
                          0.2222222222222222,
                          "#7201a8"
                        ],
                        [
                          0.3333333333333333,
                          "#9c179e"
                        ],
                        [
                          0.4444444444444444,
                          "#bd3786"
                        ],
                        [
                          0.5555555555555556,
                          "#d8576b"
                        ],
                        [
                          0.6666666666666666,
                          "#ed7953"
                        ],
                        [
                          0.7777777777777778,
                          "#fb9f3a"
                        ],
                        [
                          0.8888888888888888,
                          "#fdca26"
                        ],
                        [
                          1,
                          "#f0f921"
                        ]
                      ]
                    },
                    "colorway": [
                      "#636efa",
                      "#EF553B",
                      "#00cc96",
                      "#ab63fa",
                      "#FFA15A",
                      "#19d3f3",
                      "#FF6692",
                      "#B6E880",
                      "#FF97FF",
                      "#FECB52"
                    ],
                    "font": {
                      "color": "#2a3f5f"
                    },
                    "geo": {
                      "bgcolor": "white",
                      "lakecolor": "white",
                      "landcolor": "#E5ECF6",
                      "showlakes": true,
                      "showland": true,
                      "subunitcolor": "white"
                    },
                    "hoverlabel": {
                      "align": "left"
                    },
                    "hovermode": "closest",
                    "mapbox": {
                      "style": "light"
                    },
                    "paper_bgcolor": "white",
                    "plot_bgcolor": "#E5ECF6",
                    "polar": {
                      "angularaxis": {
                        "gridcolor": "white",
                        "linecolor": "white",
                        "ticks": ""
                      },
                      "bgcolor": "#E5ECF6",
                      "radialaxis": {
                        "gridcolor": "white",
                        "linecolor": "white",
                        "ticks": ""
                      }
                    },
                    "scene": {
                      "xaxis": {
                        "backgroundcolor": "#E5ECF6",
                        "gridcolor": "white",
                        "gridwidth": 2,
                        "linecolor": "white",
                        "showbackground": true,
                        "ticks": "",
                        "zerolinecolor": "white"
                      },
                      "yaxis": {
                        "backgroundcolor": "#E5ECF6",
                        "gridcolor": "white",
                        "gridwidth": 2,
                        "linecolor": "white",
                        "showbackground": true,
                        "ticks": "",
                        "zerolinecolor": "white"
                      },
                      "zaxis": {
                        "backgroundcolor": "#E5ECF6",
                        "gridcolor": "white",
                        "gridwidth": 2,
                        "linecolor": "white",
                        "showbackground": true,
                        "ticks": "",
                        "zerolinecolor": "white"
                      }
                    },
                    "shapedefaults": {
                      "line": {
                        "color": "#2a3f5f"
                      }
                    },
                    "ternary": {
                      "aaxis": {
                        "gridcolor": "white",
                        "linecolor": "white",
                        "ticks": ""
                      },
                      "baxis": {
                        "gridcolor": "white",
                        "linecolor": "white",
                        "ticks": ""
                      },
                      "bgcolor": "#E5ECF6",
                      "caxis": {
                        "gridcolor": "white",
                        "linecolor": "white",
                        "ticks": ""
                      }
                    },
                    "title": {
                      "x": 0.05
                    },
                    "xaxis": {
                      "automargin": true,
                      "gridcolor": "white",
                      "linecolor": "white",
                      "ticks": "",
                      "title": {
                        "standoff": 15
                      },
                      "zerolinecolor": "white",
                      "zerolinewidth": 2
                    },
                    "yaxis": {
                      "automargin": true,
                      "gridcolor": "white",
                      "linecolor": "white",
                      "ticks": "",
                      "title": {
                        "standoff": 15
                      },
                      "zerolinecolor": "white",
                      "zerolinewidth": 2
                    }
                  }
                },
                "title": {
                  "text": "t-SNE Projection (DBSCAN Clusters After t-SNE)"
                },
                "xaxis": {
                  "anchor": "y",
                  "domain": [
                    0,
                    1
                  ],
                  "title": {
                    "text": "tSNE_1"
                  }
                },
                "yaxis": {
                  "anchor": "x",
                  "domain": [
                    0,
                    1
                  ],
                  "title": {
                    "text": "tSNE_2"
                  }
                }
              }
            }
          },
          "metadata": {},
          "output_type": "display_data"
        }
      ],
      "source": [
        "import pandas as pd\n",
        "import numpy as np\n",
        "import plotly.express as px\n",
        "from sklearn.preprocessing import StandardScaler\n",
        "from sklearn.cluster import DBSCAN\n",
        "from sklearn.manifold import TSNE\n",
        "from umap import UMAP\n",
        "\n",
        "# Load your data\n",
        "data = pd.read_csv(folder + \"matrix.csv\")\n",
        "\n",
        "# Extract features (columns starting from the 3rd)\n",
        "features = data.iloc[:, 2:].values\n",
        "\n",
        "# Normalize features\n",
        "scaler = StandardScaler()\n",
        "features_scaled = scaler.fit_transform(features)\n",
        "\n",
        "# Generate UMAP embeddings\n",
        "umap_reducer = UMAP(random_state=42)\n",
        "umap_embedding = umap_reducer.fit_transform(features_scaled)\n",
        "\n",
        "# Generate t-SNE embeddings\n",
        "tsne = TSNE(n_components=2, random_state=42, perplexity=5)\n",
        "tsne_embedding = tsne.fit_transform(features_scaled)\n",
        "\n",
        "# Apply DBSCAN to UMAP embeddings\n",
        "dbscan_umap = DBSCAN(eps=0.46, min_samples=2)  # Adjust parameters as needed\n",
        "dbscan_umap_labels = dbscan_umap.fit_predict(umap_embedding)\n",
        "\n",
        "# Apply DBSCAN to t-SNE embeddings\n",
        "dbscan_tsne = DBSCAN(eps=5.5, min_samples=2)  # Adjust parameters as needed\n",
        "dbscan_tsne_labels = dbscan_tsne.fit_predict(tsne_embedding)\n",
        "\n",
        "# Assign new labels to clusters if DBSCAN identifies any outliers (-1)\n",
        "unique_labels_umap = set(dbscan_umap_labels)\n",
        "if -1 in unique_labels_umap:\n",
        "    dbscan_umap_labels = np.where(dbscan_umap_labels == -1, max(unique_labels_umap) + 1, dbscan_umap_labels)\n",
        "\n",
        "unique_labels_tsne = set(dbscan_tsne_labels)\n",
        "if -1 in unique_labels_tsne:\n",
        "    dbscan_tsne_labels = np.where(dbscan_tsne_labels == -1, max(unique_labels_tsne) + 1, dbscan_tsne_labels)\n",
        "\n",
        "# Add DBSCAN labels to the DataFrame\n",
        "data['DBSCAN_UMAP'] = dbscan_umap_labels\n",
        "data['DBSCAN_tSNE'] = dbscan_tsne_labels\n",
        "\n",
        "# Add embeddings to the DataFrame\n",
        "data['UMAP_1'] = umap_embedding[:, 0]\n",
        "data['UMAP_2'] = umap_embedding[:, 1]\n",
        "data['tSNE_1'] = tsne_embedding[:, 0]\n",
        "data['tSNE_2'] = tsne_embedding[:, 1]\n",
        "\n",
        "# Plot with Plotly\n",
        "# UMAP DBSCAN clusters\n",
        "fig_umap_dbscan = px.scatter(\n",
        "    data,\n",
        "    x=\"UMAP_1\",\n",
        "    y=\"UMAP_2\",\n",
        "    color=\"DBSCAN_UMAP\",\n",
        "    hover_data=data.columns[0:2],\n",
        "    title=\"UMAP Projection (DBSCAN Clusters After UMAP)\",\n",
        "    color_discrete_sequence=px.colors.qualitative.Plotly\n",
        ")\n",
        "\n",
        "# t-SNE DBSCAN clusters\n",
        "fig_tsne_dbscan = px.scatter(\n",
        "    data,\n",
        "    x=\"tSNE_1\",\n",
        "    y=\"tSNE_2\",\n",
        "    color=\"DBSCAN_tSNE\",\n",
        "    hover_data=data.columns[0:2],\n",
        "    title=\"t-SNE Projection (DBSCAN Clusters After t-SNE)\",\n",
        "    color_discrete_sequence=px.colors.qualitative.Plotly\n",
        ")\n",
        "\n",
        "# print(data.columns)\n",
        "\n",
        "# Display plots\n",
        "fig_umap_dbscan.show()\n",
        "fig_tsne_dbscan.show()\n"
      ]
    },
    {
      "cell_type": "code",
      "execution_count": null,
      "metadata": {},
      "outputs": [
        {
          "name": "stderr",
          "output_type": "stream",
          "text": [
            "/home/nahin/anaconda3/envs/image_ml/lib/python3.9/site-packages/umap/umap_.py:1952: UserWarning:\n",
            "\n",
            "n_jobs value 1 overridden to 1 by setting random_state. Use no seed for parallelism.\n",
            "\n"
          ]
        },
        {
          "name": "stdout",
          "output_type": "stream",
          "text": [
            "Min Distance: [0.16220770343050728, 0.27116073688995684, 0.40680377854791616]\n",
            "Max Distance: [0.5748736169653252, 0.6901832059129014, 0.9171116167210139]\n",
            "Avg Distance per Neighbor: [0.3260805320230985, 0.452473765496126, 0.5508015804512616]\n",
            "Std Dev per Neighbor: [0.11917367982554017, 0.09166499981622549, 0.12342417959635246]\n",
            "Overall Avg Distance: 0.443118625990162\n",
            "Overall Std Dev: 0.1451659039623195\n",
            "Outside Top 3 Avg: [0.40044311770016755, 0.5590883975399984, 0.9211352808976385]\n",
            "Outside Top 3 Std Dev: [0.16061874223146608, 0.1052635767726355, 0.17252833750623287]\n"
          ]
        }
      ],
      "source": [
        "import numpy as np\n",
        "import pandas as pd\n",
        "from scipy.spatial.distance import cdist\n",
        "from sklearn.preprocessing import StandardScaler\n",
        "from umap import UMAP\n",
        "from sklearn.manifold import TSNE\n",
        "\n",
        "# Load your data\n",
        "data = pd.read_csv(folder + \"matrix.csv\")\n",
        "\n",
        "# Extract features and labels\n",
        "features = data.iloc[:, 2:].values\n",
        "labels = data['roomNo'].values\n",
        "\n",
        "# Scale the features\n",
        "scaler = StandardScaler()\n",
        "features_scaled = scaler.fit_transform(features)\n",
        "\n",
        "# Apply UMAP or t-SNE\n",
        "umap_reducer = UMAP(random_state=42)\n",
        "umap_embedding = umap_reducer.fit_transform(features_scaled)\n",
        "\n",
        "# Alternative: Apply t-SNE\n",
        "tsne = TSNE(n_components=2, random_state=42, perplexity=5)\n",
        "tsne_embedding = tsne.fit_transform(features_scaled)\n",
        "\n",
        "# Choose the embedding for further calculations\n",
        "embedding = umap_embedding  # Use umap_embedding or tsne_embedding\n",
        "\n",
        "# Separate points by labels\n",
        "data_203 = embedding[labels == '203']\n",
        "data_outside = embedding[labels == 'Outside']\n",
        "\n",
        "# Calculate pairwise Euclidean distances within '203'\n",
        "k = 3  # Top k neighbors\n",
        "euclidean_distances_203 = cdist(data_203, data_203, metric='euclidean')\n",
        "euclidean_neighbors = np.sort(euclidean_distances_203, axis=1)[:, 1:k+1]  # Exclude self-distances\n",
        "\n",
        "# Calculate statistics for '203'\n",
        "euclidean_avg = np.mean(euclidean_neighbors, axis=0)\n",
        "euclidean_std = np.std(euclidean_neighbors, axis=0)\n",
        "euclidean_avg_overall = np.mean(euclidean_neighbors)\n",
        "euclidean_std_overall = np.std(euclidean_neighbors)\n",
        "\n",
        "# Calculate distances from 'Outside' points to '203'\n",
        "outside_to_203_euclidean = cdist(data_outside, data_203, metric='euclidean')\n",
        "outside_euclidean_neighbors = np.sort(outside_to_203_euclidean, axis=1)[:, :k]\n",
        "\n",
        "# Summary of results\n",
        "results = {\n",
        "    \"Euclidean\": {\n",
        "        \"Min Distance\": euclidean_neighbors.min(axis=0).tolist(),\n",
        "        \"Max Distance\": euclidean_neighbors.max(axis=0).tolist(),\n",
        "        \"Avg Distance per Neighbor\": euclidean_avg.tolist(),\n",
        "        \"Std Dev per Neighbor\": euclidean_std.tolist(),\n",
        "        \"Overall Avg Distance\": euclidean_avg_overall,\n",
        "        \"Overall Std Dev\": euclidean_std_overall,\n",
        "        \"Outside Top 3 Avg\": np.mean(outside_euclidean_neighbors, axis=0).tolist(),\n",
        "        \"Outside Top 3 Std Dev\": np.std(outside_euclidean_neighbors, axis=0).tolist(),\n",
        "    }\n",
        "}\n",
        "\n",
        "# Print results\n",
        "for stat_name, value in results[\"Euclidean\"].items():\n",
        "    print(f\"{stat_name}: {value}\")\n"
      ]
    }
  ],
  "metadata": {
    "colab": {
      "name": "Welcome To Colab",
      "provenance": []
    },
    "kernelspec": {
      "display_name": "Python 3",
      "name": "python3"
    },
    "language_info": {
      "codemirror_mode": {
        "name": "ipython",
        "version": 3
      },
      "file_extension": ".py",
      "mimetype": "text/x-python",
      "name": "python",
      "nbconvert_exporter": "python",
      "pygments_lexer": "ipython3",
      "version": "3.9.20"
    }
  },
  "nbformat": 4,
  "nbformat_minor": 0
}
